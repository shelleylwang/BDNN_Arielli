{
 "cells": [
  {
   "cell_type": "code",
   "execution_count": 3,
   "metadata": {},
   "outputs": [],
   "source": [
    "import pandas as pd\n",
    "\n",
    "def dataframe(data, name):\n",
    "    # Split each item into key and value\n",
    "    split_data = [item.split('=', 1) for item in data]\n",
    "\n",
    "    # Create a DataFrame\n",
    "    df = pd.DataFrame(split_data, columns=['Key', 'Value'])\n",
    "\n",
    "    # Save the DataFrame to a CSV file\n",
    "    df.to_csv(f'{name}_sumtxt_df.csv', index=False)\n",
    "    \n",
    "    return df\n"
   ]
  },
  {
   "cell_type": "markdown",
   "metadata": {},
   "source": [
    "## Proboscideans Replicate 9"
   ]
  },
  {
   "cell_type": "code",
   "execution_count": 5,
   "metadata": {},
   "outputs": [
    {
     "name": "stdout",
     "output_type": "stream",
     "text": [
      "['seed=-1', 'useCPPlib=1', 'cite=False', 'input_data=[\"/home/ubuntu/BDNN/Proboscidea/PyRate_analyses/BodySize_Island_SpTemp/proboscideans.py\"]', 'j=9', 'trait=1', 'logT=0', 'N=-1', 'wd=\"\"', 'out=\"_reg\"', 'singleton=0', 'frac_sampled_singleton=0', 'rescale=1', 'translate=0', 'd=\"\"', 'clade=-1', 'trait_file=\"\"', 'restore_mcmc=\"\"', 'filter=[inf, 0]', 'filter_taxa=\"/home/ubuntu/BDNN/Proboscidea/PyRate_analyses/BodySize_Island_SpTemp/FilterTaxa.txt\"', 'initDiv=0', 'PPmodeltest=False', 'log_marginal_rates=-1', 'log_sp_q_rates=False', 'drop_zero=0', 'drop_internal=False', 'tree=\"\"', 'sampling=1.0', 'bdc=False', 'eqr=False', 'plot=\"\"', 'plot2=\"\"', 'plot3=\"\"', 'plotRJ=\"\"', 'plotBDNN=\"\"', 'plotBDNN_effects=\"\"', 'plotBDNN_transf_features=\"\"', 'BDNN_groups={}', 'BDNN_interaction=\"\"', 'BDNN_interaction_fix=False', 'n_prior=100000', 'plotQ=\"\"', 'grid_plot=0', 'root_plot=0', 'min_age_plot=0', 'tag=\"\"', 'ltt=0', 'mProb=\"\"', 'BF=[]', 'data_info=False', 'SE_stats=[]', 'ginput=\"\"', 'combLog=\"\"', 'combLogRJ=\"\"', 'combBDNN=\"\"', 'resample=0', 'col_tag=[]', 'check_names=\"\"', 'reduceLog=\"\"', 'n=50000000', 's=10000', 'p=500000', 'b=0', 'fast_burnin=0', 'thread=[0, 0]', 'A=0', 'use_DA=False', 'r=1', 't=0.03', 'sw=100', 'M=10', 'B=1', 'T=1.0', 'S=1000', 'k=10', 'a=0.3', 'dpp_f=500', 'dpp_hp=2.0', 'dpp_eK=2.0', 'dpp_grid=1.5', 'dpp_nB=0', 'rj_pr=1', 'rj_Ga=1.5', 'rj_Gb=3.0', 'rj_beta=10', 'rj_dm=0', 'rj_bd_shift=0.5', 'se_gibbs=False', 'pL=[1.1, 1.1]', 'pM=[1.1, 1.1]', 'pP=[1.5, 0.0]', 'pS=2.5', 'pC=1', 'cauchy=[-1, -1]', 'min_dt=1.0', 'mHPP=False', 'mL=1', 'mM=1', 'mC=False', 'mCov=0', 'mG=True', 'mPoiD=False', 'mBirth=-1', 'mDeath=False', 'mBDI=-1', 'ncat=4', 'fixShift=\"/home/ubuntu/BDNN/Proboscidea/PyRate_analyses/BodySize_Island_SpTemp/FixedTimeShifts.txt\"', 'qShift=\"/home/ubuntu/BDNN/Proboscidea/PyRate_analyses/BodySize_Island_SpTemp/sampling_epochs.txt\"', 'fixSE=\"\"', 'ADE=0', 'discrete=False', 'twotrait=False', 'bound=[inf, 0]', 'partialBD=False', 'edgeShift=[inf, 0]', 'qFilter=1', 'FBDrange=0', 'BDNNmodel=1', 'BDNNnodes=[16, 8]', 'BDNNfadlad=0', 'BDNNtimetrait=0.025719358233084202', 'BDNNconstbaseline=1', 'BDNNoutputfun=5', 'BDNNactfun=5', 'BDNNprior=1', 'BDNNreg=1.0', 'BDNNblockmodel=False', 'BDNNtimevar=\"\"', 'BDNNpath_taxon_time_tables=[\"/home/ubuntu/BDNN/Proboscidea/PyRate_analyses/BodySize_Island_SpTemp/BDNN_predictors/9/speciation\", \"/home/ubuntu/BDNN/Proboscidea/PyRate_analyses/BodySize_Island_SpTemp/BDNN_predictors/9/extinction\"]', 'BDNNexport_taxon_time_tables=False', 'BDNNupdate_se_f=[0.6]', 'BDNNupdate_f=[0.1]', 'BDNNdd=False', 'BDNNpklfile=\"\"', 'BDNN_pred_importance=\"\"', 'BDNN_pred_importance_nperm=100', 'BDNN_pred_importance_only_main=True', 'BDNN_pred_importance_window_size=-1.0', 'edge_indicator=False', 'tT=1.0', 'nT=5', 'tQ=[1.2, 1.2]', 'tR=1.2', 'tS=1.0', 'fR=0.5', 'fS=0.7', 'fQ=0.5', 'tC=[0.2, 0.2, 0.15]', 'fU=[0.02, 0.18, 0]', 'multiR=1', 'tHP=[1.2, 1.2]']\n"
     ]
    }
   ],
   "source": [
    "# DO NOT RUN AGAIN, outputted CSV has been edited by hand. Don't want to override it\n",
    "\n",
    "# proboscideans_9_reg_G_BDS_BDNN_16_8TVc_sum.txt\n",
    "Body_size_9 = [\n",
    "    'seed=-1', 'useCPPlib=1', 'cite=False', \n",
    "    'input_data=[\"/home/ubuntu/BDNN/Proboscidea/PyRate_analyses/BodySize_Island_SpTemp/proboscideans.py\"]',\n",
    "    'j=9', 'trait=1', 'logT=0', 'N=-1', 'wd=\"\"', 'out=\"_reg\"', 'singleton=0',\n",
    "    'frac_sampled_singleton=0', 'rescale=1', 'translate=0', 'd=\"\"', 'clade=-1',\n",
    "    'trait_file=\"\"', 'restore_mcmc=\"\"', 'filter=[inf, 0]',\n",
    "    'filter_taxa=\"/home/ubuntu/BDNN/Proboscidea/PyRate_analyses/BodySize_Island_SpTemp/FilterTaxa.txt\"',\n",
    "    'initDiv=0', 'PPmodeltest=False', 'log_marginal_rates=-1', 'log_sp_q_rates=False',\n",
    "    'drop_zero=0', 'drop_internal=False', 'tree=\"\"', 'sampling=1.0', 'bdc=False',\n",
    "    'eqr=False', 'plot=\"\"', 'plot2=\"\"', 'plot3=\"\"', 'plotRJ=\"\"', 'plotBDNN=\"\"',\n",
    "    'plotBDNN_effects=\"\"', 'plotBDNN_transf_features=\"\"', 'BDNN_groups={}',\n",
    "    'BDNN_interaction=\"\"', 'BDNN_interaction_fix=False', 'n_prior=100000', 'plotQ=\"\"',\n",
    "    'grid_plot=0', 'root_plot=0', 'min_age_plot=0', 'tag=\"\"', 'ltt=0', 'mProb=\"\"',\n",
    "    'BF=[]', 'data_info=False', 'SE_stats=[]', 'ginput=\"\"', 'combLog=\"\"',\n",
    "    'combLogRJ=\"\"', 'combBDNN=\"\"', 'resample=0', 'col_tag=[]', 'check_names=\"\"',\n",
    "    'reduceLog=\"\"', 'n=50000000', 's=10000', 'p=500000', 'b=0', 'fast_burnin=0',\n",
    "    'thread=[0, 0]', 'A=0', 'use_DA=False', 'r=1', 't=0.03', 'sw=100', 'M=10', 'B=1',\n",
    "    'T=1.0', 'S=1000', 'k=10', 'a=0.3', 'dpp_f=500', 'dpp_hp=2.0', 'dpp_eK=2.0',\n",
    "    'dpp_grid=1.5', 'dpp_nB=0', 'rj_pr=1', 'rj_Ga=1.5', 'rj_Gb=3.0', 'rj_beta=10',\n",
    "    'rj_dm=0', 'rj_bd_shift=0.5', 'se_gibbs=False', 'pL=[1.1, 1.1]', 'pM=[1.1, 1.1]',\n",
    "    'pP=[1.5, 0.0]', 'pS=2.5', 'pC=1', 'cauchy=[-1, -1]', 'min_dt=1.0', 'mHPP=False',\n",
    "    'mL=1', 'mM=1', 'mC=False', 'mCov=0', 'mG=True', 'mPoiD=False', 'mBirth=-1',\n",
    "    'mDeath=False', 'mBDI=-1', 'ncat=4',\n",
    "    'fixShift=\"/home/ubuntu/BDNN/Proboscidea/PyRate_analyses/BodySize_Island_SpTemp/FixedTimeShifts.txt\"',\n",
    "    'qShift=\"/home/ubuntu/BDNN/Proboscidea/PyRate_analyses/BodySize_Island_SpTemp/sampling_epochs.txt\"',\n",
    "    'fixSE=\"\"', 'ADE=0', 'discrete=False', 'twotrait=False', 'bound=[inf, 0]',\n",
    "    'partialBD=False', 'edgeShift=[inf, 0]', 'qFilter=1', 'FBDrange=0', 'BDNNmodel=1',\n",
    "    'BDNNnodes=[16, 8]', 'BDNNfadlad=0', 'BDNNtimetrait=0.025719358233084202',\n",
    "    'BDNNconstbaseline=1', 'BDNNoutputfun=5', 'BDNNactfun=5', 'BDNNprior=1',\n",
    "    'BDNNreg=1.0', 'BDNNblockmodel=False', 'BDNNtimevar=\"\"',\n",
    "    'BDNNpath_taxon_time_tables=[\"/home/ubuntu/BDNN/Proboscidea/PyRate_analyses/BodySize_Island_SpTemp/BDNN_predictors/9/speciation\", \"/home/ubuntu/BDNN/Proboscidea/PyRate_analyses/BodySize_Island_SpTemp/BDNN_predictors/9/extinction\"]',\n",
    "    'BDNNexport_taxon_time_tables=False', 'BDNNupdate_se_f=[0.6]', 'BDNNupdate_f=[0.1]',\n",
    "    'BDNNdd=False', 'BDNNpklfile=\"\"', 'BDNN_pred_importance=\"\"',\n",
    "    'BDNN_pred_importance_nperm=100', 'BDNN_pred_importance_only_main=True',\n",
    "    'BDNN_pred_importance_window_size=-1.0', 'edge_indicator=False', 'tT=1.0', 'nT=5',\n",
    "    'tQ=[1.2, 1.2]', 'tR=1.2', 'tS=1.0', 'fR=0.5', 'fS=0.7', 'fQ=0.5',\n",
    "    'tC=[0.2, 0.2, 0.15]', 'fU=[0.02, 0.18, 0]', 'multiR=1', 'tHP=[1.2, 1.2]'\n",
    "]\n",
    "\n",
    "# DO NOT RUN AGAIN, outputted CSV has been edited by hand. Don't want to override it\n",
    "dataframe(Body_size_9, \"Body_size_9\")\n",
    "print(Body_size_9)\n",
    "\n"
   ]
  },
  {
   "cell_type": "code",
   "execution_count": null,
   "metadata": {},
   "outputs": [],
   "source": []
  }
 ],
 "metadata": {
  "kernelspec": {
   "display_name": "Python 3",
   "language": "python",
   "name": "python3"
  },
  "language_info": {
   "codemirror_mode": {
    "name": "ipython",
    "version": 3
   },
   "file_extension": ".py",
   "mimetype": "text/x-python",
   "name": "python",
   "nbconvert_exporter": "python",
   "pygments_lexer": "ipython3",
   "version": "3.8.5"
  }
 },
 "nbformat": 4,
 "nbformat_minor": 2
}
