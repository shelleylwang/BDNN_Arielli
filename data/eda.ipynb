{
 "cells": [
  {
   "cell_type": "markdown",
   "metadata": {},
   "source": [
    "This EDA nb is using occurrence tables e-mailed from Tiago on 9/27 (duplicated, with rotated lat and long columns)"
   ]
  },
  {
   "cell_type": "markdown",
   "metadata": {},
   "source": [
    "## Imports + Loading In Data"
   ]
  },
  {
   "cell_type": "code",
   "execution_count": 1,
   "metadata": {},
   "outputs": [],
   "source": [
    "import pandas as pd\n"
   ]
  },
  {
   "cell_type": "code",
   "execution_count": 6,
   "metadata": {},
   "outputs": [
    {
     "name": "stdout",
     "output_type": "stream",
     "text": [
      "Collecting openpyxl\n",
      "  Downloading openpyxl-3.1.5-py2.py3-none-any.whl.metadata (2.5 kB)\n",
      "Collecting et-xmlfile (from openpyxl)\n",
      "  Downloading et_xmlfile-1.1.0-py3-none-any.whl.metadata (1.8 kB)\n",
      "Downloading openpyxl-3.1.5-py2.py3-none-any.whl (250 kB)\n",
      "Downloading et_xmlfile-1.1.0-py3-none-any.whl (4.7 kB)\n",
      "Installing collected packages: et-xmlfile, openpyxl\n",
      "Successfully installed et-xmlfile-1.1.0 openpyxl-3.1.5\n",
      "Note: you may need to restart the kernel to use updated packages.\n"
     ]
    }
   ],
   "source": [
    "%pip install openpyxl"
   ]
  },
  {
   "cell_type": "code",
   "execution_count": 9,
   "metadata": {},
   "outputs": [],
   "source": [
    "# Loading in data w/ rotated coordinates\n",
    "rep = pd.read_excel('reptilia_occ_genus.xlsm', engine='openpyxl')\n",
    "syn = pd.read_excel('synapsida_occ_genus.xlsm', engine='openpyxl')\n",
    "tem = pd.read_excel('temnospondyli_occ_genus.xlsm', engine='openpyxl')"
   ]
  },
  {
   "cell_type": "markdown",
   "metadata": {},
   "source": [
    "## Confirming that this is dataset w/ duplicated rows (eda_duplicates)"
   ]
  },
  {
   "cell_type": "code",
   "execution_count": 11,
   "metadata": {},
   "outputs": [],
   "source": [
    "# Loading in datasets that I had previously duplicated (i.e., the output of eda_duplicates.ipynb)\n",
    "rep_old = pd.read_csv('occurrence_tables_1/reptilia_dup.csv')\n",
    "syn_old = pd.read_csv('occurrence_tables_1/synapsida_dup.csv')\n",
    "tem_old = pd.read_csv('occurrence_tables_1/temnospondyli_dup.csv')"
   ]
  },
  {
   "cell_type": "code",
   "execution_count": 12,
   "metadata": {},
   "outputs": [
    {
     "data": {
      "text/plain": [
       "(4411, 4411, 3422, 3422, 2247, 2247)"
      ]
     },
     "execution_count": 12,
     "metadata": {},
     "output_type": "execute_result"
    }
   ],
   "source": [
    "# Checking that the lengths of the original and new datasets are the same\n",
    "len(rep_old), len(rep), len(syn_old), len(syn), len(tem_old), len(tem)"
   ]
  },
  {
   "cell_type": "code",
   "execution_count": 14,
   "metadata": {},
   "outputs": [
    {
     "data": {
      "text/plain": [
       "1.0    2032\n",
       "Name: abund_value, dtype: int64"
      ]
     },
     "execution_count": 14,
     "metadata": {},
     "output_type": "execute_result"
    }
   ],
   "source": [
    "# One last double-check to make sure that the datasets are the same\n",
    "# All 'abund_values' for \"individuals\" should be 1\n",
    "individuals = rep[rep['abund_unit'] == 'individuals']\n",
    "individuals['abund_value'].value_counts()"
   ]
  },
  {
   "cell_type": "markdown",
   "metadata": {},
   "source": [
    "## Filtering to BDNN columns"
   ]
  },
  {
   "cell_type": "code",
   "execution_count": 15,
   "metadata": {},
   "outputs": [
    {
     "data": {
      "text/plain": [
       "Index(['id', 'Rotated Lat', 'Rotated Lon', 'occurrence_no', 'pres_mode',\n",
       "       'preservation_quality', 'common_body_parts', 'abund_value',\n",
       "       'abund_unit', 'class', 'family', 'genus', 'taxon_environment',\n",
       "       'life_habit', 'diet', 'early_interval', 'late_interval', 'time_bins',\n",
       "       'museum', 'collection_no', 'age_max', 'age_min', 'age_median',\n",
       "       'age_uncer_range', 'lng', 'lat', 'environment', 'occurrence_comments',\n",
       "       'cc', 'state', 'county', 'formation', 'stratgroup', 'member', 'zone',\n",
       "       'accepted_rank', 'ref_author', 'ref_pubyr', 'reference_no.x',\n",
       "       'collection_name', 'collection_subset', 'collection_aka',\n",
       "       'latlng_basis', 'latlng_precision', 'geogscale', 'geogcomments',\n",
       "       'paleomodel', 'geoplate', 'paleoage', 'paleolng', 'paleolat',\n",
       "       'paleomodel2', 'geoplate2', 'paleoage2', 'paleolng2', 'paleolat2',\n",
       "       'paleomodel3', 'geoplate3', 'paleoage3', 'paleolng3', 'paleolat3',\n",
       "       'protected', 'stratscale', 'localsection', 'localbed', 'stratcomments',\n",
       "       'lithdescript', 'lithology1', 'lithadj1', 'lithification1',\n",
       "       'minor_lithology1', 'fossilsfrom1', 'lithology2', 'lithadj2',\n",
       "       'lithification2', 'minor_lithology2', 'fossilsfrom2',\n",
       "       'tectonic_setting', 'geology_comments', 'assembl_comps',\n",
       "       'articulated_parts', 'associated_parts', 'rare_body_parts',\n",
       "       'feed_pred_traces', 'artifacts', 'component_comments',\n",
       "       'spatial_resolution', 'temporal_resolution', 'lagerstatten',\n",
       "       'concentration', 'orientation', 'abund_in_sediment',\n",
       "       'collection_comments', 'taxonomy_comments'],\n",
       "      dtype='object')"
      ]
     },
     "execution_count": 15,
     "metadata": {},
     "output_type": "execute_result"
    }
   ],
   "source": [
    "rep.columns"
   ]
  },
  {
   "cell_type": "code",
   "execution_count": null,
   "metadata": {},
   "outputs": [],
   "source": []
  },
  {
   "cell_type": "code",
   "execution_count": null,
   "metadata": {},
   "outputs": [],
   "source": [
    "# More columns confirmed to come!\n",
    "rep_filtered = rep.drop(columns=['abund_unit', 'abund_value'])"
   ]
  },
  {
   "cell_type": "code",
   "execution_count": null,
   "metadata": {},
   "outputs": [],
   "source": []
  }
 ],
 "metadata": {
  "kernelspec": {
   "display_name": "env",
   "language": "python",
   "name": "python3"
  },
  "language_info": {
   "codemirror_mode": {
    "name": "ipython",
    "version": 3
   },
   "file_extension": ".py",
   "mimetype": "text/x-python",
   "name": "python",
   "nbconvert_exporter": "python",
   "pygments_lexer": "ipython3",
   "version": "3.10.14"
  }
 },
 "nbformat": 4,
 "nbformat_minor": 2
}
