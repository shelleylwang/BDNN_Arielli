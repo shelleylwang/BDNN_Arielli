{
 "cells": [
  {
   "cell_type": "markdown",
   "metadata": {},
   "source": [
    "This EDA nb is using occurrence tables e-mailed from Tiago on 9/27 (duplicated, with rotated lat and long columns)"
   ]
  },
  {
   "cell_type": "markdown",
   "metadata": {},
   "source": [
    "## Imports + Loading In Data"
   ]
  },
  {
   "cell_type": "code",
   "execution_count": 1,
   "metadata": {},
   "outputs": [],
   "source": [
    "import pandas as pd\n"
   ]
  },
  {
   "cell_type": "code",
   "execution_count": 2,
   "metadata": {},
   "outputs": [],
   "source": [
    "# %pip install openpyxl"
   ]
  },
  {
   "cell_type": "code",
   "execution_count": 3,
   "metadata": {},
   "outputs": [],
   "source": [
    "# Loading in data w/ rotated coordinates\n",
    "rep = pd.read_excel('reptilia_occ_genus.xlsm', engine='openpyxl')\n",
    "syn = pd.read_excel('synapsida_occ_genus.xlsm', engine='openpyxl')\n",
    "tem = pd.read_excel('temnospondyli_occ_genus.xlsm', engine='openpyxl')"
   ]
  },
  {
   "cell_type": "code",
   "execution_count": 4,
   "metadata": {},
   "outputs": [
    {
     "data": {
      "text/plain": [
       "1495"
      ]
     },
     "execution_count": 4,
     "metadata": {},
     "output_type": "execute_result"
    }
   ],
   "source": [
    "rep['county'].isna().sum()"
   ]
  },
  {
   "cell_type": "code",
   "execution_count": 5,
   "metadata": {},
   "outputs": [
    {
     "data": {
      "text/plain": [
       "Apache                    234\n",
       "Comanche                  152\n",
       "Rio Arriba                 88\n",
       "Franklin                   78\n",
       "Gloucestershire            67\n",
       "                         ... \n",
       "Malmyzh                     1\n",
       "Anson                       1\n",
       "Sa√É¬¥ne-et-Loire           1\n",
       "Huesca                      1\n",
       "Aliwal North Commonage      1\n",
       "Name: county, Length: 355, dtype: int64"
      ]
     },
     "execution_count": 5,
     "metadata": {},
     "output_type": "execute_result"
    }
   ],
   "source": [
    "rep['county'].value_counts()"
   ]
  },
  {
   "cell_type": "markdown",
   "metadata": {},
   "source": [
    "## Saving Nulls as CSV's"
   ]
  },
  {
   "cell_type": "code",
   "execution_count": 6,
   "metadata": {},
   "outputs": [],
   "source": [
    "# Seeing how many nulls are in each column will help us decide which columns to drop\n",
    "nulls_rep = rep.isna().sum()\n",
    "nulls_syn = syn.isna().sum()\n",
    "nulls_tem = tem.isna().sum()\n",
    "\n",
    "# Concatenating the nulls into a single dataframe based on a shared index\n",
    "# This will allow us to compare the nulls across the three datasets\n",
    "nulls = pd.concat([nulls_rep, nulls_syn, nulls_tem], axis=1)\n",
    "nulls.columns = ['Reptilia', 'Synapsida', 'Temnospondyli']\n",
    "\n",
    "nulls.to_csv('nulls.csv')"
   ]
  },
  {
   "cell_type": "code",
   "execution_count": 7,
   "metadata": {},
   "outputs": [
    {
     "data": {
      "text/plain": [
       "(119, 94)"
      ]
     },
     "execution_count": 7,
     "metadata": {},
     "output_type": "execute_result"
    }
   ],
   "source": [
    "# len of nulls df is diff from len of columns in rep\n",
    "# which means there are columns that are not shared\n",
    "len(nulls.index), len(rep.columns)"
   ]
  },
  {
   "cell_type": "code",
   "execution_count": 8,
   "metadata": {},
   "outputs": [
    {
     "name": "stdout",
     "output_type": "stream",
     "text": [
      "Index(['abund_in_sediment', 'artifacts', 'component_comments', 'concentration',\n",
      "       'fossilsfrom1', 'fossilsfrom2', 'lagerstatten', 'lithadj2', 'localbed',\n",
      "       'localsection', 'minor_lithology2', 'orientation', 'reference_no.x',\n",
      "       'temporal_resolution'],\n",
      "      dtype='object')\n"
     ]
    }
   ],
   "source": [
    "# Finding which columns rep, syn, and tem do not share\n",
    "# Crude code, just to see if there are any differences, not finding all differences\n",
    "# Because any not-shared columns wouldn't be included in the analysis anyway\n",
    "\n",
    "if rep.columns.all() == syn.columns.all() == tem.columns.all():\n",
    "    print('All columns are the same')\n",
    "else:\n",
    "    diff = rep.columns.difference(syn.columns).difference(tem.columns)\n",
    "    print(diff)"
   ]
  },
  {
   "cell_type": "markdown",
   "metadata": {},
   "source": [
    "## Confirming that these are Datasets w/ duplicated rows (eda_duplicates)"
   ]
  },
  {
   "cell_type": "code",
   "execution_count": 9,
   "metadata": {},
   "outputs": [],
   "source": [
    "# Loading in datasets that I had previously duplicated (i.e., the output of eda_duplicates.ipynb)\n",
    "rep_old = pd.read_csv('occurrence_tables_1/reptilia_dup.csv')\n",
    "syn_old = pd.read_csv('occurrence_tables_1/synapsida_dup.csv')\n",
    "tem_old = pd.read_csv('occurrence_tables_1/temnospondyli_dup.csv')"
   ]
  },
  {
   "cell_type": "code",
   "execution_count": 10,
   "metadata": {},
   "outputs": [
    {
     "data": {
      "text/plain": [
       "(4411, 4411, 3422, 3422, 2247, 2247)"
      ]
     },
     "execution_count": 10,
     "metadata": {},
     "output_type": "execute_result"
    }
   ],
   "source": [
    "# Checking that the lengths of the original and new datasets are the same\n",
    "len(rep_old), len(rep), len(syn_old), len(syn), len(tem_old), len(tem)"
   ]
  },
  {
   "cell_type": "code",
   "execution_count": 11,
   "metadata": {},
   "outputs": [
    {
     "data": {
      "text/plain": [
       "1.0    2032\n",
       "Name: abund_value, dtype: int64"
      ]
     },
     "execution_count": 11,
     "metadata": {},
     "output_type": "execute_result"
    }
   ],
   "source": [
    "# One last double-check to make sure that the datasets are the same\n",
    "# All 'abund_values' for \"individuals\" should be 1\n",
    "individuals = rep[rep['abund_unit'] == 'individuals']\n",
    "individuals['abund_value'].value_counts()"
   ]
  },
  {
   "cell_type": "markdown",
   "metadata": {},
   "source": [
    "## Filtering to BDNN columns"
   ]
  },
  {
   "cell_type": "code",
   "execution_count": 12,
   "metadata": {},
   "outputs": [
    {
     "data": {
      "text/plain": [
       "Index(['id', 'Rotated Lat', 'Rotated Lon', 'occurrence_no', 'pres_mode',\n",
       "       'preservation_quality', 'common_body_parts', 'abund_value',\n",
       "       'abund_unit', 'class', 'family', 'genus', 'taxon_environment',\n",
       "       'life_habit', 'diet', 'early_interval', 'late_interval', 'time_bins',\n",
       "       'museum', 'collection_no', 'age_max', 'age_min', 'age_median',\n",
       "       'age_uncer_range', 'lng', 'lat', 'environment', 'occurrence_comments',\n",
       "       'cc', 'state', 'county', 'formation', 'stratgroup', 'member', 'zone',\n",
       "       'accepted_rank', 'ref_author', 'ref_pubyr', 'reference_no.x',\n",
       "       'collection_name', 'collection_subset', 'collection_aka',\n",
       "       'latlng_basis', 'latlng_precision', 'geogscale', 'geogcomments',\n",
       "       'paleomodel', 'geoplate', 'paleoage', 'paleolng', 'paleolat',\n",
       "       'paleomodel2', 'geoplate2', 'paleoage2', 'paleolng2', 'paleolat2',\n",
       "       'paleomodel3', 'geoplate3', 'paleoage3', 'paleolng3', 'paleolat3',\n",
       "       'protected', 'stratscale', 'localsection', 'localbed', 'stratcomments',\n",
       "       'lithdescript', 'lithology1', 'lithadj1', 'lithification1',\n",
       "       'minor_lithology1', 'fossilsfrom1', 'lithology2', 'lithadj2',\n",
       "       'lithification2', 'minor_lithology2', 'fossilsfrom2',\n",
       "       'tectonic_setting', 'geology_comments', 'assembl_comps',\n",
       "       'articulated_parts', 'associated_parts', 'rare_body_parts',\n",
       "       'feed_pred_traces', 'artifacts', 'component_comments',\n",
       "       'spatial_resolution', 'temporal_resolution', 'lagerstatten',\n",
       "       'concentration', 'orientation', 'abund_in_sediment',\n",
       "       'collection_comments', 'taxonomy_comments'],\n",
       "      dtype='object')"
      ]
     },
     "execution_count": 12,
     "metadata": {},
     "output_type": "execute_result"
    }
   ],
   "source": [
    "rep.columns"
   ]
  },
  {
   "cell_type": "code",
   "execution_count": 13,
   "metadata": {},
   "outputs": [
    {
     "data": {
      "text/plain": [
       "Rotated Lat            0\n",
       "Rotated Lon            0\n",
       "genus                  0\n",
       "taxon_environment    310\n",
       "age_max                0\n",
       "age_min                0\n",
       "dtype: int64"
      ]
     },
     "execution_count": 13,
     "metadata": {},
     "output_type": "execute_result"
    }
   ],
   "source": [
    "# Still waiting on 'niche' info from Arielli\n",
    "syn_filtered = syn[['Rotated Lat', 'Rotated Lon', 'genus', 'taxon_environment', \n",
    "                    'age_max', 'age_min']]\n",
    "syn_filtered.isna().sum()"
   ]
  },
  {
   "cell_type": "code",
   "execution_count": 14,
   "metadata": {},
   "outputs": [
    {
     "data": {
      "text/plain": [
       "Rotated Lat           0\n",
       "Rotated Lon           0\n",
       "genus                 0\n",
       "taxon_environment    14\n",
       "age_max               0\n",
       "age_min               0\n",
       "dtype: int64"
      ]
     },
     "execution_count": 14,
     "metadata": {},
     "output_type": "execute_result"
    }
   ],
   "source": [
    "# Still waiting on 'niche' info from Arielli\n",
    "tem_filtered = tem[['Rotated Lat', 'Rotated Lon', 'genus', 'taxon_environment', \n",
    "                    'age_max', 'age_min']]\n",
    "tem_filtered.isna().sum()"
   ]
  },
  {
   "cell_type": "code",
   "execution_count": 15,
   "metadata": {},
   "outputs": [
    {
     "data": {
      "text/plain": [
       "Rotated Lat          0\n",
       "Rotated Lon          0\n",
       "genus                0\n",
       "taxon_environment    0\n",
       "age_max              0\n",
       "age_min              0\n",
       "dtype: int64"
      ]
     },
     "execution_count": 15,
     "metadata": {},
     "output_type": "execute_result"
    }
   ],
   "source": [
    "# Still waiting on 'niche' info from Arielli\n",
    "rep_filtered = rep[['Rotated Lat', 'Rotated Lon', 'genus', 'taxon_environment', \n",
    "                    'age_max', 'age_min']]\n",
    "rep_filtered.isna().sum()"
   ]
  },
  {
   "cell_type": "code",
   "execution_count": 16,
   "metadata": {},
   "outputs": [
    {
     "data": {
      "text/plain": [
       "0     terrestrial\n",
       "1     terrestrial\n",
       "2     terrestrial\n",
       "3     terrestrial\n",
       "4     terrestrial\n",
       "5     terrestrial\n",
       "6     terrestrial\n",
       "7     terrestrial\n",
       "8     terrestrial\n",
       "9     terrestrial\n",
       "10    terrestrial\n",
       "11    terrestrial\n",
       "12    terrestrial\n",
       "13    terrestrial\n",
       "14    terrestrial\n",
       "15    terrestrial\n",
       "16    terrestrial\n",
       "17    terrestrial\n",
       "18    terrestrial\n",
       "19    terrestrial\n",
       "Name: taxon_environment, dtype: object"
      ]
     },
     "execution_count": 16,
     "metadata": {},
     "output_type": "execute_result"
    }
   ],
   "source": [
    "rep_filtered['taxon_environment'].head(20)"
   ]
  },
  {
   "cell_type": "code",
   "execution_count": 17,
   "metadata": {},
   "outputs": [
    {
     "data": {
      "text/plain": [
       "0     lacustrine - large\n",
       "1     lacustrine - large\n",
       "2           fissure fill\n",
       "3           fissure fill\n",
       "4         fluvial indet.\n",
       "5     terrestrial indet.\n",
       "6     terrestrial indet.\n",
       "7           fissure fill\n",
       "8           fissure fill\n",
       "9           fissure fill\n",
       "10          fissure fill\n",
       "11          fissure fill\n",
       "12          fissure fill\n",
       "13          fissure fill\n",
       "14          fissure fill\n",
       "15          fissure fill\n",
       "16          fissure fill\n",
       "17          fissure fill\n",
       "18          fissure fill\n",
       "19          fissure fill\n",
       "Name: environment, dtype: object"
      ]
     },
     "execution_count": 17,
     "metadata": {},
     "output_type": "execute_result"
    }
   ],
   "source": [
    "rep['environment'].head(20)"
   ]
  },
  {
   "cell_type": "code",
   "execution_count": 18,
   "metadata": {},
   "outputs": [],
   "source": [
    "rep_filtered.to_csv('reptilia_processed_data/reptilia_bdnn.csv')\n",
    "syn_filtered.to_csv('synapsida_processed_data/synapsida_bdnn.csv')\n",
    "tem_filtered.to_csv('temnospondyli_processed_data/temnospondyli_bdnn.csv')\n"
   ]
  },
  {
   "cell_type": "markdown",
   "metadata": {},
   "source": [
    "## Prepping DeepDive columns"
   ]
  },
  {
   "cell_type": "code",
   "execution_count": 19,
   "metadata": {},
   "outputs": [
    {
     "data": {
      "text/html": [
       "<div>\n",
       "<style scoped>\n",
       "    .dataframe tbody tr th:only-of-type {\n",
       "        vertical-align: middle;\n",
       "    }\n",
       "\n",
       "    .dataframe tbody tr th {\n",
       "        vertical-align: top;\n",
       "    }\n",
       "\n",
       "    .dataframe thead th {\n",
       "        text-align: right;\n",
       "    }\n",
       "</style>\n",
       "<table border=\"1\" class=\"dataframe\">\n",
       "  <thead>\n",
       "    <tr style=\"text-align: right;\">\n",
       "      <th></th>\n",
       "      <th>genus</th>\n",
       "      <th>county</th>\n",
       "      <th>state</th>\n",
       "      <th>occurrence_no</th>\n",
       "      <th>age_max</th>\n",
       "      <th>age_min</th>\n",
       "      <th>cc</th>\n",
       "    </tr>\n",
       "  </thead>\n",
       "  <tbody>\n",
       "    <tr>\n",
       "      <th>0</th>\n",
       "      <td>Icarosaurus</td>\n",
       "      <td>Hudson</td>\n",
       "      <td>New Jersey</td>\n",
       "      <td>146084</td>\n",
       "      <td>227.000</td>\n",
       "      <td>208.5</td>\n",
       "      <td>US</td>\n",
       "    </tr>\n",
       "    <tr>\n",
       "      <th>1</th>\n",
       "      <td>Rutiodon</td>\n",
       "      <td>Hudson</td>\n",
       "      <td>New Jersey</td>\n",
       "      <td>146085</td>\n",
       "      <td>227.000</td>\n",
       "      <td>208.5</td>\n",
       "      <td>US</td>\n",
       "    </tr>\n",
       "    <tr>\n",
       "      <th>2</th>\n",
       "      <td>Kuehneosuchus</td>\n",
       "      <td>Somerset</td>\n",
       "      <td>England</td>\n",
       "      <td>146086</td>\n",
       "      <td>208.500</td>\n",
       "      <td>201.4</td>\n",
       "      <td>UK</td>\n",
       "    </tr>\n",
       "    <tr>\n",
       "      <th>3</th>\n",
       "      <td>Kuehneosaurus</td>\n",
       "      <td>Somerset</td>\n",
       "      <td>England</td>\n",
       "      <td>146087</td>\n",
       "      <td>208.500</td>\n",
       "      <td>201.4</td>\n",
       "      <td>UK</td>\n",
       "    </tr>\n",
       "    <tr>\n",
       "      <th>4</th>\n",
       "      <td>Procolophon</td>\n",
       "      <td>Chris Hani</td>\n",
       "      <td>Eastern Cape</td>\n",
       "      <td>147521</td>\n",
       "      <td>251.902</td>\n",
       "      <td>247.2</td>\n",
       "      <td>ZA</td>\n",
       "    </tr>\n",
       "  </tbody>\n",
       "</table>\n",
       "</div>"
      ],
      "text/plain": [
       "           genus      county         state occurrence_no  age_max  age_min  cc\n",
       "0    Icarosaurus      Hudson    New Jersey        146084  227.000    208.5  US\n",
       "1       Rutiodon      Hudson    New Jersey        146085  227.000    208.5  US\n",
       "2  Kuehneosuchus    Somerset       England        146086  208.500    201.4  UK\n",
       "3  Kuehneosaurus    Somerset       England        146087  208.500    201.4  UK\n",
       "4    Procolophon  Chris Hani  Eastern Cape        147521  251.902    247.2  ZA"
      ]
     },
     "execution_count": 19,
     "metadata": {},
     "output_type": "execute_result"
    }
   ],
   "source": [
    "rep_deepdive = rep[['genus', 'county', 'state', 'occurrence_no', 'age_max', 'age_min', 'cc']]\n",
    "rep_deepdive.head()"
   ]
  },
  {
   "cell_type": "code",
   "execution_count": 20,
   "metadata": {},
   "outputs": [],
   "source": [
    "syn_deepdive = syn[['genus', 'county', 'state', 'occurrence_no','age_max', 'age_min', 'cc']]\n",
    "tem_deepdive = tem[['genus', 'county', 'state', 'occurrence_no', 'age_max', 'age_min', 'cc']]"
   ]
  },
  {
   "cell_type": "markdown",
   "metadata": {},
   "source": [
    "### 'County' and 'State' Cols EDA"
   ]
  },
  {
   "cell_type": "markdown",
   "metadata": {},
   "source": [
    "#### Are 'County' Null Counts Reasonable?"
   ]
  },
  {
   "cell_type": "code",
   "execution_count": 21,
   "metadata": {},
   "outputs": [
    {
     "data": {
      "text/plain": [
       "genus               0\n",
       "county           1495\n",
       "state             212\n",
       "occurrence_no       0\n",
       "age_max             0\n",
       "age_min             0\n",
       "cc                  8\n",
       "dtype: int64"
      ]
     },
     "execution_count": 21,
     "metadata": {},
     "output_type": "execute_result"
    }
   ],
   "source": [
    "rep_deepdive.isna().sum()\n",
    "\n",
    "# 'county' has a lot of nulls, so I'm going to look back at the older datasets and see if that seems correct or\n",
    "# if an error occurred when I was duplicating the rows"
   ]
  },
  {
   "cell_type": "code",
   "execution_count": 22,
   "metadata": {},
   "outputs": [
    {
     "data": {
      "text/plain": [
       "1285964    300\n",
       "629477      91\n",
       "1586159     37\n",
       "902070      33\n",
       "486411      25\n",
       "          ... \n",
       "830763       1\n",
       "830777       1\n",
       "830855       1\n",
       "830859       1\n",
       "N84          1\n",
       "Name: occurrence_no, Length: 3145, dtype: int64"
      ]
     },
     "execution_count": 22,
     "metadata": {},
     "output_type": "execute_result"
    }
   ],
   "source": [
    "# Making sure occurrence no has >1 values, since there are duplicate rows (duplicated in eda_duplicates.ipynb)\n",
    "rep['occurrence_no'].value_counts()"
   ]
  },
  {
   "cell_type": "code",
   "execution_count": 23,
   "metadata": {},
   "outputs": [
    {
     "data": {
      "text/plain": [
       "genus        0\n",
       "county    1495\n",
       "state      212\n",
       "dtype: int64"
      ]
     },
     "execution_count": 23,
     "metadata": {},
     "output_type": "execute_result"
    }
   ],
   "source": [
    "# Loading in my original duplication output\n",
    "rep_original = pd.read_csv('occurrence_tables_1/reptilia_dup.csv')\n",
    "rep_original_filtered = rep_original[['genus', 'county', 'state']]\n",
    "rep_original_filtered.isna().sum()"
   ]
  },
  {
   "cell_type": "code",
   "execution_count": 24,
   "metadata": {},
   "outputs": [
    {
     "data": {
      "text/plain": [
       "genus       0\n",
       "county    920\n",
       "state     197\n",
       "dtype: int64"
      ]
     },
     "execution_count": 24,
     "metadata": {},
     "output_type": "execute_result"
    }
   ],
   "source": [
    "# Loading in the very first dataset (raw, no rotated lat and long)\n",
    "rep_old = pd.read_csv('occurrence_tables_1/reptilia_genus_occ_all.csv', encoding = 'latin1')\n",
    "rep_old_filtered = rep_old[['genus', 'county', 'state']]\n",
    "rep_old_filtered.isna().sum()"
   ]
  },
  {
   "cell_type": "markdown",
   "metadata": {},
   "source": [
    "#### Subsetting and Saving Just Duplicated Rows"
   ]
  },
  {
   "cell_type": "code",
   "execution_count": 25,
   "metadata": {},
   "outputs": [],
   "source": [
    "# Saving off just the parts in the deepdive dataset that were duplicated occurrences (i.e., the rows that were duplicated in eda_duplicates.ipynb)\n",
    "# Trying to see if there's a pattern in the 'county' nulls that I can fix\n",
    "rep_deepdive_dups = rep_deepdive[rep_deepdive.duplicated(subset=['occurrence_no'], keep=False)]\n",
    "rep_deepdive_dups.to_csv('reptilia_processed_data/reptilia_deepdive_dups.csv')\n",
    "\n",
    "syn_deepdive_dups = syn_deepdive[syn_deepdive.duplicated(subset=['occurrence_no'], keep=False)]\n",
    "syn_deepdive_dups.to_csv('synapsida_processed_data/synapsida_deepdive_dups.csv')\n",
    "\n",
    "tem_deepdive_dups = tem_deepdive[tem_deepdive.duplicated(subset=['occurrence_no'], keep=False)]\n",
    "tem_deepdive_dups.to_csv('temnospondyli_processed_data/temnospondyli_deepdive_dups.csv')"
   ]
  },
  {
   "cell_type": "markdown",
   "metadata": {},
   "source": [
    "#### Fixing Nonsensical Strings in 'County' and 'State'"
   ]
  },
  {
   "cell_type": "code",
   "execution_count": 30,
   "metadata": {},
   "outputs": [],
   "source": [
    "# Return rows in 'county' and 'state' columns that contain any non-letter characters\n",
    "import re\n",
    "\n",
    "# Function for outputting a CSV of unique values in a column that contain special characters\n",
    "def find_special_chars(df, col, clade):\n",
    "    df2 = df.copy()\n",
    "    df2[col] = df2[col].fillna('') # Have to fill empty values with something to use regex\n",
    "    non_letter = df2[df2[col].str.contains(r'[^a-zA-Z\\s\\-/\\'\\,\\(\\)]', na=False)] # Regex for non-letter characters, excluding hyphens and forward slashes\n",
    "    unique = non_letter[col].unique()\n",
    "    # Saving unique values to a CSV named after the clade and column\n",
    "    unique_df = pd.DataFrame(unique)\n",
    "    # unique_df.to_csv(f'{clade}_processed_data/{clade}_{col}_special_chars.csv') # Used this already during first run, so commenting out\n",
    "    # ^ Commenting out so I don't overwrite the files I've already saved. This is just for the first run.\n",
    "    return unique"
   ]
  },
  {
   "cell_type": "code",
   "execution_count": 31,
   "metadata": {},
   "outputs": [
    {
     "data": {
      "text/plain": [
       "(array(['Valle Fert√É¬≠l', 'Valle F√É¬©rtil', 'Vend√É¬©e',\n",
       "        'Wei√É¬üenburg-Gunzenhausen', 'S√É¬£o Gabriel', 'L√É¬∂rrach',\n",
       "        'Portel√É¬¢ndia', 'Perol√É¬¢ndia', 'S√É¬£o Mateus do Sul',\n",
       "        'Tatu√É¬≠', 'Rebou√É¬ßas', 'Candel√É¬°ria', 'N√É¬ºrnberger Land',\n",
       "        'Schw√É¬§bisch Hall', 'S√É¬£o Pedro do Sul', 'G√É¬∂ttingen',\n",
       "        'Sa√É¬¥ne-et-Loire', 'Baden-W√É¬ºrttemberg', 'Th√É¬ºringen',\n",
       "        'T√É¬ºbingen', 'S√É¬¢one-et-Loire', 'H√É¬©rault',\n",
       "        'S√É¬£o Jo√É¬£o do Pol√É¬™sine', 'Yuan√¢¬Ä¬ôan',\n",
       "        'Tarnowskie G√É¬≥ry', 'Arroio do S¬õ', 'Linha S?o Luiz',\n",
       "        'Toroqu√ø', 'Ribeir?o', 'Rinc?o dos Weiss', 'Acegu√ø',\n",
       "        'Sesmaria do Pinhal 1',\n",
       "        'cff Rafael prov√øvel material do MNRJ se sao os mesmo do livro tombo, Alemoa',\n",
       "        'Cerrito?', 'Sesmaria do Pinhal 2', 'V√ørzea do Agudo',\n",
       "        '?gua Negra', 'BR 158 federal road', 'Porto Mariante 2',\n",
       "        'Sao Jose?', 'Sao Jose? (embaixo do cemit?rio coletado por Price)'],\n",
       "       dtype=object),\n",
       " array(['Baden-W√É¬ºrttemberg', 'Nieder√É¬∂sterreich', 'T√É¬°chira',\n",
       "        'Sa√É¬Øda', 'Sk√É¬•ne', 'Goi√É¬°s', 'Paran√É¬°', 'S√É¬£o Paulo',\n",
       "        'Cear√É¬°', 'Guair√É¬°', 'Bourgogne-Franche-Comt√É¬©',\n",
       "        'Baden-W√É¬ºrttenburg', 'Nieder√É¬∂stereich',\n",
       "        'Baden-W√É¬ºrtteberg', 'Baden-W√É¬ºrttemburg',\n",
       "        'Bansk√É¬° Bystrica', 'Graub√É¬ºnden'], dtype=object))"
      ]
     },
     "execution_count": 31,
     "metadata": {},
     "output_type": "execute_result"
    }
   ],
   "source": [
    "# Reptilia\n",
    "find_special_chars(rep_deepdive, 'county', 'reptilia'), find_special_chars(rep_deepdive, 'state', 'reptilia')"
   ]
  },
  {
   "cell_type": "code",
   "execution_count": 329,
   "metadata": {},
   "outputs": [
    {
     "data": {
      "text/plain": [
       "(array(['Wei√É¬üeritzkreis', 'Schw√É¬§bisch Hall', 'T√É¬ºbingen',\n",
       "        'Sa√É¬¥ne-et-Loire', 'S√É¬£o Jo√É¬£o do Pol√É¬™sine',\n",
       "        'S√É¬£o Gabriel', 'Valle F√É¬©rtil', 'S?o Jer¬ìnimo da Serra',\n",
       "        'Toroqu¬†'], dtype=object),\n",
       " array(['Baden-W√É¬ºrttemberg', 'Sk√É¬•ne', 'Th√É¬ºringen',\n",
       "        'Azad Jammu & Kashmir', 'Rakovn√É¬≠k', 'Th√É¬ºringer Wald',\n",
       "        'Th√É¬ºringia', 'Paran√É¬°', 'Baden-W√É¬ºrtteberg'], dtype=object))"
      ]
     },
     "execution_count": 329,
     "metadata": {},
     "output_type": "execute_result"
    }
   ],
   "source": [
    "# Temnospondyli\n",
    "find_special_chars(tem_deepdive, 'county', 'temnospondyli'), find_special_chars(tem_deepdive, 'state', 'temnospondyli')"
   ]
  },
  {
   "cell_type": "code",
   "execution_count": 32,
   "metadata": {},
   "outputs": [
    {
     "data": {
      "text/plain": [
       "(array(['Valle Fert√É¬≠l', 'Sa√É¬¥ne-et-Loire', 'Wei√É¬üeritzkreis',\n",
       "        'Schw√É¬§bisch Hall', 'S√É¬£o Gabriel', 'Candel√É¬°ria',\n",
       "        'Kotel√¢¬Ä¬ônichskii', 'T√É¬ºbingen', '√É¬úr√É¬ºmqi', 'H√É¬©rault',\n",
       "        'Valle F√É¬©rtil', 'Vila Est¬Éncia Nova', 'Linha S?o Luiz',\n",
       "        'Linha S?o Luiz ', 'Sesmaria do Pinhal 1', 'V¬†rzea do Agudo',\n",
       "        'Botucara¬°', 'Rinc?o do Pinhal', 'Linha V¬†rzea 2',\n",
       "        'Linha V¬†rzea 1', 'Rinc?o do Semi?o ', 'Porto Mariante 2',\n",
       "        'Rinc?o da Porta', 'Catu¬áaba', 'BR 158 federal road',\n",
       "        'Linha Fac?o', 'Chiniqu¬†'], dtype=object),\n",
       " array(['Franch-Comt√É¬©', 'R√É¬≠o Negro', 'Baden-W√É¬ºrttemberg',\n",
       "        'Rakovn√É¬≠k', 'Paran√É¬°', 'H√É¬©rault'], dtype=object))"
      ]
     },
     "execution_count": 32,
     "metadata": {},
     "output_type": "execute_result"
    }
   ],
   "source": [
    "# Synapsida\n",
    "find_special_chars(syn_deepdive, 'county', 'synapsida'), find_special_chars(syn_deepdive, 'state', 'synapsida')"
   ]
  },
  {
   "cell_type": "code",
   "execution_count": 33,
   "metadata": {},
   "outputs": [],
   "source": [
    "# Special Characters Dictionary for Reptilia\n",
    "# To map special characters to their correct values\n",
    "\n",
    "rep_state_dict = {\n",
    "    \"Baden-W√É¬ºrttemberg\": \"Baden-Wurttemberg\",\n",
    "    \"Nieder√É¬∂sterreich\": \"Niederosterreich\",\n",
    "    \"T√É¬°chira\": \"Tachira\",\n",
    "    \"Sa√É¬Øda\": \"Saida\",\n",
    "    \"Sk√É¬•ne\": \"Skane\",\n",
    "    \"Goi√É¬°s\": \"Goias\",\n",
    "    \"Paran√É¬°\": \"Parana\",\n",
    "    \"S√É¬£o Paulo\": \"Sao Paulo\",\n",
    "    \"Cear√É¬°\": \"Ceara\",\n",
    "    \"Guair√É¬°\": \"Guaira\",\n",
    "    \"Bourgogne-Franche-Comt√É¬©\": \"Bourgogne-Franche-Comte\",\n",
    "    \"Baden-W√É¬ºrttenburg\": \"Baden-Wurttemberg\",\n",
    "    \"Nieder√É¬∂stereich\": \"Niederosterreich\",\n",
    "    \"Bayern (Bavaria)\": \"Bayern\",\n",
    "    \"Baden-W√É¬ºrtteberg\": \"Baden-Wurttemberg\",\n",
    "    \"Baden-W√É¬ºrttemburg\": \"Baden-Wurttemberg\",\n",
    "    \"Bansk√É¬° Bystrica\": \"Banska Bystrica\",\n",
    "    \"Graub√É¬ºnden\": \"Graubunden\"\n",
    "}\n",
    "\n",
    "rep_county_dict = {\n",
    "    \"Valle Fert√É¬≠l\": \"Valle Fertil\",\n",
    "    \"Valle F√É¬©rtil\": \"Valle Fertil\",\n",
    "    \"Vend√É¬©e\": \"Vendee\",\n",
    "    \"Wei√É¬üenburg-Gunzenhausen\": \"Weissenburg-Gunzenhausen\",\n",
    "    \"S√É¬£o Gabriel\": \"Sao Gabriel\",\n",
    "    \"L√É¬∂rrach\": \"Lorrach\",\n",
    "    \"Portel√É¬¢ndia\": \"Portelandia\",\n",
    "    \"Perol√É¬¢ndia\": \"Perolandia\",\n",
    "    \"S√É¬£o Mateus do Sul\": \"Sao Mateus do Sul\",\n",
    "    \"Tatu√É¬≠\": \"Tatui\",\n",
    "    \"Rebou√É¬ßas\": \"Reboucas\",\n",
    "    \"Candel√É¬°ria\": \"Candelaria\",\n",
    "    \"N√É¬ºrnberger Land\": \"Nurnberger Land\",\n",
    "    \"Schw√É¬§bisch Hall\": \"Schwabisch Hall\",\n",
    "    \"S√É¬£o Pedro do Sul\": \"Sao Pedro do Sul\",\n",
    "    \"G√É¬∂ttingen\": \"Gottingen\",\n",
    "    \"Sa√É¬¥ne-et-Loire\": \"Saone-et-Loire\",\n",
    "    \"Baden-W√É¬ºrttemberg\": \"Baden-Wurttemberg\",\n",
    "    \"Th√É¬ºringen\": \"Thuringen\",\n",
    "    \"T√É¬ºbingen\": \"Tubingen\",\n",
    "    \"S√É¬¢one-et-Loire\": \"Saone-et-Loire\",\n",
    "    \"H√É¬©rault\": \"Herault\",\n",
    "    \"S√É¬£o Jo√É¬£o do Pol√É¬™sine\": \"Sao Joao do Polesine\",\n",
    "    \"Yuan√¢¬Ä¬ôan\": \"Yuan'an\",\n",
    "    \"Tarnowskie G√É¬≥ry\": \"Tarnowskie Gory\",\n",
    "    \"Arroio do S¬õ\": \"Arroio do So\",\n",
    "    \"Linha S?o Luiz\": \"Linha Sao Luiz\",\n",
    "    \"Toroqu√ø\": \"Toroqua\",\n",
    "    \"Ribeir?o\": \"Ribeirao\",\n",
    "    \"Rinc?o dos Weiss\": \"Rincao dos Weiss\",\n",
    "    \"Acegu√ø\": \"Acegua\",\n",
    "    \"Sesmaria do Pinhal 1\": \"Sesmaria do Pinhal 1\",\n",
    "    \"cff Rafael prov√øvel material do MNRJ se sao os mesmo do livro tombo, Alemoa\": \"cff Rafael provavel material do MNRJ se sao os mesmo do livro tombo, Alemoa\",\n",
    "    \"Cerrito?\": \"Cerrito\",\n",
    "    \"Sesmaria do Pinhal 2\": \"Sesmaria do Pinhal 2\",\n",
    "    \"V√ørzea do Agudo\": \"Varzea do Agudo\",\n",
    "    \"?gua Negra\": \"Agua Negra\",\n",
    "    \"BR 158 federal road\": \"BR 158 federal road\",\n",
    "    \"Porto Mariante 2\": \"Porto Mariante 2\",\n",
    "    \"Sao Jose?\": \"Sao Jose\",\n",
    "    \"Sao Jose? (embaixo do cemit?rio coletado por Price)\": \"Sao Jose\"\n",
    "}\n",
    "\n",
    "\n"
   ]
  },
  {
   "cell_type": "code",
   "execution_count": 35,
   "metadata": {},
   "outputs": [
    {
     "name": "stdout",
     "output_type": "stream",
     "text": [
      "['Sesmaria do Pinhal 1' 'Sesmaria do Pinhal 2' 'BR 158 federal road'\n",
      " 'Porto Mariante 2']\n",
      "[]\n"
     ]
    }
   ],
   "source": [
    "# Cleaning special characters in 'state' and 'county' columns for Reptilia\n",
    "rep_deepdive_cleaned = rep_deepdive.copy()\n",
    "rep_deepdive_cleaned['state'] = rep_deepdive_cleaned['state'].replace(rep_state_dict)\n",
    "rep_deepdive_cleaned['county'] = rep_deepdive_cleaned['county'].replace(rep_county_dict)\n",
    "\n",
    "# Checking to see if the cleaning worked\n",
    "print(find_special_chars(rep_deepdive_cleaned, 'county', 'reptilia'))\n",
    "print(find_special_chars(rep_deepdive_cleaned, 'state', 'reptilia'))"
   ]
  },
  {
   "cell_type": "code",
   "execution_count": 36,
   "metadata": {},
   "outputs": [],
   "source": [
    "# Special Characters Dictionary for Synapsida\n",
    "\n",
    "syn_state_dict = {\n",
    "    \"Franch-Comt√É¬©\": \"Franche-Comte\",\n",
    "    \"R√É¬≠o Negro\": \"Rio Negro\",\n",
    "    \"Baden-W√É¬ºrttemberg\": \"Baden-Wurttemberg\",\n",
    "    \"Rakovn√É¬≠k\": \"Rakovnik\",\n",
    "    \"Paran√É¬°\": \"Parana\",\n",
    "    \"H√É¬©rault\": \"Herault\"\n",
    "}\n",
    "syn_county_dict = {\n",
    "    \"Valle Fert√É¬≠l\": \"Valle Fertil\",\n",
    "    \"Sa√É¬¥ne-et-Loire\": \"Saone-et-Loire\",\n",
    "    \"Wei√É¬üeritzkreis\": \"Weisseritzkreis\",\n",
    "    \"Schw√É¬§bisch Hall\": \"Schwabisch Hall\",\n",
    "    \"S√É¬£o Gabriel\": \"Sao Gabriel\",\n",
    "    \"Candel√É¬°ria\": \"Candelaria\",\n",
    "    \"Kotel√¢¬Ä¬ônichskii\": \"Kotelnichskii\",\n",
    "    \"T√É¬ºbingen\": \"Tubingen\",\n",
    "    \"√É¬úr√É¬ºmqi\": \"Urumqi\",\n",
    "    \"H√É¬©rault\": \"Herault\",\n",
    "    \"Valle F√É¬©rtil\": \"Valle Fertil\",\n",
    "    \"Vila Est¬Éncia Nova\": \"Vila Estancia Nova\",\n",
    "    \"Linha S?o Luiz\": \"Linha Sao Luiz\",\n",
    "    \"Linha S?o Luiz \": \"Linha Sao Luiz\",\n",
    "    \"V¬†rzea do Agudo\": \"Varzea do Agudo\",\n",
    "    \"Botucara¬°\": \"Botucara\",\n",
    "    \"Rinc?o do Pinhal\": \"Rincao do Pinhal\",\n",
    "    \"Linha V¬†rzea 2\": \"Linha Varzea 2\",\n",
    "    \"Linha V¬†rzea 1\": \"Linha Varzea 1\",\n",
    "    \"Rinc?o do Semi?o \": \"Rincao do Semiao\",\n",
    "    \"Rinc?o da Porta\": \"Rincao da Porta\",\n",
    "    \"Catu¬áaba\": \"Catuaba\",\n",
    "    \"Linha Fac?o\": \"Linha Facao\",\n",
    "    \"Chiniqu¬†\": \"Chinique\"\n",
    "}"
   ]
  },
  {
   "cell_type": "code",
   "execution_count": 37,
   "metadata": {},
   "outputs": [
    {
     "name": "stdout",
     "output_type": "stream",
     "text": [
      "['Sesmaria do Pinhal 1' 'Linha Varzea 2' 'Linha Varzea 1'\n",
      " 'Porto Mariante 2' 'BR 158 federal road']\n",
      "[]\n"
     ]
    }
   ],
   "source": [
    "# Cleaning special characters in 'state' and 'county' columns for Reptilia\n",
    "syn_deepdive_cleaned = syn_deepdive.copy()\n",
    "syn_deepdive_cleaned['state'] = syn_deepdive_cleaned['state'].replace(syn_state_dict)\n",
    "syn_deepdive_cleaned['county'] = syn_deepdive_cleaned['county'].replace(syn_county_dict)\n",
    "\n",
    "# Checking to see if the cleaning worked\n",
    "print(find_special_chars(syn_deepdive_cleaned, 'county', 'synapsida'))\n",
    "print(find_special_chars(syn_deepdive_cleaned, 'state', 'synapsida'))"
   ]
  },
  {
   "cell_type": "code",
   "execution_count": 38,
   "metadata": {},
   "outputs": [],
   "source": [
    "# Special Characters Dictionary for Temnospondyli\n",
    "\n",
    "tem_state_dict = {\n",
    "    \"Baden-W√É¬ºrttemberg\": \"Baden-Wurttemberg\",\n",
    "    \"Sk√É¬•ne\": \"Skane\",\n",
    "    \"Th√É¬ºringen\": \"Thuringen\",\n",
    "    \"Rakovn√É¬≠k\": \"Rakovnik\",\n",
    "    \"Th√É¬ºringer Wald\": \"Thuringer Wald\",\n",
    "    \"Th√É¬ºringia\": \"Thuringia\",\n",
    "    \"Paran√É¬°\": \"Parana\",\n",
    "    \"Baden-W√É¬ºrtteberg\": \"Baden-Wurttemberg\"\n",
    "}\n",
    "\n",
    "tem_county_dict = euro_southam_location_dict = {\n",
    "    \"Wei√É¬üeritzkreis\": \"Weisseritzkreis\",\n",
    "    \"Schw√É¬§bisch Hall\": \"Schwabisch Hall\",\n",
    "    \"T√É¬ºbingen\": \"Tubingen\",\n",
    "    \"Sa√É¬¥ne-et-Loire\": \"Saone-et-Loire\",\n",
    "    \"S√É¬£o Jo√É¬£o do Pol√É¬™sine\": \"Sao Joao do Polesine\",\n",
    "    \"S√É¬£o Gabriel\": \"Sao Gabriel\",\n",
    "    \"Valle F√É¬©rtil\": \"Valle Fertil\",\n",
    "    \"S?o Jer¬ìnimo da Serra\": \"Sao Jeronimo da Serra\",\n",
    "    \"Toroqu¬†\": \"Toroqua\"\n",
    "}"
   ]
  },
  {
   "cell_type": "code",
   "execution_count": 39,
   "metadata": {},
   "outputs": [
    {
     "name": "stdout",
     "output_type": "stream",
     "text": [
      "[]\n",
      "['Azad Jammu & Kashmir']\n"
     ]
    }
   ],
   "source": [
    "# Cleaning special characters in 'state' and 'county' columns for Reptilia\n",
    "tem_deepdive_cleaned = tem_deepdive.copy()\n",
    "tem_deepdive_cleaned['state'] = tem_deepdive_cleaned['state'].replace(tem_state_dict)\n",
    "tem_deepdive_cleaned['county'] = tem_deepdive_cleaned['county'].replace(tem_county_dict)\n",
    "\n",
    "# Checking to see if the cleaning worked\n",
    "print(find_special_chars(tem_deepdive_cleaned, 'county', 'temnospondyli'))\n",
    "print(find_special_chars(tem_deepdive_cleaned, 'state', 'temnospondyli'))"
   ]
  },
  {
   "cell_type": "code",
   "execution_count": 43,
   "metadata": {},
   "outputs": [
    {
     "data": {
      "text/plain": [
       "(355, 349, 209, 202)"
      ]
     },
     "execution_count": 43,
     "metadata": {},
     "output_type": "execute_result"
    }
   ],
   "source": [
    "# Note that some data will be lost, since some special character entries map to the same corrected value\n",
    "rep_deepdive['county'].nunique(), rep_deepdive_cleaned['county'].nunique(), rep_deepdive['state'].nunique(), rep_deepdive_cleaned['state'].nunique()"
   ]
  },
  {
   "cell_type": "code",
   "execution_count": 44,
   "metadata": {},
   "outputs": [
    {
     "data": {
      "text/plain": [
       "(255, 252, 118, 118)"
      ]
     },
     "execution_count": 44,
     "metadata": {},
     "output_type": "execute_result"
    }
   ],
   "source": [
    "syn_deepdive['county'].nunique(), syn_deepdive_cleaned['county'].nunique(), syn_deepdive['state'].nunique(), syn_deepdive_cleaned['state'].nunique()"
   ]
  },
  {
   "cell_type": "code",
   "execution_count": 45,
   "metadata": {},
   "outputs": [
    {
     "data": {
      "text/plain": [
       "(222, 222, 142, 139)"
      ]
     },
     "execution_count": 45,
     "metadata": {},
     "output_type": "execute_result"
    }
   ],
   "source": [
    "tem_deepdive['county'].nunique(), tem_deepdive_cleaned['county'].nunique(), tem_deepdive['state'].nunique(), tem_deepdive_cleaned['state'].nunique()"
   ]
  },
  {
   "cell_type": "code",
   "execution_count": 47,
   "metadata": {},
   "outputs": [
    {
     "data": {
      "text/plain": [
       "(4411, 4411, 3422, 3422, 2247, 2247)"
      ]
     },
     "execution_count": 47,
     "metadata": {},
     "output_type": "execute_result"
    }
   ],
   "source": [
    "# Checking that overall shape of the datasets hasn't changed\n",
    "len(rep_deepdive), len(rep_deepdive_cleaned), len(syn_deepdive), len(syn_deepdive_cleaned), len(tem_deepdive), len(tem_deepdive_cleaned)"
   ]
  },
  {
   "cell_type": "markdown",
   "metadata": {},
   "source": [
    "#### Imputing 'County' Nulls"
   ]
  },
  {
   "cell_type": "code",
   "execution_count": 48,
   "metadata": {},
   "outputs": [],
   "source": [
    "# First saving off a copy of the original 'county' column before we impute nulls\n",
    "rep_deepdive_cleaned['county_original'] = rep_deepdive_cleaned['county']   \n",
    "syn_deepdive_cleaned['county_original'] = syn_deepdive_cleaned['county']\n",
    "tem_deepdive_cleaned['county_original'] = tem_deepdive_cleaned['county']"
   ]
  },
  {
   "cell_type": "code",
   "execution_count": 49,
   "metadata": {},
   "outputs": [
    {
     "data": {
      "text/html": [
       "<div>\n",
       "<style scoped>\n",
       "    .dataframe tbody tr th:only-of-type {\n",
       "        vertical-align: middle;\n",
       "    }\n",
       "\n",
       "    .dataframe tbody tr th {\n",
       "        vertical-align: top;\n",
       "    }\n",
       "\n",
       "    .dataframe thead th {\n",
       "        text-align: right;\n",
       "    }\n",
       "</style>\n",
       "<table border=\"1\" class=\"dataframe\">\n",
       "  <thead>\n",
       "    <tr style=\"text-align: right;\">\n",
       "      <th></th>\n",
       "      <th>genus</th>\n",
       "      <th>county</th>\n",
       "      <th>state</th>\n",
       "      <th>occurrence_no</th>\n",
       "      <th>age_max</th>\n",
       "      <th>age_min</th>\n",
       "      <th>cc</th>\n",
       "      <th>county_original</th>\n",
       "    </tr>\n",
       "  </thead>\n",
       "  <tbody>\n",
       "    <tr>\n",
       "      <th>0</th>\n",
       "      <td>Icarosaurus</td>\n",
       "      <td>Hudson</td>\n",
       "      <td>New Jersey</td>\n",
       "      <td>146084</td>\n",
       "      <td>227.000</td>\n",
       "      <td>208.5</td>\n",
       "      <td>US</td>\n",
       "      <td>Hudson</td>\n",
       "    </tr>\n",
       "    <tr>\n",
       "      <th>1</th>\n",
       "      <td>Rutiodon</td>\n",
       "      <td>Hudson</td>\n",
       "      <td>New Jersey</td>\n",
       "      <td>146085</td>\n",
       "      <td>227.000</td>\n",
       "      <td>208.5</td>\n",
       "      <td>US</td>\n",
       "      <td>Hudson</td>\n",
       "    </tr>\n",
       "    <tr>\n",
       "      <th>2</th>\n",
       "      <td>Kuehneosuchus</td>\n",
       "      <td>Somerset</td>\n",
       "      <td>England</td>\n",
       "      <td>146086</td>\n",
       "      <td>208.500</td>\n",
       "      <td>201.4</td>\n",
       "      <td>UK</td>\n",
       "      <td>Somerset</td>\n",
       "    </tr>\n",
       "    <tr>\n",
       "      <th>3</th>\n",
       "      <td>Kuehneosaurus</td>\n",
       "      <td>Somerset</td>\n",
       "      <td>England</td>\n",
       "      <td>146087</td>\n",
       "      <td>208.500</td>\n",
       "      <td>201.4</td>\n",
       "      <td>UK</td>\n",
       "      <td>Somerset</td>\n",
       "    </tr>\n",
       "    <tr>\n",
       "      <th>4</th>\n",
       "      <td>Procolophon</td>\n",
       "      <td>Chris Hani</td>\n",
       "      <td>Eastern Cape</td>\n",
       "      <td>147521</td>\n",
       "      <td>251.902</td>\n",
       "      <td>247.2</td>\n",
       "      <td>ZA</td>\n",
       "      <td>Chris Hani</td>\n",
       "    </tr>\n",
       "  </tbody>\n",
       "</table>\n",
       "</div>"
      ],
      "text/plain": [
       "           genus      county         state occurrence_no  age_max  age_min  \\\n",
       "0    Icarosaurus      Hudson    New Jersey        146084  227.000    208.5   \n",
       "1       Rutiodon      Hudson    New Jersey        146085  227.000    208.5   \n",
       "2  Kuehneosuchus    Somerset       England        146086  208.500    201.4   \n",
       "3  Kuehneosaurus    Somerset       England        146087  208.500    201.4   \n",
       "4    Procolophon  Chris Hani  Eastern Cape        147521  251.902    247.2   \n",
       "\n",
       "   cc county_original  \n",
       "0  US          Hudson  \n",
       "1  US          Hudson  \n",
       "2  UK        Somerset  \n",
       "3  UK        Somerset  \n",
       "4  ZA      Chris Hani  "
      ]
     },
     "execution_count": 49,
     "metadata": {},
     "output_type": "execute_result"
    }
   ],
   "source": [
    "rep_deepdive_cleaned.head()"
   ]
  },
  {
   "cell_type": "code",
   "execution_count": 50,
   "metadata": {},
   "outputs": [],
   "source": [
    "def impute_county_nulls(df):\n",
    "    df_imputed = df.copy()\n",
    "    df_imputed.loc[df_imputed['county'] == '-', 'county'] = df_imputed['state']\n",
    "    df_imputed.loc[df_imputed['county'].isna(), 'county'] = df_imputed['state']\n",
    "    print('County hyphens count:', len(df_imputed.loc[df_imputed['county'] == '-', 'county']))\n",
    "    print('County nulls count:', len(df_imputed.loc[df_imputed['county'].isna(), 'county']))\n",
    "    print (df_imputed.loc[df_imputed['county'].isna()])\n",
    "    return df_imputed"
   ]
  },
  {
   "cell_type": "code",
   "execution_count": 51,
   "metadata": {},
   "outputs": [
    {
     "name": "stdout",
     "output_type": "stream",
     "text": [
      "County hyphens count: 0\n",
      "County nulls count: 198\n",
      "                genus county state occurrence_no  age_max  age_min  cc  \\\n",
      "56     Neusticosaurus    NaN   NaN        150315    247.2   237.00  CH   \n",
      "57         Mixosaurus    NaN   NaN        150316    247.2   237.00  CH   \n",
      "58      Rhipaeosaurus    NaN   NaN        219963    266.9   264.28  RU   \n",
      "94      Proganochelys    NaN   NaN        283825    216.7   213.20  GL   \n",
      "95         Aetosaurus    NaN   NaN        283826    227.0   208.50  GL   \n",
      "...               ...    ...   ...           ...      ...      ...  ..   \n",
      "4178      Macrocnemus    NaN   NaN       1600125    243.8   239.70  CH   \n",
      "4179      Lariosaurus    NaN   NaN       1600126    243.8   239.70  CH   \n",
      "4180    Askeptosaurus    NaN   NaN       1600127    243.8   239.70  CH   \n",
      "4181  Helveticosaurus    NaN   NaN       1600128    243.8   239.70  CH   \n",
      "4235   Prosantosaurus    NaN   NaN       1648022    242.0   239.70  CH   \n",
      "\n",
      "     county_original  \n",
      "56               NaN  \n",
      "57               NaN  \n",
      "58               NaN  \n",
      "94               NaN  \n",
      "95               NaN  \n",
      "...              ...  \n",
      "4178             NaN  \n",
      "4179             NaN  \n",
      "4180             NaN  \n",
      "4181             NaN  \n",
      "4235             NaN  \n",
      "\n",
      "[198 rows x 8 columns]\n"
     ]
    },
    {
     "data": {
      "text/html": [
       "<div>\n",
       "<style scoped>\n",
       "    .dataframe tbody tr th:only-of-type {\n",
       "        vertical-align: middle;\n",
       "    }\n",
       "\n",
       "    .dataframe tbody tr th {\n",
       "        vertical-align: top;\n",
       "    }\n",
       "\n",
       "    .dataframe thead th {\n",
       "        text-align: right;\n",
       "    }\n",
       "</style>\n",
       "<table border=\"1\" class=\"dataframe\">\n",
       "  <thead>\n",
       "    <tr style=\"text-align: right;\">\n",
       "      <th></th>\n",
       "      <th>genus</th>\n",
       "      <th>county</th>\n",
       "      <th>state</th>\n",
       "      <th>occurrence_no</th>\n",
       "      <th>age_max</th>\n",
       "      <th>age_min</th>\n",
       "      <th>cc</th>\n",
       "      <th>county_original</th>\n",
       "    </tr>\n",
       "  </thead>\n",
       "  <tbody>\n",
       "    <tr>\n",
       "      <th>0</th>\n",
       "      <td>Icarosaurus</td>\n",
       "      <td>Hudson</td>\n",
       "      <td>New Jersey</td>\n",
       "      <td>146084</td>\n",
       "      <td>227.000</td>\n",
       "      <td>208.5</td>\n",
       "      <td>US</td>\n",
       "      <td>Hudson</td>\n",
       "    </tr>\n",
       "    <tr>\n",
       "      <th>1</th>\n",
       "      <td>Rutiodon</td>\n",
       "      <td>Hudson</td>\n",
       "      <td>New Jersey</td>\n",
       "      <td>146085</td>\n",
       "      <td>227.000</td>\n",
       "      <td>208.5</td>\n",
       "      <td>US</td>\n",
       "      <td>Hudson</td>\n",
       "    </tr>\n",
       "    <tr>\n",
       "      <th>2</th>\n",
       "      <td>Kuehneosuchus</td>\n",
       "      <td>Somerset</td>\n",
       "      <td>England</td>\n",
       "      <td>146086</td>\n",
       "      <td>208.500</td>\n",
       "      <td>201.4</td>\n",
       "      <td>UK</td>\n",
       "      <td>Somerset</td>\n",
       "    </tr>\n",
       "    <tr>\n",
       "      <th>3</th>\n",
       "      <td>Kuehneosaurus</td>\n",
       "      <td>Somerset</td>\n",
       "      <td>England</td>\n",
       "      <td>146087</td>\n",
       "      <td>208.500</td>\n",
       "      <td>201.4</td>\n",
       "      <td>UK</td>\n",
       "      <td>Somerset</td>\n",
       "    </tr>\n",
       "    <tr>\n",
       "      <th>4</th>\n",
       "      <td>Procolophon</td>\n",
       "      <td>Chris Hani</td>\n",
       "      <td>Eastern Cape</td>\n",
       "      <td>147521</td>\n",
       "      <td>251.902</td>\n",
       "      <td>247.2</td>\n",
       "      <td>ZA</td>\n",
       "      <td>Chris Hani</td>\n",
       "    </tr>\n",
       "    <tr>\n",
       "      <th>...</th>\n",
       "      <td>...</td>\n",
       "      <td>...</td>\n",
       "      <td>...</td>\n",
       "      <td>...</td>\n",
       "      <td>...</td>\n",
       "      <td>...</td>\n",
       "      <td>...</td>\n",
       "      <td>...</td>\n",
       "    </tr>\n",
       "    <tr>\n",
       "      <th>4406</th>\n",
       "      <td>Eohyosaurus</td>\n",
       "      <td>FSTATE</td>\n",
       "      <td>FSTATE</td>\n",
       "      <td>N80</td>\n",
       "      <td>247.200</td>\n",
       "      <td>242.0</td>\n",
       "      <td>ZA</td>\n",
       "      <td>-</td>\n",
       "    </tr>\n",
       "    <tr>\n",
       "      <th>4407</th>\n",
       "      <td>Mesosuchus</td>\n",
       "      <td>ECAPE</td>\n",
       "      <td>ECAPE</td>\n",
       "      <td>N81</td>\n",
       "      <td>247.200</td>\n",
       "      <td>242.0</td>\n",
       "      <td>ZA</td>\n",
       "      <td>-</td>\n",
       "    </tr>\n",
       "    <tr>\n",
       "      <th>4408</th>\n",
       "      <td>Mesosuchus</td>\n",
       "      <td>ECAPE</td>\n",
       "      <td>ECAPE</td>\n",
       "      <td>N82</td>\n",
       "      <td>247.200</td>\n",
       "      <td>242.0</td>\n",
       "      <td>ZA</td>\n",
       "      <td>-</td>\n",
       "    </tr>\n",
       "    <tr>\n",
       "      <th>4409</th>\n",
       "      <td>Mesosuchus</td>\n",
       "      <td>ECAPE</td>\n",
       "      <td>ECAPE</td>\n",
       "      <td>N83</td>\n",
       "      <td>247.200</td>\n",
       "      <td>242.0</td>\n",
       "      <td>ZA</td>\n",
       "      <td>-</td>\n",
       "    </tr>\n",
       "    <tr>\n",
       "      <th>4410</th>\n",
       "      <td>Stenaulorhynchus</td>\n",
       "      <td>Tanganyika</td>\n",
       "      <td>Tanganyika</td>\n",
       "      <td>N84</td>\n",
       "      <td>247.200</td>\n",
       "      <td>242.0</td>\n",
       "      <td>TZ</td>\n",
       "      <td>-</td>\n",
       "    </tr>\n",
       "  </tbody>\n",
       "</table>\n",
       "<p>4411 rows × 8 columns</p>\n",
       "</div>"
      ],
      "text/plain": [
       "                 genus      county         state occurrence_no  age_max  \\\n",
       "0          Icarosaurus      Hudson    New Jersey        146084  227.000   \n",
       "1             Rutiodon      Hudson    New Jersey        146085  227.000   \n",
       "2        Kuehneosuchus    Somerset       England        146086  208.500   \n",
       "3        Kuehneosaurus    Somerset       England        146087  208.500   \n",
       "4          Procolophon  Chris Hani  Eastern Cape        147521  251.902   \n",
       "...                ...         ...           ...           ...      ...   \n",
       "4406       Eohyosaurus      FSTATE        FSTATE           N80  247.200   \n",
       "4407        Mesosuchus       ECAPE         ECAPE           N81  247.200   \n",
       "4408        Mesosuchus       ECAPE         ECAPE           N82  247.200   \n",
       "4409        Mesosuchus       ECAPE         ECAPE           N83  247.200   \n",
       "4410  Stenaulorhynchus  Tanganyika    Tanganyika           N84  247.200   \n",
       "\n",
       "      age_min  cc county_original  \n",
       "0       208.5  US          Hudson  \n",
       "1       208.5  US          Hudson  \n",
       "2       201.4  UK        Somerset  \n",
       "3       201.4  UK        Somerset  \n",
       "4       247.2  ZA      Chris Hani  \n",
       "...       ...  ..             ...  \n",
       "4406    242.0  ZA               -  \n",
       "4407    242.0  ZA               -  \n",
       "4408    242.0  ZA               -  \n",
       "4409    242.0  ZA               -  \n",
       "4410    242.0  TZ               -  \n",
       "\n",
       "[4411 rows x 8 columns]"
      ]
     },
     "execution_count": 51,
     "metadata": {},
     "output_type": "execute_result"
    }
   ],
   "source": [
    "rep_deepdive_cleaned_imputed = impute_county_nulls(rep_deepdive_cleaned)\n",
    "rep_deepdive_cleaned_imputed"
   ]
  },
  {
   "cell_type": "code",
   "execution_count": 52,
   "metadata": {},
   "outputs": [
    {
     "name": "stdout",
     "output_type": "stream",
     "text": [
      "County hyphens count: 0\n",
      "County nulls count: 180\n",
      "                genus county state occurrence_no  age_max  age_min  cc  \\\n",
      "22          Diictodon    NaN   NaN        229268  264.280  254.140  ZA   \n",
      "31     Kuehneotherium    NaN   NaN        283943  208.500  201.400  GL   \n",
      "32    Brachyzostrodon    NaN   NaN        283944  208.500  201.400  GL   \n",
      "33       Lystrosaurus    NaN   NaN        286245  251.902  247.200  AA   \n",
      "34       Lystrosaurus    NaN   NaN        286246  251.902  247.200  AA   \n",
      "...               ...    ...   ...           ...      ...      ...  ..   \n",
      "3062     Lystrosaurus    NaN   NaN       1587697  251.902  247.200  AA   \n",
      "3072      Notictoides    NaN   NaN       1607015  251.902  247.200  AA   \n",
      "3073        Dicynodon    NaN   NaN       1607103  298.900  251.902  ZM   \n",
      "3074        Dicynodon    NaN   NaN       1607105  298.900  251.902  MZ   \n",
      "3101    Aelurognathus    NaN   NaN       1651601  259.510  254.140  ZM   \n",
      "\n",
      "     county_original  \n",
      "22               NaN  \n",
      "31               NaN  \n",
      "32               NaN  \n",
      "33               NaN  \n",
      "34               NaN  \n",
      "...              ...  \n",
      "3062             NaN  \n",
      "3072             NaN  \n",
      "3073             NaN  \n",
      "3074             NaN  \n",
      "3101             NaN  \n",
      "\n",
      "[180 rows x 8 columns]\n"
     ]
    },
    {
     "data": {
      "text/html": [
       "<div>\n",
       "<style scoped>\n",
       "    .dataframe tbody tr th:only-of-type {\n",
       "        vertical-align: middle;\n",
       "    }\n",
       "\n",
       "    .dataframe tbody tr th {\n",
       "        vertical-align: top;\n",
       "    }\n",
       "\n",
       "    .dataframe thead th {\n",
       "        text-align: right;\n",
       "    }\n",
       "</style>\n",
       "<table border=\"1\" class=\"dataframe\">\n",
       "  <thead>\n",
       "    <tr style=\"text-align: right;\">\n",
       "      <th></th>\n",
       "      <th>genus</th>\n",
       "      <th>county</th>\n",
       "      <th>state</th>\n",
       "      <th>occurrence_no</th>\n",
       "      <th>age_max</th>\n",
       "      <th>age_min</th>\n",
       "      <th>cc</th>\n",
       "      <th>county_original</th>\n",
       "    </tr>\n",
       "  </thead>\n",
       "  <tbody>\n",
       "    <tr>\n",
       "      <th>0</th>\n",
       "      <td>Edaphosaurus</td>\n",
       "      <td>Ohio</td>\n",
       "      <td>West Virginia</td>\n",
       "      <td>147591</td>\n",
       "      <td>303.7</td>\n",
       "      <td>298.9</td>\n",
       "      <td>US</td>\n",
       "      <td>Ohio</td>\n",
       "    </tr>\n",
       "    <tr>\n",
       "      <th>1</th>\n",
       "      <td>Ophiacodon</td>\n",
       "      <td>Archer</td>\n",
       "      <td>Texas</td>\n",
       "      <td>148250</td>\n",
       "      <td>290.1</td>\n",
       "      <td>283.5</td>\n",
       "      <td>US</td>\n",
       "      <td>Archer</td>\n",
       "    </tr>\n",
       "    <tr>\n",
       "      <th>2</th>\n",
       "      <td>Therioherpeton</td>\n",
       "      <td>Santa Maria</td>\n",
       "      <td>Rio Grande do Sul</td>\n",
       "      <td>149619</td>\n",
       "      <td>237.0</td>\n",
       "      <td>208.5</td>\n",
       "      <td>BR</td>\n",
       "      <td>Santa Maria</td>\n",
       "    </tr>\n",
       "    <tr>\n",
       "      <th>3</th>\n",
       "      <td>Ophiacodon</td>\n",
       "      <td>San Juan</td>\n",
       "      <td>Utah</td>\n",
       "      <td>149745</td>\n",
       "      <td>298.9</td>\n",
       "      <td>290.1</td>\n",
       "      <td>US</td>\n",
       "      <td>San Juan</td>\n",
       "    </tr>\n",
       "    <tr>\n",
       "      <th>4</th>\n",
       "      <td>Adelobasileus</td>\n",
       "      <td>Crosby</td>\n",
       "      <td>Texas</td>\n",
       "      <td>149837</td>\n",
       "      <td>227.0</td>\n",
       "      <td>208.5</td>\n",
       "      <td>US</td>\n",
       "      <td>Crosby</td>\n",
       "    </tr>\n",
       "    <tr>\n",
       "      <th>...</th>\n",
       "      <td>...</td>\n",
       "      <td>...</td>\n",
       "      <td>...</td>\n",
       "      <td>...</td>\n",
       "      <td>...</td>\n",
       "      <td>...</td>\n",
       "      <td>...</td>\n",
       "      <td>...</td>\n",
       "    </tr>\n",
       "    <tr>\n",
       "      <th>3417</th>\n",
       "      <td>Santacruzodon</td>\n",
       "      <td>Schoenstatt</td>\n",
       "      <td>RS</td>\n",
       "      <td>N506</td>\n",
       "      <td>237.0</td>\n",
       "      <td>227.0</td>\n",
       "      <td>BR</td>\n",
       "      <td>Schoenstatt</td>\n",
       "    </tr>\n",
       "    <tr>\n",
       "      <th>3418</th>\n",
       "      <td>Santacruzodon</td>\n",
       "      <td>Schoenstatt</td>\n",
       "      <td>RS</td>\n",
       "      <td>N507</td>\n",
       "      <td>237.0</td>\n",
       "      <td>227.0</td>\n",
       "      <td>BR</td>\n",
       "      <td>Schoenstatt</td>\n",
       "    </tr>\n",
       "    <tr>\n",
       "      <th>3419</th>\n",
       "      <td>Dinodontosaurus</td>\n",
       "      <td>Pinheiro</td>\n",
       "      <td>RS</td>\n",
       "      <td>N508</td>\n",
       "      <td>242.0</td>\n",
       "      <td>237.0</td>\n",
       "      <td>BR</td>\n",
       "      <td>Pinheiro</td>\n",
       "    </tr>\n",
       "    <tr>\n",
       "      <th>3420</th>\n",
       "      <td>Dinodontosaurus</td>\n",
       "      <td>Porto Mariante 2</td>\n",
       "      <td>RS</td>\n",
       "      <td>N509</td>\n",
       "      <td>242.0</td>\n",
       "      <td>237.0</td>\n",
       "      <td>BR</td>\n",
       "      <td>Porto Mariante 2</td>\n",
       "    </tr>\n",
       "    <tr>\n",
       "      <th>3421</th>\n",
       "      <td>Massetognathus</td>\n",
       "      <td>Rincao do Semiao</td>\n",
       "      <td>RS</td>\n",
       "      <td>N510</td>\n",
       "      <td>242.0</td>\n",
       "      <td>237.0</td>\n",
       "      <td>BR</td>\n",
       "      <td>Rincao do Semiao</td>\n",
       "    </tr>\n",
       "  </tbody>\n",
       "</table>\n",
       "<p>3422 rows × 8 columns</p>\n",
       "</div>"
      ],
      "text/plain": [
       "                genus            county              state occurrence_no  \\\n",
       "0        Edaphosaurus              Ohio      West Virginia        147591   \n",
       "1          Ophiacodon            Archer              Texas        148250   \n",
       "2      Therioherpeton       Santa Maria  Rio Grande do Sul        149619   \n",
       "3          Ophiacodon          San Juan               Utah        149745   \n",
       "4       Adelobasileus            Crosby              Texas        149837   \n",
       "...               ...               ...                ...           ...   \n",
       "3417    Santacruzodon       Schoenstatt                 RS          N506   \n",
       "3418    Santacruzodon       Schoenstatt                 RS          N507   \n",
       "3419  Dinodontosaurus          Pinheiro                 RS          N508   \n",
       "3420  Dinodontosaurus  Porto Mariante 2                 RS          N509   \n",
       "3421   Massetognathus  Rincao do Semiao                 RS          N510   \n",
       "\n",
       "      age_max  age_min  cc   county_original  \n",
       "0       303.7    298.9  US              Ohio  \n",
       "1       290.1    283.5  US            Archer  \n",
       "2       237.0    208.5  BR       Santa Maria  \n",
       "3       298.9    290.1  US          San Juan  \n",
       "4       227.0    208.5  US            Crosby  \n",
       "...       ...      ...  ..               ...  \n",
       "3417    237.0    227.0  BR       Schoenstatt  \n",
       "3418    237.0    227.0  BR       Schoenstatt  \n",
       "3419    242.0    237.0  BR          Pinheiro  \n",
       "3420    242.0    237.0  BR  Porto Mariante 2  \n",
       "3421    242.0    237.0  BR  Rincao do Semiao  \n",
       "\n",
       "[3422 rows x 8 columns]"
      ]
     },
     "execution_count": 52,
     "metadata": {},
     "output_type": "execute_result"
    }
   ],
   "source": [
    "syn_deepdive_cleaned_imputed = impute_county_nulls(syn_deepdive_cleaned)\n",
    "syn_deepdive_cleaned_imputed"
   ]
  },
  {
   "cell_type": "code",
   "execution_count": 53,
   "metadata": {},
   "outputs": [
    {
     "name": "stdout",
     "output_type": "stream",
     "text": [
      "County hyphens count: 0\n",
      "County nulls count: 53\n",
      "                genus county state occurrence_no  age_max  age_min  cc  \\\n",
      "13     Platyoposaurus    NaN   NaN        219959  266.900   264.28  RU   \n",
      "14     Platyoposaurus    NaN   NaN        219960  266.900   264.28  RU   \n",
      "15         Melosaurus    NaN   NaN        219961  266.900   264.28  RU   \n",
      "16        Dvinosaurus    NaN   NaN        219962  266.900   264.28  RU   \n",
      "768    Mastodonsaurus    NaN   NaN        929804  242.000   237.00  DE   \n",
      "844      Parotosuchus    NaN   NaN       1081097  247.200   242.00  AA   \n",
      "845         Kryostega    NaN   NaN       1081098  247.200   242.00  AA   \n",
      "967       Aphaneramma    NaN   NaN       1131219  251.200   248.90  SJ   \n",
      "968       Aphaneramma    NaN   NaN       1131223  251.200   248.90  SJ   \n",
      "970   Lyrocephaliscus    NaN   NaN       1131869  251.200   248.90  SJ   \n",
      "971   Lyrocephaliscus    NaN   NaN       1131895  251.200   248.90  SJ   \n",
      "972   Lyrocephaliscus    NaN   NaN       1131896  251.200   248.90  SJ   \n",
      "973   Lyrocephaliscus    NaN   NaN       1131898  251.200   248.90  SJ   \n",
      "974       Aphaneramma    NaN   NaN       1131899  251.200   248.90  SJ   \n",
      "975       Aphaneramma    NaN   NaN       1131900  251.200   248.90  SJ   \n",
      "976       Aphaneramma    NaN   NaN       1131901  251.200   248.90  SJ   \n",
      "977       Aphaneramma    NaN   NaN       1131902  251.200   248.90  SJ   \n",
      "978       Aphaneramma    NaN   NaN       1131903  251.200   248.90  SJ   \n",
      "979       Aphaneramma    NaN   NaN       1131904  251.200   248.90  SJ   \n",
      "980        Platystega    NaN   NaN       1131905  251.200   248.90  SJ   \n",
      "981          Tertrema    NaN   NaN       1131906  251.200   248.90  SJ   \n",
      "982        Peltostega    NaN   NaN       1131965  251.200   248.90  SJ   \n",
      "983          Tertrema    NaN   NaN       1131966  251.200   248.90  SJ   \n",
      "984       Aphaneramma    NaN   NaN       1131970  251.200   248.90  SJ   \n",
      "985       Aphaneramma    NaN   NaN       1131971  251.200   248.90  SJ   \n",
      "986       Aphaneramma    NaN   NaN       1131972  251.200   248.90  SJ   \n",
      "987   Lyrocephaliscus    NaN   NaN       1131973  251.200   248.90  SJ   \n",
      "988        Peltostega    NaN   NaN       1131982  251.200   248.90  SJ   \n",
      "989        Peltostega    NaN   NaN       1131983  251.200   248.90  SJ   \n",
      "1061   Antarctosuchus    NaN   NaN       1286789  247.200   242.00  AA   \n",
      "1089   Branchierpeton    NaN   NaN       1315482  307.400   300.30  DE   \n",
      "1138    Dawsonerpeton    NaN   NaN       1336075  301.400   300.90  CZ   \n",
      "1193      Osteophorus    NaN   NaN       1338223  283.500   259.51  PL   \n",
      "1212        Onchiodon    NaN   NaN       1338556  298.900   283.50  CZ   \n",
      "1221          Apateon    NaN   NaN       1338612  298.900   273.01  CZ   \n",
      "1251    Chelydosaurus    NaN   NaN       1338763  290.100   283.50  IN   \n",
      "1260   Sclerocephalus    NaN   NaN       1338793  298.900   283.50  CZ   \n",
      "1282    Cheliderpeton    NaN   NaN       1338887  298.900   283.50  CZ   \n",
      "1864   Mastodonsaurus    NaN   NaN       1370351  244.700   242.00  AT   \n",
      "1900     Plagioscutum    NaN   NaN       1383184  242.000   237.00  KZ   \n",
      "1901     Plagioscutum    NaN   NaN       1383185  247.200   237.00  KZ   \n",
      "1902        Aranetsia    NaN   NaN       1383186  247.200   242.00  RU   \n",
      "1926   Sclerocephalus    NaN   NaN       1396075  298.900   290.10  CZ   \n",
      "1929      Tatrasuchus    NaN   NaN       1412897  243.800   239.70  PL   \n",
      "2073     Mahavisaurus    NaN   NaN       1418699  251.200   248.90  MG   \n",
      "2079     Parotosuchus    NaN   NaN       1419112  248.900   247.20  KZ   \n",
      "2116      Dvinosaurus    NaN   NaN       1423053  264.280   259.51  RU   \n",
      "2137   Sclerocephalus    NaN   NaN       1425274  298.900   283.50  CZ   \n",
      "2153   Branchierpeton    NaN   NaN       1475019  305.000   300.90  MA   \n",
      "2162  Lyrocephaliscus    NaN   NaN       1517672  251.200   248.90  SJ   \n",
      "2174   Korkonterpeton    NaN   NaN       1546686  298.900   293.52  CZ   \n",
      "2192      Micropholis    NaN   NaN       1561169  251.902   247.20  AA   \n",
      "2209      Chemnitzion    NaN   NaN       1598132  293.520   283.50  DE   \n",
      "\n",
      "     county_original  \n",
      "13               NaN  \n",
      "14               NaN  \n",
      "15               NaN  \n",
      "16               NaN  \n",
      "768              NaN  \n",
      "844              NaN  \n",
      "845              NaN  \n",
      "967              NaN  \n",
      "968              NaN  \n",
      "970              NaN  \n",
      "971              NaN  \n",
      "972              NaN  \n",
      "973              NaN  \n",
      "974              NaN  \n",
      "975              NaN  \n",
      "976              NaN  \n",
      "977              NaN  \n",
      "978              NaN  \n",
      "979              NaN  \n",
      "980              NaN  \n",
      "981              NaN  \n",
      "982              NaN  \n",
      "983              NaN  \n",
      "984              NaN  \n",
      "985              NaN  \n",
      "986              NaN  \n",
      "987              NaN  \n",
      "988              NaN  \n",
      "989              NaN  \n",
      "1061             NaN  \n",
      "1089             NaN  \n",
      "1138             NaN  \n",
      "1193             NaN  \n",
      "1212             NaN  \n",
      "1221             NaN  \n",
      "1251             NaN  \n",
      "1260             NaN  \n",
      "1282             NaN  \n",
      "1864             NaN  \n",
      "1900             NaN  \n",
      "1901             NaN  \n",
      "1902             NaN  \n",
      "1926             NaN  \n",
      "1929             NaN  \n",
      "2073             NaN  \n",
      "2079             NaN  \n",
      "2116             NaN  \n",
      "2137             NaN  \n",
      "2153             NaN  \n",
      "2162             NaN  \n",
      "2174             NaN  \n",
      "2192             NaN  \n",
      "2209             NaN  \n"
     ]
    },
    {
     "data": {
      "text/html": [
       "<div>\n",
       "<style scoped>\n",
       "    .dataframe tbody tr th:only-of-type {\n",
       "        vertical-align: middle;\n",
       "    }\n",
       "\n",
       "    .dataframe tbody tr th {\n",
       "        vertical-align: top;\n",
       "    }\n",
       "\n",
       "    .dataframe thead th {\n",
       "        text-align: right;\n",
       "    }\n",
       "</style>\n",
       "<table border=\"1\" class=\"dataframe\">\n",
       "  <thead>\n",
       "    <tr style=\"text-align: right;\">\n",
       "      <th></th>\n",
       "      <th>genus</th>\n",
       "      <th>county</th>\n",
       "      <th>state</th>\n",
       "      <th>occurrence_no</th>\n",
       "      <th>age_max</th>\n",
       "      <th>age_min</th>\n",
       "      <th>cc</th>\n",
       "      <th>county_original</th>\n",
       "    </tr>\n",
       "  </thead>\n",
       "  <tbody>\n",
       "    <tr>\n",
       "      <th>0</th>\n",
       "      <td>Anconastes</td>\n",
       "      <td>Rio Arriba</td>\n",
       "      <td>New Mexico</td>\n",
       "      <td>146665</td>\n",
       "      <td>305.9</td>\n",
       "      <td>298.90</td>\n",
       "      <td>US</td>\n",
       "      <td>Rio Arriba</td>\n",
       "    </tr>\n",
       "    <tr>\n",
       "      <th>1</th>\n",
       "      <td>Broiliellus</td>\n",
       "      <td>Baylor</td>\n",
       "      <td>Texas</td>\n",
       "      <td>147563</td>\n",
       "      <td>283.5</td>\n",
       "      <td>273.01</td>\n",
       "      <td>US</td>\n",
       "      <td>Baylor</td>\n",
       "    </tr>\n",
       "    <tr>\n",
       "      <th>2</th>\n",
       "      <td>Broiliellus</td>\n",
       "      <td>Clay</td>\n",
       "      <td>Texas</td>\n",
       "      <td>147564</td>\n",
       "      <td>298.9</td>\n",
       "      <td>286.10</td>\n",
       "      <td>US</td>\n",
       "      <td>Clay</td>\n",
       "    </tr>\n",
       "    <tr>\n",
       "      <th>3</th>\n",
       "      <td>Eryops</td>\n",
       "      <td>Archer</td>\n",
       "      <td>Texas</td>\n",
       "      <td>148243</td>\n",
       "      <td>290.1</td>\n",
       "      <td>283.50</td>\n",
       "      <td>US</td>\n",
       "      <td>Archer</td>\n",
       "    </tr>\n",
       "    <tr>\n",
       "      <th>4</th>\n",
       "      <td>Aspidosaurus</td>\n",
       "      <td>Archer</td>\n",
       "      <td>Texas</td>\n",
       "      <td>148244</td>\n",
       "      <td>290.1</td>\n",
       "      <td>283.50</td>\n",
       "      <td>US</td>\n",
       "      <td>Archer</td>\n",
       "    </tr>\n",
       "    <tr>\n",
       "      <th>...</th>\n",
       "      <td>...</td>\n",
       "      <td>...</td>\n",
       "      <td>...</td>\n",
       "      <td>...</td>\n",
       "      <td>...</td>\n",
       "      <td>...</td>\n",
       "      <td>...</td>\n",
       "      <td>...</td>\n",
       "    </tr>\n",
       "    <tr>\n",
       "      <th>2242</th>\n",
       "      <td>Rastosuchus</td>\n",
       "      <td>Morro do Mulato</td>\n",
       "      <td>PR</td>\n",
       "      <td>N5</td>\n",
       "      <td>266.9</td>\n",
       "      <td>264.30</td>\n",
       "      <td>BR</td>\n",
       "      <td>Morro do Mulato</td>\n",
       "    </tr>\n",
       "    <tr>\n",
       "      <th>2243</th>\n",
       "      <td>Rastosuchus</td>\n",
       "      <td>Morro do Mulato</td>\n",
       "      <td>PR</td>\n",
       "      <td>N6</td>\n",
       "      <td>266.9</td>\n",
       "      <td>264.30</td>\n",
       "      <td>BR</td>\n",
       "      <td>Morro do Mulato</td>\n",
       "    </tr>\n",
       "    <tr>\n",
       "      <th>2244</th>\n",
       "      <td>Rastosuchus</td>\n",
       "      <td>Morro do Mulato</td>\n",
       "      <td>PR</td>\n",
       "      <td>N7</td>\n",
       "      <td>266.9</td>\n",
       "      <td>264.30</td>\n",
       "      <td>BR</td>\n",
       "      <td>Morro do Mulato</td>\n",
       "    </tr>\n",
       "    <tr>\n",
       "      <th>2245</th>\n",
       "      <td>Compsocerops</td>\n",
       "      <td>Buriol</td>\n",
       "      <td>RS</td>\n",
       "      <td>N8</td>\n",
       "      <td>227.0</td>\n",
       "      <td>208.50</td>\n",
       "      <td>BR</td>\n",
       "      <td>Buriol</td>\n",
       "    </tr>\n",
       "    <tr>\n",
       "      <th>2246</th>\n",
       "      <td>Compsocerops</td>\n",
       "      <td>Buriol</td>\n",
       "      <td>RS</td>\n",
       "      <td>N9</td>\n",
       "      <td>227.0</td>\n",
       "      <td>208.50</td>\n",
       "      <td>BR</td>\n",
       "      <td>Buriol</td>\n",
       "    </tr>\n",
       "  </tbody>\n",
       "</table>\n",
       "<p>2247 rows × 8 columns</p>\n",
       "</div>"
      ],
      "text/plain": [
       "             genus           county       state occurrence_no  age_max  \\\n",
       "0       Anconastes       Rio Arriba  New Mexico        146665    305.9   \n",
       "1      Broiliellus           Baylor       Texas        147563    283.5   \n",
       "2      Broiliellus             Clay       Texas        147564    298.9   \n",
       "3           Eryops           Archer       Texas        148243    290.1   \n",
       "4     Aspidosaurus           Archer       Texas        148244    290.1   \n",
       "...            ...              ...         ...           ...      ...   \n",
       "2242   Rastosuchus  Morro do Mulato          PR            N5    266.9   \n",
       "2243   Rastosuchus  Morro do Mulato          PR            N6    266.9   \n",
       "2244   Rastosuchus  Morro do Mulato          PR            N7    266.9   \n",
       "2245  Compsocerops           Buriol          RS            N8    227.0   \n",
       "2246  Compsocerops           Buriol          RS            N9    227.0   \n",
       "\n",
       "      age_min  cc  county_original  \n",
       "0      298.90  US       Rio Arriba  \n",
       "1      273.01  US           Baylor  \n",
       "2      286.10  US             Clay  \n",
       "3      283.50  US           Archer  \n",
       "4      283.50  US           Archer  \n",
       "...       ...  ..              ...  \n",
       "2242   264.30  BR  Morro do Mulato  \n",
       "2243   264.30  BR  Morro do Mulato  \n",
       "2244   264.30  BR  Morro do Mulato  \n",
       "2245   208.50  BR           Buriol  \n",
       "2246   208.50  BR           Buriol  \n",
       "\n",
       "[2247 rows x 8 columns]"
      ]
     },
     "execution_count": 53,
     "metadata": {},
     "output_type": "execute_result"
    }
   ],
   "source": [
    "tem_deepdive_cleaned_imputed = impute_county_nulls(tem_deepdive_cleaned)\n",
    "tem_deepdive_cleaned_imputed"
   ]
  },
  {
   "cell_type": "markdown",
   "metadata": {},
   "source": [
    "#### Saving a CSV for Locality Imputation Double Check"
   ]
  },
  {
   "cell_type": "code",
   "execution_count": 59,
   "metadata": {},
   "outputs": [
    {
     "data": {
      "text/html": [
       "<div>\n",
       "<style scoped>\n",
       "    .dataframe tbody tr th:only-of-type {\n",
       "        vertical-align: middle;\n",
       "    }\n",
       "\n",
       "    .dataframe tbody tr th {\n",
       "        vertical-align: top;\n",
       "    }\n",
       "\n",
       "    .dataframe thead th {\n",
       "        text-align: right;\n",
       "    }\n",
       "</style>\n",
       "<table border=\"1\" class=\"dataframe\">\n",
       "  <thead>\n",
       "    <tr style=\"text-align: right;\">\n",
       "      <th></th>\n",
       "      <th>genus</th>\n",
       "      <th>county</th>\n",
       "      <th>state</th>\n",
       "      <th>occurrence_no</th>\n",
       "      <th>age_max</th>\n",
       "      <th>age_min</th>\n",
       "      <th>cc</th>\n",
       "      <th>county_original</th>\n",
       "    </tr>\n",
       "  </thead>\n",
       "  <tbody>\n",
       "    <tr>\n",
       "      <th>0</th>\n",
       "      <td>Icarosaurus</td>\n",
       "      <td>Hudson</td>\n",
       "      <td>New Jersey</td>\n",
       "      <td>146084</td>\n",
       "      <td>227.000</td>\n",
       "      <td>208.5</td>\n",
       "      <td>US</td>\n",
       "      <td>Hudson</td>\n",
       "    </tr>\n",
       "    <tr>\n",
       "      <th>1</th>\n",
       "      <td>Rutiodon</td>\n",
       "      <td>Hudson</td>\n",
       "      <td>New Jersey</td>\n",
       "      <td>146085</td>\n",
       "      <td>227.000</td>\n",
       "      <td>208.5</td>\n",
       "      <td>US</td>\n",
       "      <td>Hudson</td>\n",
       "    </tr>\n",
       "    <tr>\n",
       "      <th>2</th>\n",
       "      <td>Kuehneosuchus</td>\n",
       "      <td>Somerset</td>\n",
       "      <td>England</td>\n",
       "      <td>146086</td>\n",
       "      <td>208.500</td>\n",
       "      <td>201.4</td>\n",
       "      <td>UK</td>\n",
       "      <td>Somerset</td>\n",
       "    </tr>\n",
       "    <tr>\n",
       "      <th>3</th>\n",
       "      <td>Kuehneosaurus</td>\n",
       "      <td>Somerset</td>\n",
       "      <td>England</td>\n",
       "      <td>146087</td>\n",
       "      <td>208.500</td>\n",
       "      <td>201.4</td>\n",
       "      <td>UK</td>\n",
       "      <td>Somerset</td>\n",
       "    </tr>\n",
       "    <tr>\n",
       "      <th>4</th>\n",
       "      <td>Procolophon</td>\n",
       "      <td>Chris Hani</td>\n",
       "      <td>Eastern Cape</td>\n",
       "      <td>147521</td>\n",
       "      <td>251.902</td>\n",
       "      <td>247.2</td>\n",
       "      <td>ZA</td>\n",
       "      <td>Chris Hani</td>\n",
       "    </tr>\n",
       "  </tbody>\n",
       "</table>\n",
       "</div>"
      ],
      "text/plain": [
       "           genus      county         state occurrence_no  age_max  age_min  \\\n",
       "0    Icarosaurus      Hudson    New Jersey        146084  227.000    208.5   \n",
       "1       Rutiodon      Hudson    New Jersey        146085  227.000    208.5   \n",
       "2  Kuehneosuchus    Somerset       England        146086  208.500    201.4   \n",
       "3  Kuehneosaurus    Somerset       England        146087  208.500    201.4   \n",
       "4    Procolophon  Chris Hani  Eastern Cape        147521  251.902    247.2   \n",
       "\n",
       "   cc county_original  \n",
       "0  US          Hudson  \n",
       "1  US          Hudson  \n",
       "2  UK        Somerset  \n",
       "3  UK        Somerset  \n",
       "4  ZA      Chris Hani  "
      ]
     },
     "execution_count": 59,
     "metadata": {},
     "output_type": "execute_result"
    }
   ],
   "source": [
    "# Saving a copy of the dataframe for checking that no data was lost from null imputation\n",
    "rep_deepdive_cleaned_imputed.head()\n"
   ]
  },
  {
   "cell_type": "code",
   "execution_count": 97,
   "metadata": {},
   "outputs": [
    {
     "data": {
      "text/html": [
       "<div>\n",
       "<style scoped>\n",
       "    .dataframe tbody tr th:only-of-type {\n",
       "        vertical-align: middle;\n",
       "    }\n",
       "\n",
       "    .dataframe tbody tr th {\n",
       "        vertical-align: top;\n",
       "    }\n",
       "\n",
       "    .dataframe thead th {\n",
       "        text-align: right;\n",
       "    }\n",
       "</style>\n",
       "<table border=\"1\" class=\"dataframe\">\n",
       "  <thead>\n",
       "    <tr style=\"text-align: right;\">\n",
       "      <th></th>\n",
       "      <th>genus</th>\n",
       "      <th>Locality</th>\n",
       "      <th>state</th>\n",
       "      <th>occurrence_no</th>\n",
       "      <th>cc</th>\n",
       "      <th>county_original</th>\n",
       "    </tr>\n",
       "  </thead>\n",
       "  <tbody>\n",
       "    <tr>\n",
       "      <th>0</th>\n",
       "      <td>Icarosaurus</td>\n",
       "      <td>Hudson</td>\n",
       "      <td>New Jersey</td>\n",
       "      <td>146084</td>\n",
       "      <td>US</td>\n",
       "      <td>Hudson</td>\n",
       "    </tr>\n",
       "    <tr>\n",
       "      <th>1</th>\n",
       "      <td>Rutiodon</td>\n",
       "      <td>Hudson</td>\n",
       "      <td>New Jersey</td>\n",
       "      <td>146085</td>\n",
       "      <td>US</td>\n",
       "      <td>Hudson</td>\n",
       "    </tr>\n",
       "    <tr>\n",
       "      <th>2</th>\n",
       "      <td>Kuehneosuchus</td>\n",
       "      <td>Somerset</td>\n",
       "      <td>England</td>\n",
       "      <td>146086</td>\n",
       "      <td>UK</td>\n",
       "      <td>Somerset</td>\n",
       "    </tr>\n",
       "    <tr>\n",
       "      <th>3</th>\n",
       "      <td>Kuehneosaurus</td>\n",
       "      <td>Somerset</td>\n",
       "      <td>England</td>\n",
       "      <td>146087</td>\n",
       "      <td>UK</td>\n",
       "      <td>Somerset</td>\n",
       "    </tr>\n",
       "    <tr>\n",
       "      <th>4</th>\n",
       "      <td>Procolophon</td>\n",
       "      <td>Chris Hani</td>\n",
       "      <td>Eastern Cape</td>\n",
       "      <td>147521</td>\n",
       "      <td>ZA</td>\n",
       "      <td>Chris Hani</td>\n",
       "    </tr>\n",
       "  </tbody>\n",
       "</table>\n",
       "</div>"
      ],
      "text/plain": [
       "           genus    Locality         state occurrence_no  cc county_original\n",
       "0    Icarosaurus      Hudson    New Jersey        146084  US          Hudson\n",
       "1       Rutiodon      Hudson    New Jersey        146085  US          Hudson\n",
       "2  Kuehneosuchus    Somerset       England        146086  UK        Somerset\n",
       "3  Kuehneosaurus    Somerset       England        146087  UK        Somerset\n",
       "4    Procolophon  Chris Hani  Eastern Cape        147521  ZA      Chris Hani"
      ]
     },
     "execution_count": 97,
     "metadata": {},
     "output_type": "execute_result"
    }
   ],
   "source": [
    "rep_test = rep_deepdive_cleaned_imputed.drop(columns=['age_max', 'age_min'])\n",
    "rep_test.rename(columns={'county':\"Locality\"}, inplace=True)\n",
    "\n",
    "syn_test = syn_deepdive_cleaned_imputed.drop(columns=['age_max', 'age_min'])\n",
    "syn_test.rename(columns={'county':\"Locality\"}, inplace=True)\n",
    "\n",
    "tem_test = tem_deepdive_cleaned_imputed.drop(columns=['age_max', 'age_min'])\n",
    "tem_test.rename(columns={'county':\"Locality\"}, inplace=True)\n",
    "\n",
    "rep_test.head()"
   ]
  },
  {
   "cell_type": "code",
   "execution_count": 98,
   "metadata": {},
   "outputs": [
    {
     "data": {
      "text/html": [
       "<div>\n",
       "<style scoped>\n",
       "    .dataframe tbody tr th:only-of-type {\n",
       "        vertical-align: middle;\n",
       "    }\n",
       "\n",
       "    .dataframe tbody tr th {\n",
       "        vertical-align: top;\n",
       "    }\n",
       "\n",
       "    .dataframe thead th {\n",
       "        text-align: right;\n",
       "    }\n",
       "</style>\n",
       "<table border=\"1\" class=\"dataframe\">\n",
       "  <thead>\n",
       "    <tr style=\"text-align: right;\">\n",
       "      <th></th>\n",
       "      <th>occurrence_no</th>\n",
       "      <th>genus</th>\n",
       "      <th>Locality</th>\n",
       "      <th>county_original</th>\n",
       "      <th>state</th>\n",
       "      <th>cc</th>\n",
       "    </tr>\n",
       "  </thead>\n",
       "  <tbody>\n",
       "    <tr>\n",
       "      <th>0</th>\n",
       "      <td>146084</td>\n",
       "      <td>Icarosaurus</td>\n",
       "      <td>Hudson</td>\n",
       "      <td>Hudson</td>\n",
       "      <td>New Jersey</td>\n",
       "      <td>US</td>\n",
       "    </tr>\n",
       "    <tr>\n",
       "      <th>1</th>\n",
       "      <td>146085</td>\n",
       "      <td>Rutiodon</td>\n",
       "      <td>Hudson</td>\n",
       "      <td>Hudson</td>\n",
       "      <td>New Jersey</td>\n",
       "      <td>US</td>\n",
       "    </tr>\n",
       "    <tr>\n",
       "      <th>2</th>\n",
       "      <td>146086</td>\n",
       "      <td>Kuehneosuchus</td>\n",
       "      <td>Somerset</td>\n",
       "      <td>Somerset</td>\n",
       "      <td>England</td>\n",
       "      <td>UK</td>\n",
       "    </tr>\n",
       "    <tr>\n",
       "      <th>3</th>\n",
       "      <td>146087</td>\n",
       "      <td>Kuehneosaurus</td>\n",
       "      <td>Somerset</td>\n",
       "      <td>Somerset</td>\n",
       "      <td>England</td>\n",
       "      <td>UK</td>\n",
       "    </tr>\n",
       "    <tr>\n",
       "      <th>4</th>\n",
       "      <td>147521</td>\n",
       "      <td>Procolophon</td>\n",
       "      <td>Chris Hani</td>\n",
       "      <td>Chris Hani</td>\n",
       "      <td>Eastern Cape</td>\n",
       "      <td>ZA</td>\n",
       "    </tr>\n",
       "    <tr>\n",
       "      <th>...</th>\n",
       "      <td>...</td>\n",
       "      <td>...</td>\n",
       "      <td>...</td>\n",
       "      <td>...</td>\n",
       "      <td>...</td>\n",
       "      <td>...</td>\n",
       "    </tr>\n",
       "    <tr>\n",
       "      <th>4406</th>\n",
       "      <td>N80</td>\n",
       "      <td>Eohyosaurus</td>\n",
       "      <td>FSTATE</td>\n",
       "      <td>-</td>\n",
       "      <td>FSTATE</td>\n",
       "      <td>ZA</td>\n",
       "    </tr>\n",
       "    <tr>\n",
       "      <th>4407</th>\n",
       "      <td>N81</td>\n",
       "      <td>Mesosuchus</td>\n",
       "      <td>ECAPE</td>\n",
       "      <td>-</td>\n",
       "      <td>ECAPE</td>\n",
       "      <td>ZA</td>\n",
       "    </tr>\n",
       "    <tr>\n",
       "      <th>4408</th>\n",
       "      <td>N82</td>\n",
       "      <td>Mesosuchus</td>\n",
       "      <td>ECAPE</td>\n",
       "      <td>-</td>\n",
       "      <td>ECAPE</td>\n",
       "      <td>ZA</td>\n",
       "    </tr>\n",
       "    <tr>\n",
       "      <th>4409</th>\n",
       "      <td>N83</td>\n",
       "      <td>Mesosuchus</td>\n",
       "      <td>ECAPE</td>\n",
       "      <td>-</td>\n",
       "      <td>ECAPE</td>\n",
       "      <td>ZA</td>\n",
       "    </tr>\n",
       "    <tr>\n",
       "      <th>4410</th>\n",
       "      <td>N84</td>\n",
       "      <td>Stenaulorhynchus</td>\n",
       "      <td>Tanganyika</td>\n",
       "      <td>-</td>\n",
       "      <td>Tanganyika</td>\n",
       "      <td>TZ</td>\n",
       "    </tr>\n",
       "  </tbody>\n",
       "</table>\n",
       "<p>4411 rows × 6 columns</p>\n",
       "</div>"
      ],
      "text/plain": [
       "     occurrence_no             genus    Locality county_original  \\\n",
       "0           146084       Icarosaurus      Hudson          Hudson   \n",
       "1           146085          Rutiodon      Hudson          Hudson   \n",
       "2           146086     Kuehneosuchus    Somerset        Somerset   \n",
       "3           146087     Kuehneosaurus    Somerset        Somerset   \n",
       "4           147521       Procolophon  Chris Hani      Chris Hani   \n",
       "...            ...               ...         ...             ...   \n",
       "4406           N80       Eohyosaurus      FSTATE               -   \n",
       "4407           N81        Mesosuchus       ECAPE               -   \n",
       "4408           N82        Mesosuchus       ECAPE               -   \n",
       "4409           N83        Mesosuchus       ECAPE               -   \n",
       "4410           N84  Stenaulorhynchus  Tanganyika               -   \n",
       "\n",
       "             state  cc  \n",
       "0       New Jersey  US  \n",
       "1       New Jersey  US  \n",
       "2          England  UK  \n",
       "3          England  UK  \n",
       "4     Eastern Cape  ZA  \n",
       "...            ...  ..  \n",
       "4406        FSTATE  ZA  \n",
       "4407         ECAPE  ZA  \n",
       "4408         ECAPE  ZA  \n",
       "4409         ECAPE  ZA  \n",
       "4410    Tanganyika  TZ  \n",
       "\n",
       "[4411 rows x 6 columns]"
      ]
     },
     "execution_count": 98,
     "metadata": {},
     "output_type": "execute_result"
    }
   ],
   "source": [
    "# Reordering the columns\n",
    "cols_ordered = ['occurrence_no', 'genus', 'Locality', 'county_original', 'state', 'cc']\n",
    "rep_test = rep_test[cols_ordered]\n",
    "syn_test = syn_test[cols_ordered]\n",
    "tem_test = tem_test[cols_ordered]\n",
    "rep_test"
   ]
  },
  {
   "cell_type": "code",
   "execution_count": 99,
   "metadata": {},
   "outputs": [
    {
     "data": {
      "text/plain": [
       "(occurrence_no         0\n",
       " genus                 0\n",
       " Locality            198\n",
       " county_original    1495\n",
       " state               212\n",
       " cc                    8\n",
       " dtype: int64,\n",
       " occurrence_no         0\n",
       " genus                 0\n",
       " Locality            180\n",
       " county_original    1115\n",
       " state               180\n",
       " cc                   27\n",
       " dtype: int64,\n",
       " occurrence_no        0\n",
       " genus                0\n",
       " Locality            53\n",
       " county_original    510\n",
       " state               55\n",
       " cc                   0\n",
       " dtype: int64)"
      ]
     },
     "execution_count": 99,
     "metadata": {},
     "output_type": "execute_result"
    }
   ],
   "source": [
    "rep_test.isna().sum(), syn_test.isna().sum(), tem_test.isna().sum()"
   ]
  },
  {
   "cell_type": "code",
   "execution_count": 100,
   "metadata": {},
   "outputs": [],
   "source": [
    "# These CSVs have the following: nulls in 'Localtiy' are NOT dropped, \n",
    "# 'Locality' is the imputed 'county' column\n",
    "# 'county_original' is the original 'county' column before imputation \n",
    "# Special characters have been replaced from 'Locality', 'state', and 'county_original' columns\n",
    "rep_test.to_csv('reptilia_processed_data/reptilia_locality_check.csv')\n",
    "syn_test.to_csv('synapsida_processed_data/synapsida_locality_check.csv')\n",
    "tem_test.to_csv('temnospondyli_processed_data/temnospondyli_locality_check.csv')"
   ]
  },
  {
   "cell_type": "markdown",
   "metadata": {},
   "source": [
    "### Locality Changes from Tiago\n",
    "Sent the above *_locality_check.csv's to him, he sent them back with some changes made by hand to the 'locality' column, and some notes on further changes I should make. \n",
    "I'll load in his edits below, then make the changes he'd like"
   ]
  },
  {
   "cell_type": "code",
   "execution_count": 108,
   "metadata": {},
   "outputs": [
    {
     "name": "stdout",
     "output_type": "stream",
     "text": [
      "<class 'pandas.core.frame.DataFrame'>\n",
      "RangeIndex: 4411 entries, 0 to 4410\n",
      "Data columns (total 6 columns):\n",
      " #   Column           Non-Null Count  Dtype \n",
      "---  ------           --------------  ----- \n",
      " 0   occurrence_no    4411 non-null   object\n",
      " 1   locality         4268 non-null   object\n",
      " 2   county_original  2918 non-null   object\n",
      " 3   state            4213 non-null   object\n",
      " 4   cc               4410 non-null   object\n",
      " 5   notes            149 non-null    object\n",
      "dtypes: object(6)\n",
      "memory usage: 206.9+ KB\n"
     ]
    },
    {
     "data": {
      "text/plain": [
       "(  occurrence_no locality county_original state  cc   notes\n",
       " 0        803135      NaN             NaN   NaN  AA  delete\n",
       " 1        803158      NaN             NaN   NaN  AA  delete\n",
       " 2        803158      NaN             NaN   NaN  AA  delete\n",
       " 3        803158      NaN             NaN   NaN  AA  delete\n",
       " 4        807184      NaN             NaN   NaN  AA  delete,\n",
       " None)"
      ]
     },
     "execution_count": 108,
     "metadata": {},
     "output_type": "execute_result"
    }
   ],
   "source": [
    "rep_tiago = pd.read_csv('reptilia_locality_check_TRS.csv')\n",
    "rep_tiago.head(), rep_tiago.info()"
   ]
  },
  {
   "cell_type": "code",
   "execution_count": 112,
   "metadata": {},
   "outputs": [
    {
     "name": "stdout",
     "output_type": "stream",
     "text": [
      "<class 'pandas.core.frame.DataFrame'>\n",
      "RangeIndex: 2247 entries, 0 to 2246\n",
      "Data columns (total 6 columns):\n",
      " #   Column           Non-Null Count  Dtype \n",
      "---  ------           --------------  ----- \n",
      " 0   occurrence_no    2247 non-null   object\n",
      " 1   locality         2203 non-null   object\n",
      " 2   county_original  1737 non-null   object\n",
      " 3   state            2194 non-null   object\n",
      " 4   cc               2247 non-null   object\n",
      " 5   notes            44 non-null     object\n",
      "dtypes: object(6)\n",
      "memory usage: 105.5+ KB\n"
     ]
    },
    {
     "data": {
      "text/plain": [
       "(  occurrence_no locality county_original    state  cc   notes\n",
       " 0       1081097      NaN             NaN      NaN  AA  delete\n",
       " 1       1081098      NaN             NaN      NaN  AA  delete\n",
       " 2       1286789      NaN             NaN      NaN  AA  delete\n",
       " 3       1561169      NaN             NaN      NaN  AA  delete\n",
       " 4       1395196  Mendoza             NaN  Mendoza  AR     NaN,\n",
       " None)"
      ]
     },
     "execution_count": 112,
     "metadata": {},
     "output_type": "execute_result"
    }
   ],
   "source": [
    "tem_tiago = pd.read_csv('temnospondyli_locality_check_TRS.csv')\n",
    "tem_tiago.head(), tem_tiago.info()"
   ]
  },
  {
   "cell_type": "code",
   "execution_count": 109,
   "metadata": {},
   "outputs": [
    {
     "name": "stdout",
     "output_type": "stream",
     "text": [
      "<class 'pandas.core.frame.DataFrame'>\n",
      "Int64Index: 4272 entries, 12 to 4409\n",
      "Data columns (total 6 columns):\n",
      " #   Column           Non-Null Count  Dtype \n",
      "---  ------           --------------  ----- \n",
      " 0   occurrence_no    4272 non-null   object\n",
      " 1   locality         4262 non-null   object\n",
      " 2   county_original  2918 non-null   object\n",
      " 3   state            4209 non-null   object\n",
      " 4   cc               4272 non-null   object\n",
      " 5   notes            10 non-null     object\n",
      "dtypes: object(6)\n",
      "memory usage: 233.6+ KB\n"
     ]
    }
   ],
   "source": [
    "rep_tiago_dropped = rep_tiago[rep_tiago['notes'] != 'delete']\n",
    "rep_tiago_dropped.info()"
   ]
  },
  {
   "cell_type": "code",
   "execution_count": 116,
   "metadata": {},
   "outputs": [
    {
     "data": {
      "text/html": [
       "<div>\n",
       "<style scoped>\n",
       "    .dataframe tbody tr th:only-of-type {\n",
       "        vertical-align: middle;\n",
       "    }\n",
       "\n",
       "    .dataframe tbody tr th {\n",
       "        vertical-align: top;\n",
       "    }\n",
       "\n",
       "    .dataframe thead th {\n",
       "        text-align: right;\n",
       "    }\n",
       "</style>\n",
       "<table border=\"1\" class=\"dataframe\">\n",
       "  <thead>\n",
       "    <tr style=\"text-align: right;\">\n",
       "      <th></th>\n",
       "      <th>occurrence_no</th>\n",
       "      <th>locality</th>\n",
       "      <th>county_original</th>\n",
       "      <th>state</th>\n",
       "      <th>cc</th>\n",
       "      <th>notes</th>\n",
       "    </tr>\n",
       "  </thead>\n",
       "  <tbody>\n",
       "    <tr>\n",
       "      <th>172</th>\n",
       "      <td>1094847</td>\n",
       "      <td>NaN</td>\n",
       "      <td>NaN</td>\n",
       "      <td>NaN</td>\n",
       "      <td>BG</td>\n",
       "      <td>find out BG</td>\n",
       "    </tr>\n",
       "    <tr>\n",
       "      <th>2413</th>\n",
       "      <td>621595</td>\n",
       "      <td>NaN</td>\n",
       "      <td>NaN</td>\n",
       "      <td>NaN</td>\n",
       "      <td>SI</td>\n",
       "      <td>what is SI</td>\n",
       "    </tr>\n",
       "    <tr>\n",
       "      <th>2414</th>\n",
       "      <td>1310774</td>\n",
       "      <td>NaN</td>\n",
       "      <td>NaN</td>\n",
       "      <td>NaN</td>\n",
       "      <td>SJ</td>\n",
       "      <td>what is SJ</td>\n",
       "    </tr>\n",
       "    <tr>\n",
       "      <th>2415</th>\n",
       "      <td>1419116</td>\n",
       "      <td>NaN</td>\n",
       "      <td>NaN</td>\n",
       "      <td>NaN</td>\n",
       "      <td>SJ</td>\n",
       "      <td>what is SJ</td>\n",
       "    </tr>\n",
       "    <tr>\n",
       "      <th>2416</th>\n",
       "      <td>1419483</td>\n",
       "      <td>NaN</td>\n",
       "      <td>NaN</td>\n",
       "      <td>NaN</td>\n",
       "      <td>SJ</td>\n",
       "      <td>what is SJ</td>\n",
       "    </tr>\n",
       "    <tr>\n",
       "      <th>2417</th>\n",
       "      <td>1420109</td>\n",
       "      <td>NaN</td>\n",
       "      <td>NaN</td>\n",
       "      <td>NaN</td>\n",
       "      <td>SJ</td>\n",
       "      <td>what is SJ</td>\n",
       "    </tr>\n",
       "    <tr>\n",
       "      <th>2418</th>\n",
       "      <td>1420150</td>\n",
       "      <td>NaN</td>\n",
       "      <td>NaN</td>\n",
       "      <td>NaN</td>\n",
       "      <td>SJ</td>\n",
       "      <td>what is SJ</td>\n",
       "    </tr>\n",
       "    <tr>\n",
       "      <th>2419</th>\n",
       "      <td>1420151</td>\n",
       "      <td>NaN</td>\n",
       "      <td>NaN</td>\n",
       "      <td>NaN</td>\n",
       "      <td>SJ</td>\n",
       "      <td>what is SJ</td>\n",
       "    </tr>\n",
       "    <tr>\n",
       "      <th>2420</th>\n",
       "      <td>1420184</td>\n",
       "      <td>NaN</td>\n",
       "      <td>NaN</td>\n",
       "      <td>NaN</td>\n",
       "      <td>SJ</td>\n",
       "      <td>what is SJ</td>\n",
       "    </tr>\n",
       "    <tr>\n",
       "      <th>2421</th>\n",
       "      <td>1529048</td>\n",
       "      <td>NaN</td>\n",
       "      <td>NaN</td>\n",
       "      <td>NaN</td>\n",
       "      <td>SJ</td>\n",
       "      <td>what is SJ</td>\n",
       "    </tr>\n",
       "  </tbody>\n",
       "</table>\n",
       "</div>"
      ],
      "text/plain": [
       "     occurrence_no locality county_original state  cc        notes\n",
       "172        1094847      NaN             NaN   NaN  BG  find out BG\n",
       "2413        621595      NaN             NaN   NaN  SI   what is SI\n",
       "2414       1310774      NaN             NaN   NaN  SJ   what is SJ\n",
       "2415       1419116      NaN             NaN   NaN  SJ   what is SJ\n",
       "2416       1419483      NaN             NaN   NaN  SJ   what is SJ\n",
       "2417       1420109      NaN             NaN   NaN  SJ   what is SJ\n",
       "2418       1420150      NaN             NaN   NaN  SJ   what is SJ\n",
       "2419       1420151      NaN             NaN   NaN  SJ   what is SJ\n",
       "2420       1420184      NaN             NaN   NaN  SJ   what is SJ\n",
       "2421       1529048      NaN             NaN   NaN  SJ   what is SJ"
      ]
     },
     "execution_count": 116,
     "metadata": {},
     "output_type": "execute_result"
    }
   ],
   "source": [
    "rep_tiago_dropped[rep_tiago_dropped['notes'].notna()]"
   ]
  },
  {
   "cell_type": "code",
   "execution_count": 118,
   "metadata": {},
   "outputs": [
    {
     "data": {
      "text/html": [
       "<div>\n",
       "<style scoped>\n",
       "    .dataframe tbody tr th:only-of-type {\n",
       "        vertical-align: middle;\n",
       "    }\n",
       "\n",
       "    .dataframe tbody tr th {\n",
       "        vertical-align: top;\n",
       "    }\n",
       "\n",
       "    .dataframe thead th {\n",
       "        text-align: right;\n",
       "    }\n",
       "</style>\n",
       "<table border=\"1\" class=\"dataframe\">\n",
       "  <thead>\n",
       "    <tr style=\"text-align: right;\">\n",
       "      <th></th>\n",
       "      <th>occurrence_no</th>\n",
       "      <th>locality</th>\n",
       "      <th>county_original</th>\n",
       "      <th>state</th>\n",
       "      <th>cc</th>\n",
       "      <th>notes</th>\n",
       "    </tr>\n",
       "  </thead>\n",
       "  <tbody>\n",
       "    <tr>\n",
       "      <th>2414</th>\n",
       "      <td>1310774</td>\n",
       "      <td>NaN</td>\n",
       "      <td>NaN</td>\n",
       "      <td>NaN</td>\n",
       "      <td>SJ</td>\n",
       "      <td>what is SJ</td>\n",
       "    </tr>\n",
       "    <tr>\n",
       "      <th>2415</th>\n",
       "      <td>1419116</td>\n",
       "      <td>NaN</td>\n",
       "      <td>NaN</td>\n",
       "      <td>NaN</td>\n",
       "      <td>SJ</td>\n",
       "      <td>what is SJ</td>\n",
       "    </tr>\n",
       "    <tr>\n",
       "      <th>2416</th>\n",
       "      <td>1419483</td>\n",
       "      <td>NaN</td>\n",
       "      <td>NaN</td>\n",
       "      <td>NaN</td>\n",
       "      <td>SJ</td>\n",
       "      <td>what is SJ</td>\n",
       "    </tr>\n",
       "    <tr>\n",
       "      <th>2417</th>\n",
       "      <td>1420109</td>\n",
       "      <td>NaN</td>\n",
       "      <td>NaN</td>\n",
       "      <td>NaN</td>\n",
       "      <td>SJ</td>\n",
       "      <td>what is SJ</td>\n",
       "    </tr>\n",
       "    <tr>\n",
       "      <th>2418</th>\n",
       "      <td>1420150</td>\n",
       "      <td>NaN</td>\n",
       "      <td>NaN</td>\n",
       "      <td>NaN</td>\n",
       "      <td>SJ</td>\n",
       "      <td>what is SJ</td>\n",
       "    </tr>\n",
       "    <tr>\n",
       "      <th>2419</th>\n",
       "      <td>1420151</td>\n",
       "      <td>NaN</td>\n",
       "      <td>NaN</td>\n",
       "      <td>NaN</td>\n",
       "      <td>SJ</td>\n",
       "      <td>what is SJ</td>\n",
       "    </tr>\n",
       "    <tr>\n",
       "      <th>2420</th>\n",
       "      <td>1420184</td>\n",
       "      <td>NaN</td>\n",
       "      <td>NaN</td>\n",
       "      <td>NaN</td>\n",
       "      <td>SJ</td>\n",
       "      <td>what is SJ</td>\n",
       "    </tr>\n",
       "    <tr>\n",
       "      <th>2421</th>\n",
       "      <td>1529048</td>\n",
       "      <td>NaN</td>\n",
       "      <td>NaN</td>\n",
       "      <td>NaN</td>\n",
       "      <td>SJ</td>\n",
       "      <td>what is SJ</td>\n",
       "    </tr>\n",
       "  </tbody>\n",
       "</table>\n",
       "</div>"
      ],
      "text/plain": [
       "     occurrence_no locality county_original state  cc       notes\n",
       "2414       1310774      NaN             NaN   NaN  SJ  what is SJ\n",
       "2415       1419116      NaN             NaN   NaN  SJ  what is SJ\n",
       "2416       1419483      NaN             NaN   NaN  SJ  what is SJ\n",
       "2417       1420109      NaN             NaN   NaN  SJ  what is SJ\n",
       "2418       1420150      NaN             NaN   NaN  SJ  what is SJ\n",
       "2419       1420151      NaN             NaN   NaN  SJ  what is SJ\n",
       "2420       1420184      NaN             NaN   NaN  SJ  what is SJ\n",
       "2421       1529048      NaN             NaN   NaN  SJ  what is SJ"
      ]
     },
     "execution_count": 118,
     "metadata": {},
     "output_type": "execute_result"
    }
   ],
   "source": [
    "rep_tiago_dropped[rep_tiago_dropped['cc'] == 'SJ']"
   ]
  },
  {
   "cell_type": "code",
   "execution_count": 122,
   "metadata": {},
   "outputs": [
    {
     "name": "stderr",
     "output_type": "stream",
     "text": [
      "C:\\Users\\SimoesLabAdmin\\AppData\\Local\\Temp\\ipykernel_2696\\1901606265.py:2: SettingWithCopyWarning: \n",
      "A value is trying to be set on a copy of a slice from a DataFrame\n",
      "\n",
      "See the caveats in the documentation: https://pandas.pydata.org/pandas-docs/stable/user_guide/indexing.html#returning-a-view-versus-a-copy\n",
      "  rep_tiago_dropped.loc[rep_tiago_dropped['cc'] == 'SJ', 'locality'] = 'Svalbard'\n"
     ]
    },
    {
     "data": {
      "text/html": [
       "<div>\n",
       "<style scoped>\n",
       "    .dataframe tbody tr th:only-of-type {\n",
       "        vertical-align: middle;\n",
       "    }\n",
       "\n",
       "    .dataframe tbody tr th {\n",
       "        vertical-align: top;\n",
       "    }\n",
       "\n",
       "    .dataframe thead th {\n",
       "        text-align: right;\n",
       "    }\n",
       "</style>\n",
       "<table border=\"1\" class=\"dataframe\">\n",
       "  <thead>\n",
       "    <tr style=\"text-align: right;\">\n",
       "      <th></th>\n",
       "      <th>occurrence_no</th>\n",
       "      <th>locality</th>\n",
       "      <th>county_original</th>\n",
       "      <th>state</th>\n",
       "      <th>cc</th>\n",
       "      <th>notes</th>\n",
       "    </tr>\n",
       "  </thead>\n",
       "  <tbody>\n",
       "    <tr>\n",
       "      <th>2414</th>\n",
       "      <td>1310774</td>\n",
       "      <td>Svalbard</td>\n",
       "      <td>NaN</td>\n",
       "      <td>NaN</td>\n",
       "      <td>SJ</td>\n",
       "      <td>what is SJ</td>\n",
       "    </tr>\n",
       "    <tr>\n",
       "      <th>2415</th>\n",
       "      <td>1419116</td>\n",
       "      <td>Svalbard</td>\n",
       "      <td>NaN</td>\n",
       "      <td>NaN</td>\n",
       "      <td>SJ</td>\n",
       "      <td>what is SJ</td>\n",
       "    </tr>\n",
       "    <tr>\n",
       "      <th>2416</th>\n",
       "      <td>1419483</td>\n",
       "      <td>Svalbard</td>\n",
       "      <td>NaN</td>\n",
       "      <td>NaN</td>\n",
       "      <td>SJ</td>\n",
       "      <td>what is SJ</td>\n",
       "    </tr>\n",
       "    <tr>\n",
       "      <th>2417</th>\n",
       "      <td>1420109</td>\n",
       "      <td>Svalbard</td>\n",
       "      <td>NaN</td>\n",
       "      <td>NaN</td>\n",
       "      <td>SJ</td>\n",
       "      <td>what is SJ</td>\n",
       "    </tr>\n",
       "    <tr>\n",
       "      <th>2418</th>\n",
       "      <td>1420150</td>\n",
       "      <td>Svalbard</td>\n",
       "      <td>NaN</td>\n",
       "      <td>NaN</td>\n",
       "      <td>SJ</td>\n",
       "      <td>what is SJ</td>\n",
       "    </tr>\n",
       "    <tr>\n",
       "      <th>2419</th>\n",
       "      <td>1420151</td>\n",
       "      <td>Svalbard</td>\n",
       "      <td>NaN</td>\n",
       "      <td>NaN</td>\n",
       "      <td>SJ</td>\n",
       "      <td>what is SJ</td>\n",
       "    </tr>\n",
       "    <tr>\n",
       "      <th>2420</th>\n",
       "      <td>1420184</td>\n",
       "      <td>Svalbard</td>\n",
       "      <td>NaN</td>\n",
       "      <td>NaN</td>\n",
       "      <td>SJ</td>\n",
       "      <td>what is SJ</td>\n",
       "    </tr>\n",
       "    <tr>\n",
       "      <th>2421</th>\n",
       "      <td>1529048</td>\n",
       "      <td>Svalbard</td>\n",
       "      <td>NaN</td>\n",
       "      <td>NaN</td>\n",
       "      <td>SJ</td>\n",
       "      <td>what is SJ</td>\n",
       "    </tr>\n",
       "  </tbody>\n",
       "</table>\n",
       "</div>"
      ],
      "text/plain": [
       "     occurrence_no  locality county_original state  cc       notes\n",
       "2414       1310774  Svalbard             NaN   NaN  SJ  what is SJ\n",
       "2415       1419116  Svalbard             NaN   NaN  SJ  what is SJ\n",
       "2416       1419483  Svalbard             NaN   NaN  SJ  what is SJ\n",
       "2417       1420109  Svalbard             NaN   NaN  SJ  what is SJ\n",
       "2418       1420150  Svalbard             NaN   NaN  SJ  what is SJ\n",
       "2419       1420151  Svalbard             NaN   NaN  SJ  what is SJ\n",
       "2420       1420184  Svalbard             NaN   NaN  SJ  what is SJ\n",
       "2421       1529048  Svalbard             NaN   NaN  SJ  what is SJ"
      ]
     },
     "execution_count": 122,
     "metadata": {},
     "output_type": "execute_result"
    }
   ],
   "source": [
    "# Set the locality column equal to 'Svalbard' where the country code is 'SJ'\n",
    "rep_tiago_dropped.loc[rep_tiago_dropped['cc'] == 'SJ', 'locality'] = 'Svalbard'\n",
    "rep_tiago_dropped[rep_tiago_dropped['cc'] == 'SJ']"
   ]
  },
  {
   "cell_type": "code",
   "execution_count": 123,
   "metadata": {},
   "outputs": [
    {
     "name": "stderr",
     "output_type": "stream",
     "text": [
      "C:\\Users\\SimoesLabAdmin\\AppData\\Local\\Temp\\ipykernel_2696\\3510182817.py:1: SettingWithCopyWarning: \n",
      "A value is trying to be set on a copy of a slice from a DataFrame\n",
      "\n",
      "See the caveats in the documentation: https://pandas.pydata.org/pandas-docs/stable/user_guide/indexing.html#returning-a-view-versus-a-copy\n",
      "  rep_tiago_dropped.loc[rep_tiago_dropped['cc'] == 'BG', 'locality'] = 'Bulgaria'\n"
     ]
    }
   ],
   "source": [
    "rep_tiago_dropped.loc[rep_tiago_dropped['cc'] == 'BG', 'locality'] = 'Bulgaria'"
   ]
  },
  {
   "cell_type": "code",
   "execution_count": 124,
   "metadata": {},
   "outputs": [
    {
     "data": {
      "text/html": [
       "<div>\n",
       "<style scoped>\n",
       "    .dataframe tbody tr th:only-of-type {\n",
       "        vertical-align: middle;\n",
       "    }\n",
       "\n",
       "    .dataframe tbody tr th {\n",
       "        vertical-align: top;\n",
       "    }\n",
       "\n",
       "    .dataframe thead th {\n",
       "        text-align: right;\n",
       "    }\n",
       "</style>\n",
       "<table border=\"1\" class=\"dataframe\">\n",
       "  <thead>\n",
       "    <tr style=\"text-align: right;\">\n",
       "      <th></th>\n",
       "      <th>occurrence_no</th>\n",
       "      <th>locality</th>\n",
       "      <th>county_original</th>\n",
       "      <th>state</th>\n",
       "      <th>cc</th>\n",
       "      <th>notes</th>\n",
       "    </tr>\n",
       "  </thead>\n",
       "  <tbody>\n",
       "    <tr>\n",
       "      <th>172</th>\n",
       "      <td>1094847</td>\n",
       "      <td>Bulgaria</td>\n",
       "      <td>NaN</td>\n",
       "      <td>NaN</td>\n",
       "      <td>BG</td>\n",
       "      <td>find out BG</td>\n",
       "    </tr>\n",
       "    <tr>\n",
       "      <th>2413</th>\n",
       "      <td>621595</td>\n",
       "      <td>NaN</td>\n",
       "      <td>NaN</td>\n",
       "      <td>NaN</td>\n",
       "      <td>SI</td>\n",
       "      <td>what is SI</td>\n",
       "    </tr>\n",
       "    <tr>\n",
       "      <th>2414</th>\n",
       "      <td>1310774</td>\n",
       "      <td>Svalbard</td>\n",
       "      <td>NaN</td>\n",
       "      <td>NaN</td>\n",
       "      <td>SJ</td>\n",
       "      <td>what is SJ</td>\n",
       "    </tr>\n",
       "    <tr>\n",
       "      <th>2415</th>\n",
       "      <td>1419116</td>\n",
       "      <td>Svalbard</td>\n",
       "      <td>NaN</td>\n",
       "      <td>NaN</td>\n",
       "      <td>SJ</td>\n",
       "      <td>what is SJ</td>\n",
       "    </tr>\n",
       "    <tr>\n",
       "      <th>2416</th>\n",
       "      <td>1419483</td>\n",
       "      <td>Svalbard</td>\n",
       "      <td>NaN</td>\n",
       "      <td>NaN</td>\n",
       "      <td>SJ</td>\n",
       "      <td>what is SJ</td>\n",
       "    </tr>\n",
       "    <tr>\n",
       "      <th>2417</th>\n",
       "      <td>1420109</td>\n",
       "      <td>Svalbard</td>\n",
       "      <td>NaN</td>\n",
       "      <td>NaN</td>\n",
       "      <td>SJ</td>\n",
       "      <td>what is SJ</td>\n",
       "    </tr>\n",
       "    <tr>\n",
       "      <th>2418</th>\n",
       "      <td>1420150</td>\n",
       "      <td>Svalbard</td>\n",
       "      <td>NaN</td>\n",
       "      <td>NaN</td>\n",
       "      <td>SJ</td>\n",
       "      <td>what is SJ</td>\n",
       "    </tr>\n",
       "    <tr>\n",
       "      <th>2419</th>\n",
       "      <td>1420151</td>\n",
       "      <td>Svalbard</td>\n",
       "      <td>NaN</td>\n",
       "      <td>NaN</td>\n",
       "      <td>SJ</td>\n",
       "      <td>what is SJ</td>\n",
       "    </tr>\n",
       "    <tr>\n",
       "      <th>2420</th>\n",
       "      <td>1420184</td>\n",
       "      <td>Svalbard</td>\n",
       "      <td>NaN</td>\n",
       "      <td>NaN</td>\n",
       "      <td>SJ</td>\n",
       "      <td>what is SJ</td>\n",
       "    </tr>\n",
       "    <tr>\n",
       "      <th>2421</th>\n",
       "      <td>1529048</td>\n",
       "      <td>Svalbard</td>\n",
       "      <td>NaN</td>\n",
       "      <td>NaN</td>\n",
       "      <td>SJ</td>\n",
       "      <td>what is SJ</td>\n",
       "    </tr>\n",
       "  </tbody>\n",
       "</table>\n",
       "</div>"
      ],
      "text/plain": [
       "     occurrence_no  locality county_original state  cc        notes\n",
       "172        1094847  Bulgaria             NaN   NaN  BG  find out BG\n",
       "2413        621595       NaN             NaN   NaN  SI   what is SI\n",
       "2414       1310774  Svalbard             NaN   NaN  SJ   what is SJ\n",
       "2415       1419116  Svalbard             NaN   NaN  SJ   what is SJ\n",
       "2416       1419483  Svalbard             NaN   NaN  SJ   what is SJ\n",
       "2417       1420109  Svalbard             NaN   NaN  SJ   what is SJ\n",
       "2418       1420150  Svalbard             NaN   NaN  SJ   what is SJ\n",
       "2419       1420151  Svalbard             NaN   NaN  SJ   what is SJ\n",
       "2420       1420184  Svalbard             NaN   NaN  SJ   what is SJ\n",
       "2421       1529048  Svalbard             NaN   NaN  SJ   what is SJ"
      ]
     },
     "execution_count": 124,
     "metadata": {},
     "output_type": "execute_result"
    }
   ],
   "source": [
    "rep_tiago_dropped[rep_tiago_dropped['notes'].notna()]"
   ]
  },
  {
   "cell_type": "code",
   "execution_count": 125,
   "metadata": {},
   "outputs": [
    {
     "name": "stderr",
     "output_type": "stream",
     "text": [
      "C:\\Users\\SimoesLabAdmin\\AppData\\Local\\Temp\\ipykernel_2696\\304037652.py:1: SettingWithCopyWarning: \n",
      "A value is trying to be set on a copy of a slice from a DataFrame\n",
      "\n",
      "See the caveats in the documentation: https://pandas.pydata.org/pandas-docs/stable/user_guide/indexing.html#returning-a-view-versus-a-copy\n",
      "  rep_tiago_dropped.loc[rep_tiago_dropped['cc'] == 'SI', 'locality'] = 'Slovenia'\n"
     ]
    }
   ],
   "source": [
    "rep_tiago_dropped.loc[rep_tiago_dropped['cc'] == 'SI', 'locality'] = 'Slovenia' "
   ]
  },
  {
   "cell_type": "code",
   "execution_count": 111,
   "metadata": {},
   "outputs": [
    {
     "name": "stdout",
     "output_type": "stream",
     "text": [
      "<class 'pandas.core.frame.DataFrame'>\n",
      "Int64Index: 2229 entries, 4 to 2246\n",
      "Data columns (total 6 columns):\n",
      " #   Column           Non-Null Count  Dtype \n",
      "---  ------           --------------  ----- \n",
      " 0   occurrence_no    2229 non-null   object\n",
      " 1   locality         2203 non-null   object\n",
      " 2   county_original  1737 non-null   object\n",
      " 3   state            2194 non-null   object\n",
      " 4   cc               2229 non-null   object\n",
      " 5   notes            26 non-null     object\n",
      "dtypes: object(6)\n",
      "memory usage: 121.9+ KB\n"
     ]
    }
   ],
   "source": [
    "tem_tiago_dropped = tem_tiago[tem_tiago['notes'] != 'delete']\n",
    "tem_tiago_dropped.info()"
   ]
  },
  {
   "cell_type": "markdown",
   "metadata": {},
   "source": [
    "# Final DeepDive Processing"
   ]
  },
  {
   "cell_type": "markdown",
   "metadata": {},
   "source": []
  },
  {
   "cell_type": "markdown",
   "metadata": {},
   "source": [
    "#### Dropping Remaining 'County' Null Rows"
   ]
  },
  {
   "cell_type": "code",
   "execution_count": 85,
   "metadata": {},
   "outputs": [
    {
     "data": {
      "text/plain": [
       "(genus                 0\n",
       " county              198\n",
       " state               212\n",
       " occurrence_no         0\n",
       " age_max               0\n",
       " age_min               0\n",
       " cc                    8\n",
       " county_original    1495\n",
       " dtype: int64,\n",
       " genus                 0\n",
       " county              180\n",
       " state               180\n",
       " occurrence_no         0\n",
       " age_max               0\n",
       " age_min               0\n",
       " cc                   27\n",
       " county_original    1115\n",
       " dtype: int64,\n",
       " genus                0\n",
       " county              53\n",
       " state               55\n",
       " occurrence_no        0\n",
       " age_max              0\n",
       " age_min              0\n",
       " cc                   0\n",
       " county_original    510\n",
       " dtype: int64)"
      ]
     },
     "execution_count": 85,
     "metadata": {},
     "output_type": "execute_result"
    }
   ],
   "source": [
    "rep_deepdive_cleaned_imputed.isna().sum(), syn_deepdive_cleaned_imputed.isna().sum(), tem_deepdive_cleaned_imputed.isna().sum()\n"
   ]
  },
  {
   "cell_type": "code",
   "execution_count": 87,
   "metadata": {},
   "outputs": [
    {
     "data": {
      "text/plain": [
       "(genus                 0\n",
       " county                0\n",
       " state                14\n",
       " occurrence_no         0\n",
       " age_max               0\n",
       " age_min               0\n",
       " cc                    7\n",
       " county_original    1297\n",
       " dtype: int64,\n",
       " genus                0\n",
       " county               0\n",
       " state                0\n",
       " occurrence_no        0\n",
       " age_max              0\n",
       " age_min              0\n",
       " cc                   1\n",
       " county_original    935\n",
       " dtype: int64,\n",
       " genus                0\n",
       " county               0\n",
       " state                2\n",
       " occurrence_no        0\n",
       " age_max              0\n",
       " age_min              0\n",
       " cc                   0\n",
       " county_original    457\n",
       " dtype: int64)"
      ]
     },
     "execution_count": 87,
     "metadata": {},
     "output_type": "execute_result"
    }
   ],
   "source": [
    "# Dropping county nulls\n",
    "rep_deepdive_final = rep_deepdive_cleaned_imputed.dropna(subset=['county'])\n",
    "syn_deepdive_final = syn_deepdive_cleaned_imputed.dropna(subset=['county'])\n",
    "tem_deepdive_final = tem_deepdive_cleaned_imputed.dropna(subset=['county'])\n",
    "\n",
    "rep_deepdive_final.isna().sum(), syn_deepdive_final.isna().sum(), tem_deepdive_final.isna().sum()\n"
   ]
  },
  {
   "cell_type": "code",
   "execution_count": 88,
   "metadata": {},
   "outputs": [
    {
     "data": {
      "text/plain": [
       "(Taxon       0\n",
       " Locality    0\n",
       " MaxAge      0\n",
       " MinAge      0\n",
       " Area        0\n",
       " dtype: int64,\n",
       " Taxon       0\n",
       " Locality    0\n",
       " MaxAge      0\n",
       " MinAge      0\n",
       " Area        0\n",
       " dtype: int64,\n",
       " Taxon       0\n",
       " Locality    0\n",
       " MaxAge      0\n",
       " MinAge      0\n",
       " Area        0\n",
       " dtype: int64)"
      ]
     },
     "execution_count": 88,
     "metadata": {},
     "output_type": "execute_result"
    }
   ],
   "source": [
    "# Dropping 'state', 'occurrence_no', 'county_original', and 'cc' columns\n",
    "rep_deepdive_final = rep_deepdive_final.drop(columns=['state', 'occurrence_no', 'county_original', 'cc'])\n",
    "syn_deepdive_final = syn_deepdive_final.drop(columns=['state', 'occurrence_no', 'county_original', 'cc'])\n",
    "tem_deepdive_final = tem_deepdive_final.drop(columns=['state', 'occurrence_no', 'county_original', 'cc'])\n",
    "\n",
    "# Creating a new 'Area' column filled with 1's\n",
    "rep_deepdive_final['Area'] = 1\n",
    "syn_deepdive_final['Area'] = 1\n",
    "tem_deepdive_final['Area'] = 1\n",
    "\n",
    "# Renaming columns\n",
    "rep_deepdive_final.rename(columns={'genus': 'Taxon', 'county': 'Locality', 'age_max': 'MaxAge', 'age_min':'MinAge'}, inplace=True)\n",
    "syn_deepdive_final.rename(columns={'genus': 'Taxon', 'county': 'Locality', 'age_max': 'MaxAge', 'age_min':'MinAge'}, inplace=True)\n",
    "tem_deepdive_final.rename(columns={'genus': 'Taxon', 'county': 'Locality', 'age_max': 'MaxAge', 'age_min':'MinAge'}, inplace=True)\n",
    "\n",
    "\n",
    "rep_deepdive_final.isna().sum(), syn_deepdive_final.isna().sum(), tem_deepdive_final.isna().sum()"
   ]
  },
  {
   "cell_type": "code",
   "execution_count": 89,
   "metadata": {},
   "outputs": [
    {
     "name": "stdout",
     "output_type": "stream",
     "text": [
      "           Taxon    Locality   MaxAge  MinAge  Area\n",
      "0    Icarosaurus      Hudson  227.000   208.5     1\n",
      "1       Rutiodon      Hudson  227.000   208.5     1\n",
      "2  Kuehneosuchus    Somerset  208.500   201.4     1\n",
      "3  Kuehneosaurus    Somerset  208.500   201.4     1\n",
      "4    Procolophon  Chris Hani  251.902   247.2     1\n",
      "            Taxon     Locality  MaxAge  MinAge  Area\n",
      "0    Edaphosaurus         Ohio   303.7   298.9     1\n",
      "1      Ophiacodon       Archer   290.1   283.5     1\n",
      "2  Therioherpeton  Santa Maria   237.0   208.5     1\n",
      "3      Ophiacodon     San Juan   298.9   290.1     1\n",
      "4   Adelobasileus       Crosby   227.0   208.5     1\n",
      "          Taxon    Locality  MaxAge  MinAge  Area\n",
      "0    Anconastes  Rio Arriba   305.9  298.90     1\n",
      "1   Broiliellus      Baylor   283.5  273.01     1\n",
      "2   Broiliellus        Clay   298.9  286.10     1\n",
      "3        Eryops      Archer   290.1  283.50     1\n",
      "4  Aspidosaurus      Archer   290.1  283.50     1\n"
     ]
    },
    {
     "data": {
      "text/plain": [
       "(None, None, None)"
      ]
     },
     "execution_count": 89,
     "metadata": {},
     "output_type": "execute_result"
    }
   ],
   "source": [
    "print(rep_deepdive_final.head()), print(syn_deepdive_final.head()), print(tem_deepdive_final.head())"
   ]
  },
  {
   "cell_type": "code",
   "execution_count": 90,
   "metadata": {},
   "outputs": [
    {
     "name": "stdout",
     "output_type": "stream",
     "text": [
      "<class 'pandas.core.frame.DataFrame'>\n",
      "Int64Index: 4213 entries, 0 to 4410\n",
      "Data columns (total 5 columns):\n",
      " #   Column    Non-Null Count  Dtype  \n",
      "---  ------    --------------  -----  \n",
      " 0   Taxon     4213 non-null   object \n",
      " 1   Locality  4213 non-null   object \n",
      " 2   MaxAge    4213 non-null   float64\n",
      " 3   MinAge    4213 non-null   float64\n",
      " 4   Area      4213 non-null   int64  \n",
      "dtypes: float64(2), int64(1), object(2)\n",
      "memory usage: 197.5+ KB\n",
      "<class 'pandas.core.frame.DataFrame'>\n",
      "Int64Index: 3242 entries, 0 to 3421\n",
      "Data columns (total 5 columns):\n",
      " #   Column    Non-Null Count  Dtype  \n",
      "---  ------    --------------  -----  \n",
      " 0   Taxon     3242 non-null   object \n",
      " 1   Locality  3242 non-null   object \n",
      " 2   MaxAge    3242 non-null   float64\n",
      " 3   MinAge    3242 non-null   float64\n",
      " 4   Area      3242 non-null   int64  \n",
      "dtypes: float64(2), int64(1), object(2)\n",
      "memory usage: 152.0+ KB\n",
      "<class 'pandas.core.frame.DataFrame'>\n",
      "Int64Index: 2194 entries, 0 to 2246\n",
      "Data columns (total 5 columns):\n",
      " #   Column    Non-Null Count  Dtype  \n",
      "---  ------    --------------  -----  \n",
      " 0   Taxon     2194 non-null   object \n",
      " 1   Locality  2194 non-null   object \n",
      " 2   MaxAge    2194 non-null   float64\n",
      " 3   MinAge    2194 non-null   float64\n",
      " 4   Area      2194 non-null   int64  \n",
      "dtypes: float64(2), int64(1), object(2)\n",
      "memory usage: 102.8+ KB\n"
     ]
    },
    {
     "data": {
      "text/plain": [
       "(None, None, None)"
      ]
     },
     "execution_count": 90,
     "metadata": {},
     "output_type": "execute_result"
    }
   ],
   "source": [
    "rep_deepdive_final.info(), syn_deepdive_final.info(), tem_deepdive_final.info()"
   ]
  },
  {
   "cell_type": "code",
   "execution_count": 91,
   "metadata": {},
   "outputs": [
    {
     "data": {
      "text/plain": [
       "(            MaxAge       MinAge    Area\n",
       " count  4213.000000  4213.000000  4213.0\n",
       " mean    241.141247   231.816973     1.0\n",
       " std      23.491122    25.601778     0.0\n",
       " min     201.400000   199.500000     1.0\n",
       " 25%     227.000000   208.500000     1.0\n",
       " 50%     239.700000   237.000000     1.0\n",
       " 75%     259.510000   251.902000     1.0\n",
       " max     298.900000   293.520000     1.0,\n",
       "             MaxAge       MinAge    Area\n",
       " count  3242.000000  3242.000000  3242.0\n",
       " mean    258.653055   251.159779     1.0\n",
       " std      18.348969    19.251846     0.0\n",
       " min     208.500000   201.400000     1.0\n",
       " 25%     251.900000   247.200000     1.0\n",
       " 50%     259.510000   254.140000     1.0\n",
       " 75%     264.280000   259.510000     1.0\n",
       " max     309.800000   307.400000     1.0,\n",
       "             MaxAge       MinAge    Area\n",
       " count  2194.000000  2194.000000  2194.0\n",
       " mean    270.526160   263.144923     1.0\n",
       " std      26.869761    28.234802     0.0\n",
       " min     208.500000   201.400000     1.0\n",
       " 25%     251.200000   247.200000     1.0\n",
       " 50%     266.900000   256.800000     1.0\n",
       " 75%     298.900000   293.520000     1.0\n",
       " max     309.800000   307.400000     1.0)"
      ]
     },
     "execution_count": 91,
     "metadata": {},
     "output_type": "execute_result"
    }
   ],
   "source": [
    "rep_deepdive_final.describe(), syn_deepdive_final.describe(), tem_deepdive_final.describe()"
   ]
  },
  {
   "cell_type": "code",
   "execution_count": 92,
   "metadata": {},
   "outputs": [],
   "source": [
    "def descriptions(df):\n",
    "    print(\"Length of df \" + str(len(df)))\n",
    "    print(\"Unique taxa count \" + str(len(df['Taxon'].value_counts())))\n",
    "    print(\"Unique localities count \" + str(len(df['Locality'].value_counts())))"
   ]
  },
  {
   "cell_type": "code",
   "execution_count": 93,
   "metadata": {},
   "outputs": [
    {
     "name": "stdout",
     "output_type": "stream",
     "text": [
      "Length of df 4213\n",
      "Unique taxa count 676\n",
      "Unique localities count 480\n"
     ]
    }
   ],
   "source": [
    "descriptions(rep_deepdive_final)"
   ]
  },
  {
   "cell_type": "code",
   "execution_count": 94,
   "metadata": {},
   "outputs": [
    {
     "name": "stdout",
     "output_type": "stream",
     "text": [
      "Length of df 3242\n",
      "Unique taxa count 506\n",
      "Unique localities count 321\n"
     ]
    }
   ],
   "source": [
    "descriptions(syn_deepdive_final)"
   ]
  },
  {
   "cell_type": "code",
   "execution_count": 95,
   "metadata": {},
   "outputs": [
    {
     "name": "stdout",
     "output_type": "stream",
     "text": [
      "Length of df 2194\n",
      "Unique taxa count 257\n",
      "Unique localities count 309\n"
     ]
    }
   ],
   "source": [
    "descriptions(tem_deepdive_final)"
   ]
  },
  {
   "cell_type": "code",
   "execution_count": 96,
   "metadata": {},
   "outputs": [],
   "source": [
    "# Saving final deepdive input datasets\n",
    "rep_deepdive_final.to_csv('reptilia_processed_data/reptilia_deepdive_final.csv', index=False)\n",
    "syn_deepdive_final.to_csv('synapsida_processed_data/synapsida_deepdive_final.csv', index=False)\n",
    "tem_deepdive_final.to_csv('temnospondyli_processed_data/temnospondyli_deepdive_final.csv', index=False)"
   ]
  },
  {
   "cell_type": "code",
   "execution_count": null,
   "metadata": {},
   "outputs": [],
   "source": []
  }
 ],
 "metadata": {
  "kernelspec": {
   "display_name": "env",
   "language": "python",
   "name": "python3"
  },
  "language_info": {
   "codemirror_mode": {
    "name": "ipython",
    "version": 3
   },
   "file_extension": ".py",
   "mimetype": "text/x-python",
   "name": "python",
   "nbconvert_exporter": "python",
   "pygments_lexer": "ipython3",
   "version": "3.10.14"
  }
 },
 "nbformat": 4,
 "nbformat_minor": 2
}
