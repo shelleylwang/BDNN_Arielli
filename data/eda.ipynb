{
 "cells": [
  {
   "cell_type": "markdown",
   "metadata": {},
   "source": [
    "This EDA nb is using occurrence tables e-mailed from Tiago on 9/27 (duplicated, with rotated lat and long columns)"
   ]
  },
  {
   "cell_type": "markdown",
   "metadata": {},
   "source": [
    "## Imports + Loading In Data"
   ]
  },
  {
   "cell_type": "code",
   "execution_count": 16,
   "metadata": {},
   "outputs": [],
   "source": [
    "import pandas as pd\n"
   ]
  },
  {
   "cell_type": "code",
   "execution_count": 6,
   "metadata": {},
   "outputs": [
    {
     "name": "stdout",
     "output_type": "stream",
     "text": [
      "Collecting openpyxl\n",
      "  Downloading openpyxl-3.1.5-py2.py3-none-any.whl.metadata (2.5 kB)\n",
      "Collecting et-xmlfile (from openpyxl)\n",
      "  Downloading et_xmlfile-1.1.0-py3-none-any.whl.metadata (1.8 kB)\n",
      "Downloading openpyxl-3.1.5-py2.py3-none-any.whl (250 kB)\n",
      "Downloading et_xmlfile-1.1.0-py3-none-any.whl (4.7 kB)\n",
      "Installing collected packages: et-xmlfile, openpyxl\n",
      "Successfully installed et-xmlfile-1.1.0 openpyxl-3.1.5\n",
      "Note: you may need to restart the kernel to use updated packages.\n"
     ]
    }
   ],
   "source": [
    "%pip install openpyxl"
   ]
  },
  {
   "cell_type": "code",
   "execution_count": 17,
   "metadata": {},
   "outputs": [],
   "source": [
    "# Loading in data w/ rotated coordinates\n",
    "rep = pd.read_excel('reptilia_occ_genus.xlsm', engine='openpyxl')\n",
    "syn = pd.read_excel('synapsida_occ_genus.xlsm', engine='openpyxl')\n",
    "tem = pd.read_excel('temnospondyli_occ_genus.xlsm', engine='openpyxl')"
   ]
  },
  {
   "cell_type": "markdown",
   "metadata": {},
   "source": [
    "## Saving Nulls as CSV's"
   ]
  },
  {
   "cell_type": "code",
   "execution_count": 25,
   "metadata": {},
   "outputs": [],
   "source": [
    "# Seeing how many nulls are in each column will help us decide which columns to drop\n",
    "nulls_rep = rep.isna().sum()\n",
    "nulls_syn = syn.isna().sum()\n",
    "nulls_tem = tem.isna().sum()\n",
    "\n",
    "# Concatenating the nulls into a single dataframe based on a shared index\n",
    "# This will allow us to compare the nulls across the three datasets\n",
    "nulls = pd.concat([nulls_rep, nulls_syn, nulls_tem], axis=1)\n",
    "nulls.columns = ['Reptilia', 'Synapsida', 'Temnospondyli']\n",
    "\n",
    "nulls.to_csv('nulls.csv')"
   ]
  },
  {
   "cell_type": "code",
   "execution_count": 31,
   "metadata": {},
   "outputs": [
    {
     "data": {
      "text/plain": [
       "(119, 94)"
      ]
     },
     "execution_count": 31,
     "metadata": {},
     "output_type": "execute_result"
    }
   ],
   "source": [
    "# len of nulls df is diff from len of columns in rep\n",
    "# which means there are columns that are not shared\n",
    "len(nulls.index), len(rep.columns)"
   ]
  },
  {
   "cell_type": "code",
   "execution_count": 38,
   "metadata": {},
   "outputs": [
    {
     "name": "stdout",
     "output_type": "stream",
     "text": [
      "Index(['abund_in_sediment', 'artifacts', 'component_comments', 'concentration',\n",
      "       'fossilsfrom1', 'fossilsfrom2', 'lagerstatten', 'lithadj2', 'localbed',\n",
      "       'localsection', 'minor_lithology2', 'orientation', 'reference_no.x',\n",
      "       'temporal_resolution'],\n",
      "      dtype='object')\n"
     ]
    }
   ],
   "source": [
    "# Finding which columns rep, syn, and tem do not share\n",
    "# Crude code, just to see if there are any differences, not finding all differences\n",
    "# Because any not-shared columns wouldn't be included in the analysis anyway\n",
    "\n",
    "\n",
    "if rep.columns.all() == syn.columns.all() == tem.columns.all():\n",
    "    print('All columns are the same')\n",
    "else:\n",
    "    diff = rep.columns.difference(syn.columns).difference(tem.columns)\n",
    "    print(diff)"
   ]
  },
  {
   "cell_type": "markdown",
   "metadata": {},
   "source": [
    "## Confirming that this is dataset w/ duplicated rows (eda_duplicates)"
   ]
  },
  {
   "cell_type": "code",
   "execution_count": 11,
   "metadata": {},
   "outputs": [],
   "source": [
    "# Loading in datasets that I had previously duplicated (i.e., the output of eda_duplicates.ipynb)\n",
    "rep_old = pd.read_csv('occurrence_tables_1/reptilia_dup.csv')\n",
    "syn_old = pd.read_csv('occurrence_tables_1/synapsida_dup.csv')\n",
    "tem_old = pd.read_csv('occurrence_tables_1/temnospondyli_dup.csv')"
   ]
  },
  {
   "cell_type": "code",
   "execution_count": 12,
   "metadata": {},
   "outputs": [
    {
     "data": {
      "text/plain": [
       "(4411, 4411, 3422, 3422, 2247, 2247)"
      ]
     },
     "execution_count": 12,
     "metadata": {},
     "output_type": "execute_result"
    }
   ],
   "source": [
    "# Checking that the lengths of the original and new datasets are the same\n",
    "len(rep_old), len(rep), len(syn_old), len(syn), len(tem_old), len(tem)"
   ]
  },
  {
   "cell_type": "code",
   "execution_count": 14,
   "metadata": {},
   "outputs": [
    {
     "data": {
      "text/plain": [
       "1.0    2032\n",
       "Name: abund_value, dtype: int64"
      ]
     },
     "execution_count": 14,
     "metadata": {},
     "output_type": "execute_result"
    }
   ],
   "source": [
    "# One last double-check to make sure that the datasets are the same\n",
    "# All 'abund_values' for \"individuals\" should be 1\n",
    "individuals = rep[rep['abund_unit'] == 'individuals']\n",
    "individuals['abund_value'].value_counts()"
   ]
  },
  {
   "cell_type": "markdown",
   "metadata": {},
   "source": [
    "## Filtering to BDNN columns"
   ]
  },
  {
   "cell_type": "code",
   "execution_count": 15,
   "metadata": {},
   "outputs": [
    {
     "data": {
      "text/plain": [
       "Index(['id', 'Rotated Lat', 'Rotated Lon', 'occurrence_no', 'pres_mode',\n",
       "       'preservation_quality', 'common_body_parts', 'abund_value',\n",
       "       'abund_unit', 'class', 'family', 'genus', 'taxon_environment',\n",
       "       'life_habit', 'diet', 'early_interval', 'late_interval', 'time_bins',\n",
       "       'museum', 'collection_no', 'age_max', 'age_min', 'age_median',\n",
       "       'age_uncer_range', 'lng', 'lat', 'environment', 'occurrence_comments',\n",
       "       'cc', 'state', 'county', 'formation', 'stratgroup', 'member', 'zone',\n",
       "       'accepted_rank', 'ref_author', 'ref_pubyr', 'reference_no.x',\n",
       "       'collection_name', 'collection_subset', 'collection_aka',\n",
       "       'latlng_basis', 'latlng_precision', 'geogscale', 'geogcomments',\n",
       "       'paleomodel', 'geoplate', 'paleoage', 'paleolng', 'paleolat',\n",
       "       'paleomodel2', 'geoplate2', 'paleoage2', 'paleolng2', 'paleolat2',\n",
       "       'paleomodel3', 'geoplate3', 'paleoage3', 'paleolng3', 'paleolat3',\n",
       "       'protected', 'stratscale', 'localsection', 'localbed', 'stratcomments',\n",
       "       'lithdescript', 'lithology1', 'lithadj1', 'lithification1',\n",
       "       'minor_lithology1', 'fossilsfrom1', 'lithology2', 'lithadj2',\n",
       "       'lithification2', 'minor_lithology2', 'fossilsfrom2',\n",
       "       'tectonic_setting', 'geology_comments', 'assembl_comps',\n",
       "       'articulated_parts', 'associated_parts', 'rare_body_parts',\n",
       "       'feed_pred_traces', 'artifacts', 'component_comments',\n",
       "       'spatial_resolution', 'temporal_resolution', 'lagerstatten',\n",
       "       'concentration', 'orientation', 'abund_in_sediment',\n",
       "       'collection_comments', 'taxonomy_comments'],\n",
       "      dtype='object')"
      ]
     },
     "execution_count": 15,
     "metadata": {},
     "output_type": "execute_result"
    }
   ],
   "source": [
    "rep.columns"
   ]
  },
  {
   "cell_type": "code",
   "execution_count": null,
   "metadata": {},
   "outputs": [],
   "source": []
  },
  {
   "cell_type": "code",
   "execution_count": 39,
   "metadata": {},
   "outputs": [
    {
     "data": {
      "text/plain": [
       "Rotated Lat          0\n",
       "Rotated Lon          0\n",
       "class                0\n",
       "family               0\n",
       "genus                0\n",
       "taxon_environment    0\n",
       "age_max              0\n",
       "age_min              0\n",
       "cc                   8\n",
       "dtype: int64"
      ]
     },
     "execution_count": 39,
     "metadata": {},
     "output_type": "execute_result"
    }
   ],
   "source": [
    "# More columns confirmed to come!\n",
    "rep_filtered = rep[['Rotated Lat', 'Rotated Lon', 'class', \n",
    "                    'family', 'genus', 'taxon_environment', \n",
    "                    'age_max', 'age_min', 'cc']]\n",
    "rep_filtered.isna().sum()"
   ]
  },
  {
   "cell_type": "code",
   "execution_count": 41,
   "metadata": {},
   "outputs": [
    {
     "data": {
      "text/plain": [
       "0     terrestrial\n",
       "1     terrestrial\n",
       "2     terrestrial\n",
       "3     terrestrial\n",
       "4     terrestrial\n",
       "5     terrestrial\n",
       "6     terrestrial\n",
       "7     terrestrial\n",
       "8     terrestrial\n",
       "9     terrestrial\n",
       "10    terrestrial\n",
       "11    terrestrial\n",
       "12    terrestrial\n",
       "13    terrestrial\n",
       "14    terrestrial\n",
       "15    terrestrial\n",
       "16    terrestrial\n",
       "17    terrestrial\n",
       "18    terrestrial\n",
       "19    terrestrial\n",
       "Name: taxon_environment, dtype: object"
      ]
     },
     "execution_count": 41,
     "metadata": {},
     "output_type": "execute_result"
    }
   ],
   "source": [
    "rep_filtered['taxon_environment'].head(20)"
   ]
  },
  {
   "cell_type": "code",
   "execution_count": 42,
   "metadata": {},
   "outputs": [
    {
     "data": {
      "text/plain": [
       "0     lacustrine - large\n",
       "1     lacustrine - large\n",
       "2           fissure fill\n",
       "3           fissure fill\n",
       "4         fluvial indet.\n",
       "5     terrestrial indet.\n",
       "6     terrestrial indet.\n",
       "7           fissure fill\n",
       "8           fissure fill\n",
       "9           fissure fill\n",
       "10          fissure fill\n",
       "11          fissure fill\n",
       "12          fissure fill\n",
       "13          fissure fill\n",
       "14          fissure fill\n",
       "15          fissure fill\n",
       "16          fissure fill\n",
       "17          fissure fill\n",
       "18          fissure fill\n",
       "19          fissure fill\n",
       "Name: environment, dtype: object"
      ]
     },
     "execution_count": 42,
     "metadata": {},
     "output_type": "execute_result"
    }
   ],
   "source": [
    "rep['environment'].head(20)"
   ]
  },
  {
   "cell_type": "code",
   "execution_count": null,
   "metadata": {},
   "outputs": [],
   "source": []
  }
 ],
 "metadata": {
  "kernelspec": {
   "display_name": "env",
   "language": "python",
   "name": "python3"
  },
  "language_info": {
   "codemirror_mode": {
    "name": "ipython",
    "version": 3
   },
   "file_extension": ".py",
   "mimetype": "text/x-python",
   "name": "python",
   "nbconvert_exporter": "python",
   "pygments_lexer": "ipython3",
   "version": "3.10.14"
  }
 },
 "nbformat": 4,
 "nbformat_minor": 2
}
