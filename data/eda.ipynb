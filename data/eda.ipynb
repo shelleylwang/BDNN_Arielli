{
 "cells": [
  {
   "cell_type": "markdown",
   "metadata": {},
   "source": [
    "This EDA nb is using occurrence tables e-mailed from Tiago on 9/27 (duplicated, with rotated lat and long columns)"
   ]
  },
  {
   "cell_type": "markdown",
   "metadata": {},
   "source": [
    "## Imports + Loading In Data"
   ]
  },
  {
   "cell_type": "code",
   "execution_count": 6,
   "metadata": {},
   "outputs": [],
   "source": [
    "import pandas as pd\n"
   ]
  },
  {
   "cell_type": "code",
   "execution_count": 7,
   "metadata": {},
   "outputs": [
    {
     "name": "stdout",
     "output_type": "stream",
     "text": [
      "Requirement already satisfied: openpyxl in c:\\users\\simoeslabadmin\\anaconda3\\envs\\env\\lib\\site-packages (3.1.5)Note: you may need to restart the kernel to use updated packages.\n",
      "\n",
      "Requirement already satisfied: et-xmlfile in c:\\users\\simoeslabadmin\\anaconda3\\envs\\env\\lib\\site-packages (from openpyxl) (1.1.0)\n"
     ]
    }
   ],
   "source": [
    "%pip install openpyxl"
   ]
  },
  {
   "cell_type": "code",
   "execution_count": 8,
   "metadata": {},
   "outputs": [],
   "source": [
    "# Loading in data w/ rotated coordinates\n",
    "rep = pd.read_excel('reptilia_occ_genus.xlsm', engine='openpyxl')\n",
    "syn = pd.read_excel('synapsida_occ_genus.xlsm', engine='openpyxl')\n",
    "tem = pd.read_excel('temnospondyli_occ_genus.xlsm', engine='openpyxl')"
   ]
  },
  {
   "cell_type": "code",
   "execution_count": 9,
   "metadata": {},
   "outputs": [
    {
     "data": {
      "text/plain": [
       "1495"
      ]
     },
     "execution_count": 9,
     "metadata": {},
     "output_type": "execute_result"
    }
   ],
   "source": [
    "rep['county'].isna().sum()"
   ]
  },
  {
   "cell_type": "code",
   "execution_count": 10,
   "metadata": {},
   "outputs": [
    {
     "data": {
      "text/plain": [
       "Apache                    234\n",
       "Comanche                  152\n",
       "Rio Arriba                 88\n",
       "Franklin                   78\n",
       "Gloucestershire            67\n",
       "                         ... \n",
       "Malmyzh                     1\n",
       "Anson                       1\n",
       "Sa√É¬¥ne-et-Loire           1\n",
       "Huesca                      1\n",
       "Aliwal North Commonage      1\n",
       "Name: county, Length: 355, dtype: int64"
      ]
     },
     "execution_count": 10,
     "metadata": {},
     "output_type": "execute_result"
    }
   ],
   "source": [
    "rep['county'].value_counts()"
   ]
  },
  {
   "cell_type": "markdown",
   "metadata": {},
   "source": [
    "## Saving Nulls as CSV's"
   ]
  },
  {
   "cell_type": "code",
   "execution_count": 11,
   "metadata": {},
   "outputs": [],
   "source": [
    "# Seeing how many nulls are in each column will help us decide which columns to drop\n",
    "nulls_rep = rep.isna().sum()\n",
    "nulls_syn = syn.isna().sum()\n",
    "nulls_tem = tem.isna().sum()\n",
    "\n",
    "# Concatenating the nulls into a single dataframe based on a shared index\n",
    "# This will allow us to compare the nulls across the three datasets\n",
    "nulls = pd.concat([nulls_rep, nulls_syn, nulls_tem], axis=1)\n",
    "nulls.columns = ['Reptilia', 'Synapsida', 'Temnospondyli']\n",
    "\n",
    "nulls.to_csv('nulls.csv')"
   ]
  },
  {
   "cell_type": "code",
   "execution_count": 12,
   "metadata": {},
   "outputs": [
    {
     "data": {
      "text/plain": [
       "(119, 94)"
      ]
     },
     "execution_count": 12,
     "metadata": {},
     "output_type": "execute_result"
    }
   ],
   "source": [
    "# len of nulls df is diff from len of columns in rep\n",
    "# which means there are columns that are not shared\n",
    "len(nulls.index), len(rep.columns)"
   ]
  },
  {
   "cell_type": "code",
   "execution_count": 13,
   "metadata": {},
   "outputs": [
    {
     "name": "stdout",
     "output_type": "stream",
     "text": [
      "Index(['abund_in_sediment', 'artifacts', 'component_comments', 'concentration',\n",
      "       'fossilsfrom1', 'fossilsfrom2', 'lagerstatten', 'lithadj2', 'localbed',\n",
      "       'localsection', 'minor_lithology2', 'orientation', 'reference_no.x',\n",
      "       'temporal_resolution'],\n",
      "      dtype='object')\n"
     ]
    }
   ],
   "source": [
    "# Finding which columns rep, syn, and tem do not share\n",
    "# Crude code, just to see if there are any differences, not finding all differences\n",
    "# Because any not-shared columns wouldn't be included in the analysis anyway\n",
    "\n",
    "if rep.columns.all() == syn.columns.all() == tem.columns.all():\n",
    "    print('All columns are the same')\n",
    "else:\n",
    "    diff = rep.columns.difference(syn.columns).difference(tem.columns)\n",
    "    print(diff)"
   ]
  },
  {
   "cell_type": "markdown",
   "metadata": {},
   "source": [
    "## Confirming that these are Datasets w/ duplicated rows (eda_duplicates)"
   ]
  },
  {
   "cell_type": "code",
   "execution_count": 14,
   "metadata": {},
   "outputs": [],
   "source": [
    "# Loading in datasets that I had previously duplicated (i.e., the output of eda_duplicates.ipynb)\n",
    "rep_old = pd.read_csv('occurrence_tables_1/reptilia_dup.csv')\n",
    "syn_old = pd.read_csv('occurrence_tables_1/synapsida_dup.csv')\n",
    "tem_old = pd.read_csv('occurrence_tables_1/temnospondyli_dup.csv')"
   ]
  },
  {
   "cell_type": "code",
   "execution_count": 15,
   "metadata": {},
   "outputs": [
    {
     "data": {
      "text/plain": [
       "(4411, 4411, 3422, 3422, 2247, 2247)"
      ]
     },
     "execution_count": 15,
     "metadata": {},
     "output_type": "execute_result"
    }
   ],
   "source": [
    "# Checking that the lengths of the original and new datasets are the same\n",
    "len(rep_old), len(rep), len(syn_old), len(syn), len(tem_old), len(tem)"
   ]
  },
  {
   "cell_type": "code",
   "execution_count": 16,
   "metadata": {},
   "outputs": [
    {
     "data": {
      "text/plain": [
       "1.0    2032\n",
       "Name: abund_value, dtype: int64"
      ]
     },
     "execution_count": 16,
     "metadata": {},
     "output_type": "execute_result"
    }
   ],
   "source": [
    "# One last double-check to make sure that the datasets are the same\n",
    "# All 'abund_values' for \"individuals\" should be 1\n",
    "individuals = rep[rep['abund_unit'] == 'individuals']\n",
    "individuals['abund_value'].value_counts()"
   ]
  },
  {
   "cell_type": "markdown",
   "metadata": {},
   "source": [
    "## Filtering to BDNN columns"
   ]
  },
  {
   "cell_type": "code",
   "execution_count": 17,
   "metadata": {},
   "outputs": [
    {
     "data": {
      "text/plain": [
       "Index(['id', 'Rotated Lat', 'Rotated Lon', 'occurrence_no', 'pres_mode',\n",
       "       'preservation_quality', 'common_body_parts', 'abund_value',\n",
       "       'abund_unit', 'class', 'family', 'genus', 'taxon_environment',\n",
       "       'life_habit', 'diet', 'early_interval', 'late_interval', 'time_bins',\n",
       "       'museum', 'collection_no', 'age_max', 'age_min', 'age_median',\n",
       "       'age_uncer_range', 'lng', 'lat', 'environment', 'occurrence_comments',\n",
       "       'cc', 'state', 'county', 'formation', 'stratgroup', 'member', 'zone',\n",
       "       'accepted_rank', 'ref_author', 'ref_pubyr', 'reference_no.x',\n",
       "       'collection_name', 'collection_subset', 'collection_aka',\n",
       "       'latlng_basis', 'latlng_precision', 'geogscale', 'geogcomments',\n",
       "       'paleomodel', 'geoplate', 'paleoage', 'paleolng', 'paleolat',\n",
       "       'paleomodel2', 'geoplate2', 'paleoage2', 'paleolng2', 'paleolat2',\n",
       "       'paleomodel3', 'geoplate3', 'paleoage3', 'paleolng3', 'paleolat3',\n",
       "       'protected', 'stratscale', 'localsection', 'localbed', 'stratcomments',\n",
       "       'lithdescript', 'lithology1', 'lithadj1', 'lithification1',\n",
       "       'minor_lithology1', 'fossilsfrom1', 'lithology2', 'lithadj2',\n",
       "       'lithification2', 'minor_lithology2', 'fossilsfrom2',\n",
       "       'tectonic_setting', 'geology_comments', 'assembl_comps',\n",
       "       'articulated_parts', 'associated_parts', 'rare_body_parts',\n",
       "       'feed_pred_traces', 'artifacts', 'component_comments',\n",
       "       'spatial_resolution', 'temporal_resolution', 'lagerstatten',\n",
       "       'concentration', 'orientation', 'abund_in_sediment',\n",
       "       'collection_comments', 'taxonomy_comments'],\n",
       "      dtype='object')"
      ]
     },
     "execution_count": 17,
     "metadata": {},
     "output_type": "execute_result"
    }
   ],
   "source": [
    "rep.columns"
   ]
  },
  {
   "cell_type": "code",
   "execution_count": 89,
   "metadata": {},
   "outputs": [
    {
     "data": {
      "text/plain": [
       "Rotated Lat            0\n",
       "Rotated Lon            0\n",
       "genus                  0\n",
       "taxon_environment    310\n",
       "age_max                0\n",
       "age_min                0\n",
       "dtype: int64"
      ]
     },
     "execution_count": 89,
     "metadata": {},
     "output_type": "execute_result"
    }
   ],
   "source": [
    "# Still waiting on 'niche' info from Arielli\n",
    "syn_filtered = syn[['Rotated Lat', 'Rotated Lon', 'genus', 'taxon_environment', \n",
    "                    'age_max', 'age_min']]\n",
    "syn_filtered.isna().sum()"
   ]
  },
  {
   "cell_type": "code",
   "execution_count": 90,
   "metadata": {},
   "outputs": [
    {
     "data": {
      "text/plain": [
       "Rotated Lat           0\n",
       "Rotated Lon           0\n",
       "genus                 0\n",
       "taxon_environment    14\n",
       "age_max               0\n",
       "age_min               0\n",
       "dtype: int64"
      ]
     },
     "execution_count": 90,
     "metadata": {},
     "output_type": "execute_result"
    }
   ],
   "source": [
    "# Still waiting on 'niche' info from Arielli\n",
    "tem_filtered = tem[['Rotated Lat', 'Rotated Lon', 'genus', 'taxon_environment', \n",
    "                    'age_max', 'age_min']]\n",
    "tem_filtered.isna().sum()"
   ]
  },
  {
   "cell_type": "code",
   "execution_count": 18,
   "metadata": {},
   "outputs": [
    {
     "data": {
      "text/plain": [
       "Rotated Lat          0\n",
       "Rotated Lon          0\n",
       "genus                0\n",
       "taxon_environment    0\n",
       "age_max              0\n",
       "age_min              0\n",
       "dtype: int64"
      ]
     },
     "execution_count": 18,
     "metadata": {},
     "output_type": "execute_result"
    }
   ],
   "source": [
    "# Still waiting on 'niche' info from Arielli\n",
    "rep_filtered = rep[['Rotated Lat', 'Rotated Lon', 'genus', 'taxon_environment', \n",
    "                    'age_max', 'age_min']]\n",
    "rep_filtered.isna().sum()"
   ]
  },
  {
   "cell_type": "code",
   "execution_count": 41,
   "metadata": {},
   "outputs": [
    {
     "data": {
      "text/plain": [
       "0     terrestrial\n",
       "1     terrestrial\n",
       "2     terrestrial\n",
       "3     terrestrial\n",
       "4     terrestrial\n",
       "5     terrestrial\n",
       "6     terrestrial\n",
       "7     terrestrial\n",
       "8     terrestrial\n",
       "9     terrestrial\n",
       "10    terrestrial\n",
       "11    terrestrial\n",
       "12    terrestrial\n",
       "13    terrestrial\n",
       "14    terrestrial\n",
       "15    terrestrial\n",
       "16    terrestrial\n",
       "17    terrestrial\n",
       "18    terrestrial\n",
       "19    terrestrial\n",
       "Name: taxon_environment, dtype: object"
      ]
     },
     "execution_count": 41,
     "metadata": {},
     "output_type": "execute_result"
    }
   ],
   "source": [
    "rep_filtered['taxon_environment'].head(20)"
   ]
  },
  {
   "cell_type": "code",
   "execution_count": 42,
   "metadata": {},
   "outputs": [
    {
     "data": {
      "text/plain": [
       "0     lacustrine - large\n",
       "1     lacustrine - large\n",
       "2           fissure fill\n",
       "3           fissure fill\n",
       "4         fluvial indet.\n",
       "5     terrestrial indet.\n",
       "6     terrestrial indet.\n",
       "7           fissure fill\n",
       "8           fissure fill\n",
       "9           fissure fill\n",
       "10          fissure fill\n",
       "11          fissure fill\n",
       "12          fissure fill\n",
       "13          fissure fill\n",
       "14          fissure fill\n",
       "15          fissure fill\n",
       "16          fissure fill\n",
       "17          fissure fill\n",
       "18          fissure fill\n",
       "19          fissure fill\n",
       "Name: environment, dtype: object"
      ]
     },
     "execution_count": 42,
     "metadata": {},
     "output_type": "execute_result"
    }
   ],
   "source": [
    "rep['environment'].head(20)"
   ]
  },
  {
   "cell_type": "code",
   "execution_count": 92,
   "metadata": {},
   "outputs": [],
   "source": [
    "rep_filtered.to_csv('reptilia_processed_data/reptilia_bdnn.csv')\n",
    "syn_filtered.to_csv('synapsida_processed_data/synapsida_bdnn.csv')\n",
    "tem_filtered.to_csv('temnospondyli_processed_data/temnospondyli_bdnn.csv')\n"
   ]
  },
  {
   "cell_type": "markdown",
   "metadata": {},
   "source": [
    "## Prepping DeepDive columns"
   ]
  },
  {
   "cell_type": "code",
   "execution_count": 93,
   "metadata": {},
   "outputs": [
    {
     "data": {
      "text/html": [
       "<div>\n",
       "<style scoped>\n",
       "    .dataframe tbody tr th:only-of-type {\n",
       "        vertical-align: middle;\n",
       "    }\n",
       "\n",
       "    .dataframe tbody tr th {\n",
       "        vertical-align: top;\n",
       "    }\n",
       "\n",
       "    .dataframe thead th {\n",
       "        text-align: right;\n",
       "    }\n",
       "</style>\n",
       "<table border=\"1\" class=\"dataframe\">\n",
       "  <thead>\n",
       "    <tr style=\"text-align: right;\">\n",
       "      <th></th>\n",
       "      <th>genus</th>\n",
       "      <th>county</th>\n",
       "      <th>state</th>\n",
       "      <th>occurrence_no</th>\n",
       "    </tr>\n",
       "  </thead>\n",
       "  <tbody>\n",
       "    <tr>\n",
       "      <th>0</th>\n",
       "      <td>Icarosaurus</td>\n",
       "      <td>Hudson</td>\n",
       "      <td>New Jersey</td>\n",
       "      <td>146084</td>\n",
       "    </tr>\n",
       "    <tr>\n",
       "      <th>1</th>\n",
       "      <td>Rutiodon</td>\n",
       "      <td>Hudson</td>\n",
       "      <td>New Jersey</td>\n",
       "      <td>146085</td>\n",
       "    </tr>\n",
       "    <tr>\n",
       "      <th>2</th>\n",
       "      <td>Kuehneosuchus</td>\n",
       "      <td>Somerset</td>\n",
       "      <td>England</td>\n",
       "      <td>146086</td>\n",
       "    </tr>\n",
       "    <tr>\n",
       "      <th>3</th>\n",
       "      <td>Kuehneosaurus</td>\n",
       "      <td>Somerset</td>\n",
       "      <td>England</td>\n",
       "      <td>146087</td>\n",
       "    </tr>\n",
       "    <tr>\n",
       "      <th>4</th>\n",
       "      <td>Procolophon</td>\n",
       "      <td>Chris Hani</td>\n",
       "      <td>Eastern Cape</td>\n",
       "      <td>147521</td>\n",
       "    </tr>\n",
       "  </tbody>\n",
       "</table>\n",
       "</div>"
      ],
      "text/plain": [
       "           genus      county         state occurrence_no\n",
       "0    Icarosaurus      Hudson    New Jersey        146084\n",
       "1       Rutiodon      Hudson    New Jersey        146085\n",
       "2  Kuehneosuchus    Somerset       England        146086\n",
       "3  Kuehneosaurus    Somerset       England        146087\n",
       "4    Procolophon  Chris Hani  Eastern Cape        147521"
      ]
     },
     "execution_count": 93,
     "metadata": {},
     "output_type": "execute_result"
    }
   ],
   "source": [
    "rep_deepdive = rep[['genus', 'county', 'state', 'occurrence_no']]\n",
    "rep_deepdive.head()"
   ]
  },
  {
   "cell_type": "code",
   "execution_count": 94,
   "metadata": {},
   "outputs": [],
   "source": [
    "syn_deepdive = syn[['genus', 'county', 'state', 'occurrence_no']]\n",
    "tem_deepdive = tem[['genus', 'county', 'state', 'occurrence_no']]"
   ]
  },
  {
   "cell_type": "markdown",
   "metadata": {},
   "source": [
    "### 'County' and 'State' Cols EDA"
   ]
  },
  {
   "cell_type": "markdown",
   "metadata": {},
   "source": [
    "#### Are 'County' Null Counts Reasonable?"
   ]
  },
  {
   "cell_type": "code",
   "execution_count": 87,
   "metadata": {},
   "outputs": [
    {
     "data": {
      "text/plain": [
       "genus               0\n",
       "county           1495\n",
       "state             212\n",
       "occurrence_no       0\n",
       "dtype: int64"
      ]
     },
     "execution_count": 87,
     "metadata": {},
     "output_type": "execute_result"
    }
   ],
   "source": [
    "rep_deepdive.isna().sum()\n",
    "\n",
    "# 'county' has a lot of nulls, so I'm going to look back at the older datasets and see if that seems correct or\n",
    "# if an error occurred when I was duplicating the rows"
   ]
  },
  {
   "cell_type": "code",
   "execution_count": 88,
   "metadata": {},
   "outputs": [
    {
     "data": {
      "text/plain": [
       "1285964    300\n",
       "629477      91\n",
       "1586159     37\n",
       "902070      33\n",
       "486411      25\n",
       "          ... \n",
       "830763       1\n",
       "830777       1\n",
       "830855       1\n",
       "830859       1\n",
       "N84          1\n",
       "Name: occurrence_no, Length: 3145, dtype: int64"
      ]
     },
     "execution_count": 88,
     "metadata": {},
     "output_type": "execute_result"
    }
   ],
   "source": [
    "# Making sure occurrence no has >1 values, since there are duplicate rows (duplicated in eda_duplicates.ipynb)\n",
    "rep['occurrence_no'].value_counts()"
   ]
  },
  {
   "cell_type": "code",
   "execution_count": 24,
   "metadata": {},
   "outputs": [
    {
     "data": {
      "text/plain": [
       "genus        0\n",
       "county    1495\n",
       "state      212\n",
       "dtype: int64"
      ]
     },
     "execution_count": 24,
     "metadata": {},
     "output_type": "execute_result"
    }
   ],
   "source": [
    "# Loading in my original duplication output\n",
    "rep_original = pd.read_csv('occurrence_tables_1/reptilia_dup.csv')\n",
    "rep_original_filtered = rep_original[['genus', 'county', 'state']]\n",
    "rep_original_filtered.isna().sum()"
   ]
  },
  {
   "cell_type": "code",
   "execution_count": 27,
   "metadata": {},
   "outputs": [
    {
     "data": {
      "text/plain": [
       "genus       0\n",
       "county    920\n",
       "state     197\n",
       "dtype: int64"
      ]
     },
     "execution_count": 27,
     "metadata": {},
     "output_type": "execute_result"
    }
   ],
   "source": [
    "# Loading in the very first dataset (raw, no rotated lat and long)\n",
    "rep_old = pd.read_csv('occurrence_tables_1/reptilia_genus_occ_all.csv', encoding = 'latin1')\n",
    "rep_old_filtered = rep_old[['genus', 'county', 'state']]\n",
    "rep_old_filtered.isna().sum()"
   ]
  },
  {
   "cell_type": "markdown",
   "metadata": {},
   "source": [
    "#### Subsetting and Saving Just Duplicated Rows"
   ]
  },
  {
   "cell_type": "code",
   "execution_count": 95,
   "metadata": {},
   "outputs": [],
   "source": [
    "# Saving off just the parts in the deepdive dataset that were duplicated occurrences (i.e., the rows that were duplicated in eda_duplicates.ipynb)\n",
    "# Trying to see if there's a pattern in the 'county' nulls that I can fix\n",
    "rep_deepdive_dups = rep_deepdive[rep_deepdive.duplicated(subset=['occurrence_no'], keep=False)]\n",
    "rep_deepdive_dups.to_csv('reptilia_processed_data/reptilia_deepdive_dups.csv')\n",
    "\n",
    "syn_deepdive_dups = syn_deepdive[syn_deepdive.duplicated(subset=['occurrence_no'], keep=False)]\n",
    "syn_deepdive_dups.to_csv('synapsida_processed_data/synapsida_deepdive_dups.csv')\n",
    "\n",
    "tem_deepdive_dups = tem_deepdive[tem_deepdive.duplicated(subset=['occurrence_no'], keep=False)]\n",
    "tem_deepdive_dups.to_csv('temnospondyli_processed_data/temnospondyli_deepdive_dups.csv')"
   ]
  },
  {
   "cell_type": "markdown",
   "metadata": {},
   "source": [
    "#### Fixing Nonsensical Strings in 'County' and 'State'"
   ]
  },
  {
   "cell_type": "code",
   "execution_count": 108,
   "metadata": {},
   "outputs": [],
   "source": [
    "# Return rows in 'county' and 'state' columns that contain any non-letter characters\n",
    "import re\n",
    "\n",
    "# Function for outputting a CSV of unique values in a column that contain special characters\n",
    "def find_special_chars(df, col, clade):\n",
    "    df2 = df.copy()\n",
    "    df2[col] = df2[col].fillna('') # Have to fill empty values with something to use regex\n",
    "    non_letter = df2[df2[col].str.contains(r'[^a-zA-Z\\s\\-/]', na=False)] # Regex for non-letter characters, excluding hyphens and forward slashes\n",
    "    unique = non_letter[col].unique()\n",
    "    # Saving unique values to a CSV named after the clade and column\n",
    "    unique_df = pd.DataFrame(unique)\n",
    "    unique_df.to_csv(f'{clade}_processed_data/{clade}_{col}_special_chars.csv') \n",
    "    return unique"
   ]
  },
  {
   "cell_type": "code",
   "execution_count": 114,
   "metadata": {},
   "outputs": [
    {
     "data": {
      "text/plain": [
       "(array(['Valle Fert√É¬≠l', 'Valle F√É¬©rtil', 'Vend√É¬©e',\n",
       "        'Wei√É¬üenburg-Gunzenhausen', 'S√É¬£o Gabriel', \"Mezen'\",\n",
       "        'L√É¬∂rrach', 'Portel√É¬¢ndia', 'Perol√É¬¢ndia',\n",
       "        'S√É¬£o Mateus do Sul', 'Tatu√É¬≠', 'Rebou√É¬ßas', 'Candel√É¬°ria',\n",
       "        \"Sol'-Iletsk\", \"Sol'-Iletskiy\", 'N√É¬ºrnberger Land', \"Yuan'an\",\n",
       "        'Schw√É¬§bisch Hall', 'S√É¬£o Pedro do Sul', 'G√É¬∂ttingen',\n",
       "        'Sa√É¬¥ne-et-Loire', 'Baden-W√É¬ºrttemberg', 'Th√É¬ºringen',\n",
       "        'T√É¬ºbingen', 'S√É¬¢one-et-Loire', 'H√É¬©rault',\n",
       "        'S√É¬£o Jo√É¬£o do Pol√É¬™sine', 'Yuan√¢¬Ä¬ôan',\n",
       "        'Tarnowskie G√É¬≥ry', 'Los Colorados, La Esquina', 'Arroio do S¬õ',\n",
       "        'Linha S?o Luiz', 'Toroqu√ø', 'Ribeir?o', 'Rinc?o dos Weiss',\n",
       "        'Acegu√ø', 'Sesmaria do Pinhal 1',\n",
       "        'cff Rafael prov√øvel material do MNRJ se sao os mesmo do livro tombo, Alemoa',\n",
       "        'Cerrito?', 'Sesmaria do Pinhal 2', 'V√ørzea do Agudo',\n",
       "        '?gua Negra', 'BR 158 federal road', 'Porto Mariante 2',\n",
       "        'Sao Jose?', 'Sao Jose? (embaixo do cemit?rio coletado por Price)'],\n",
       "       dtype=object),\n",
       " array(['Baden-W√É¬ºrttemberg', \"Provence-Alpes-Cote d'Azur Region\",\n",
       "        'Nieder√É¬∂sterreich', 'T√É¬°chira', \"Mohale's Hoek\", 'Sa√É¬Øda',\n",
       "        'Sk√É¬•ne', 'Goi√É¬°s', 'Paran√É¬°', 'S√É¬£o Paulo', 'Cear√É¬°',\n",
       "        'Guair√É¬°', 'Bourgogne-Franche-Comt√É¬©', 'Baden-W√É¬ºrttenburg',\n",
       "        'Nieder√É¬∂stereich', 'Bayern (Bavaria)', 'Baden-W√É¬ºrtteberg',\n",
       "        'Baden-W√É¬ºrttemburg', 'Bansk√É¬° Bystrica', 'Graub√É¬ºnden'],\n",
       "       dtype=object))"
      ]
     },
     "execution_count": 114,
     "metadata": {},
     "output_type": "execute_result"
    }
   ],
   "source": [
    "# Reptilia\n",
    "find_special_chars(rep_deepdive, 'county', 'reptilia'), find_special_chars(rep_deepdive, 'state', 'reptilia')"
   ]
  },
  {
   "cell_type": "code",
   "execution_count": 116,
   "metadata": {},
   "outputs": [
    {
     "data": {
      "text/plain": [
       "(array([\"Sol'-Iletsk\", 'Wei√É¬üeritzkreis', \"Sol'-Iletskiy\",\n",
       "        'Schw√É¬§bisch Hall', 'T√É¬ºbingen', 'Sa√É¬¥ne-et-Loire',\n",
       "        'S√É¬£o Jo√É¬£o do Pol√É¬™sine', 'S√É¬£o Gabriel', 'Sieker,',\n",
       "        'Valle F√É¬©rtil', 'S?o Jer¬ìnimo da Serra', 'Toroqu¬†'],\n",
       "       dtype=object),\n",
       " array([\"Archangel'sk\", 'Baden-W√É¬ºrttemberg', 'Sk√É¬•ne', 'Th√É¬ºringen',\n",
       "        'Azad Jammu & Kashmir', 'Rakovn√É¬≠k', 'Th√É¬ºringer Wald',\n",
       "        'Th√É¬ºringia', 'Paran√É¬°', \"Arkhangel'sk\", 'Baden-W√É¬ºrtteberg'],\n",
       "       dtype=object))"
      ]
     },
     "execution_count": 116,
     "metadata": {},
     "output_type": "execute_result"
    }
   ],
   "source": [
    "# Temnospondyli\n",
    "find_special_chars(tem_deepdive, 'county', 'temnospondyli'), find_special_chars(tem_deepdive, 'state', 'temnospondyli')"
   ]
  },
  {
   "cell_type": "code",
   "execution_count": 115,
   "metadata": {},
   "outputs": [
    {
     "data": {
      "text/plain": [
       "(array([\"Sol'-Iletsk\", 'Valle Fert√É¬≠l', 'Kodzko (Glatz, Kladsko)',\n",
       "        'Sa√É¬¥ne-et-Loire', 'Wei√É¬üeritzkreis', 'Victoria West (Ubuntu)',\n",
       "        \"Mezen'\", \"Sol'-Iletskiy\", 'Schw√É¬§bisch Hall', 'S√É¬£o Gabriel',\n",
       "        'Candel√É¬°ria', 'Kotel√¢¬Ä¬ônichskii', 'T√É¬ºbingen',\n",
       "        '√É¬úr√É¬ºmqi', \"Zav'yalovskii\", \"Afanas'evskii\", \"Sarapul'skii\",\n",
       "        \"Oktyabr'skii\", \"Tyul'ganskii\", 'H√É¬©rault', 'Valle F√É¬©rtil',\n",
       "        'Vila Est¬Éncia Nova', 'Linha S?o Luiz', 'Linha S?o Luiz ',\n",
       "        'Sesmaria do Pinhal 1', 'V¬†rzea do Agudo', 'Botucara¬°',\n",
       "        'Rinc?o do Pinhal', 'Linha V¬†rzea 2', 'Linha V¬†rzea 1',\n",
       "        'Rinc?o do Semi?o ', 'Porto Mariante 2', 'Rinc?o da Porta',\n",
       "        'Catu¬áaba', 'BR 158 federal road', 'Linha Fac?o', 'Chiniqu¬†'],\n",
       "       dtype=object),\n",
       " array(['Franch-Comt√É¬©', \"Mohale's Hoek\", 'R√É¬≠o Negro',\n",
       "        'Baden-W√É¬ºrttemberg', 'Rakovn√É¬≠k', 'Paran√É¬°', 'H√É¬©rault'],\n",
       "       dtype=object))"
      ]
     },
     "execution_count": 115,
     "metadata": {},
     "output_type": "execute_result"
    }
   ],
   "source": [
    "# Synapsida\n",
    "find_special_chars(syn_deepdive, 'county', 'synapsida'), find_special_chars(syn_deepdive, 'state', 'synapsida')"
   ]
  },
  {
   "cell_type": "markdown",
   "metadata": {},
   "source": [
    "#### Imputing 'County' Nulls"
   ]
  },
  {
   "cell_type": "code",
   "execution_count": null,
   "metadata": {},
   "outputs": [],
   "source": [
    "rep_deepdive['county'] = rep_deepdive.apply(lambda row: row['state'] if row['county'] == '-' else row['county'], axis=1)\n",
    "\n",
    "rep_deepdive.loc[rep_deepdive['county'] == '-'] = rep_deepdive['state']"
   ]
  },
  {
   "cell_type": "code",
   "execution_count": 55,
   "metadata": {},
   "outputs": [
    {
     "data": {
      "text/plain": [
       "43"
      ]
     },
     "execution_count": 55,
     "metadata": {},
     "output_type": "execute_result"
    }
   ],
   "source": [
    "len(rep_deepdive[rep_deepdive['county'] == \"-\"])"
   ]
  },
  {
   "cell_type": "code",
   "execution_count": 56,
   "metadata": {},
   "outputs": [
    {
     "data": {
      "text/html": [
       "<div>\n",
       "<style scoped>\n",
       "    .dataframe tbody tr th:only-of-type {\n",
       "        vertical-align: middle;\n",
       "    }\n",
       "\n",
       "    .dataframe tbody tr th {\n",
       "        vertical-align: top;\n",
       "    }\n",
       "\n",
       "    .dataframe thead th {\n",
       "        text-align: right;\n",
       "    }\n",
       "</style>\n",
       "<table border=\"1\" class=\"dataframe\">\n",
       "  <thead>\n",
       "    <tr style=\"text-align: right;\">\n",
       "      <th></th>\n",
       "      <th>id</th>\n",
       "      <th>genus</th>\n",
       "      <th>county</th>\n",
       "      <th>state</th>\n",
       "      <th>occurrence_no</th>\n",
       "    </tr>\n",
       "  </thead>\n",
       "  <tbody>\n",
       "    <tr>\n",
       "      <th>4245</th>\n",
       "      <td>166</td>\n",
       "      <td>Pareiasaurus</td>\n",
       "      <td>-</td>\n",
       "      <td>ECAPE</td>\n",
       "      <td>N100</td>\n",
       "    </tr>\n",
       "    <tr>\n",
       "      <th>4246</th>\n",
       "      <td>165</td>\n",
       "      <td>Erythrosuchus</td>\n",
       "      <td>-</td>\n",
       "      <td>ECAPE</td>\n",
       "      <td>N101</td>\n",
       "    </tr>\n",
       "    <tr>\n",
       "      <th>4247</th>\n",
       "      <td>164</td>\n",
       "      <td>Erythrosuchus</td>\n",
       "      <td>-</td>\n",
       "      <td>ECAPE</td>\n",
       "      <td>N102</td>\n",
       "    </tr>\n",
       "    <tr>\n",
       "      <th>4248</th>\n",
       "      <td>163</td>\n",
       "      <td>Erythrosuchus</td>\n",
       "      <td>-</td>\n",
       "      <td>ECAPE</td>\n",
       "      <td>N103</td>\n",
       "    </tr>\n",
       "    <tr>\n",
       "      <th>4249</th>\n",
       "      <td>162</td>\n",
       "      <td>Pareiasuchus</td>\n",
       "      <td>-</td>\n",
       "      <td>WCAPE</td>\n",
       "      <td>N104</td>\n",
       "    </tr>\n",
       "    <tr>\n",
       "      <th>4250</th>\n",
       "      <td>161</td>\n",
       "      <td>Eohyosaurus</td>\n",
       "      <td>-</td>\n",
       "      <td>FSTATE</td>\n",
       "      <td>N105</td>\n",
       "    </tr>\n",
       "    <tr>\n",
       "      <th>4251</th>\n",
       "      <td>160</td>\n",
       "      <td>Erythrosuchus</td>\n",
       "      <td>-</td>\n",
       "      <td>WCAPE</td>\n",
       "      <td>N106</td>\n",
       "    </tr>\n",
       "    <tr>\n",
       "      <th>4252</th>\n",
       "      <td>159</td>\n",
       "      <td>Erythrosuchus</td>\n",
       "      <td>-</td>\n",
       "      <td>ECAPE</td>\n",
       "      <td>N107</td>\n",
       "    </tr>\n",
       "    <tr>\n",
       "      <th>4253</th>\n",
       "      <td>158</td>\n",
       "      <td>Erythrosuchus</td>\n",
       "      <td>-</td>\n",
       "      <td>WCAPE</td>\n",
       "      <td>N108</td>\n",
       "    </tr>\n",
       "    <tr>\n",
       "      <th>4254</th>\n",
       "      <td>157</td>\n",
       "      <td>Erythrosuchus</td>\n",
       "      <td>-</td>\n",
       "      <td>WCAPE</td>\n",
       "      <td>N109</td>\n",
       "    </tr>\n",
       "    <tr>\n",
       "      <th>4255</th>\n",
       "      <td>156</td>\n",
       "      <td>Erythrosuchus</td>\n",
       "      <td>-</td>\n",
       "      <td>WCAPE</td>\n",
       "      <td>N110</td>\n",
       "    </tr>\n",
       "    <tr>\n",
       "      <th>4256</th>\n",
       "      <td>155</td>\n",
       "      <td>Stenaulorhynchus</td>\n",
       "      <td>-</td>\n",
       "      <td>Tanganyika</td>\n",
       "      <td>N111</td>\n",
       "    </tr>\n",
       "    <tr>\n",
       "      <th>4257</th>\n",
       "      <td>154</td>\n",
       "      <td>Stenaulorhynchus</td>\n",
       "      <td>-</td>\n",
       "      <td>Tanganyika</td>\n",
       "      <td>N112</td>\n",
       "    </tr>\n",
       "    <tr>\n",
       "      <th>4277</th>\n",
       "      <td>134</td>\n",
       "      <td>Hyperodapedon</td>\n",
       "      <td>-</td>\n",
       "      <td>RS</td>\n",
       "      <td>N132</td>\n",
       "    </tr>\n",
       "    <tr>\n",
       "      <th>4281</th>\n",
       "      <td>130</td>\n",
       "      <td>Teyumbaita</td>\n",
       "      <td>-</td>\n",
       "      <td>RS</td>\n",
       "      <td>N136</td>\n",
       "    </tr>\n",
       "    <tr>\n",
       "      <th>4283</th>\n",
       "      <td>128</td>\n",
       "      <td>Hyperodapedon</td>\n",
       "      <td>-</td>\n",
       "      <td>RS</td>\n",
       "      <td>N138</td>\n",
       "    </tr>\n",
       "    <tr>\n",
       "      <th>4291</th>\n",
       "      <td>120</td>\n",
       "      <td>Hyperodapedon</td>\n",
       "      <td>-</td>\n",
       "      <td>RS</td>\n",
       "      <td>N146</td>\n",
       "    </tr>\n",
       "    <tr>\n",
       "      <th>4302</th>\n",
       "      <td>109</td>\n",
       "      <td>Hyperodapedon</td>\n",
       "      <td>-</td>\n",
       "      <td>RS</td>\n",
       "      <td>N156</td>\n",
       "    </tr>\n",
       "    <tr>\n",
       "      <th>4303</th>\n",
       "      <td>108</td>\n",
       "      <td>Hyperodapedon</td>\n",
       "      <td>-</td>\n",
       "      <td>RS</td>\n",
       "      <td>N157</td>\n",
       "    </tr>\n",
       "    <tr>\n",
       "      <th>4304</th>\n",
       "      <td>107</td>\n",
       "      <td>Hyperodapedon</td>\n",
       "      <td>-</td>\n",
       "      <td>RS</td>\n",
       "      <td>N158</td>\n",
       "    </tr>\n",
       "    <tr>\n",
       "      <th>4305</th>\n",
       "      <td>106</td>\n",
       "      <td>Procolophon</td>\n",
       "      <td>-</td>\n",
       "      <td>RS</td>\n",
       "      <td>N159</td>\n",
       "    </tr>\n",
       "    <tr>\n",
       "      <th>4308</th>\n",
       "      <td>103</td>\n",
       "      <td>Procolophon</td>\n",
       "      <td>-</td>\n",
       "      <td>RS</td>\n",
       "      <td>N161</td>\n",
       "    </tr>\n",
       "    <tr>\n",
       "      <th>4309</th>\n",
       "      <td>102</td>\n",
       "      <td>Procolophon</td>\n",
       "      <td>-</td>\n",
       "      <td>RS</td>\n",
       "      <td>N162</td>\n",
       "    </tr>\n",
       "    <tr>\n",
       "      <th>4321</th>\n",
       "      <td>90</td>\n",
       "      <td>Hyperodapedon</td>\n",
       "      <td>-</td>\n",
       "      <td>RS</td>\n",
       "      <td>N173</td>\n",
       "    </tr>\n",
       "    <tr>\n",
       "      <th>4326</th>\n",
       "      <td>85</td>\n",
       "      <td>Hyperodapedon</td>\n",
       "      <td>-</td>\n",
       "      <td>RS</td>\n",
       "      <td>N179</td>\n",
       "    </tr>\n",
       "    <tr>\n",
       "      <th>4355</th>\n",
       "      <td>56</td>\n",
       "      <td>Provelosaurus</td>\n",
       "      <td>-</td>\n",
       "      <td>RS</td>\n",
       "      <td>N25</td>\n",
       "    </tr>\n",
       "    <tr>\n",
       "      <th>4356</th>\n",
       "      <td>55</td>\n",
       "      <td>Provelosaurus</td>\n",
       "      <td>-</td>\n",
       "      <td>RS</td>\n",
       "      <td>N26</td>\n",
       "    </tr>\n",
       "    <tr>\n",
       "      <th>4357</th>\n",
       "      <td>54</td>\n",
       "      <td>Provelosaurus</td>\n",
       "      <td>-</td>\n",
       "      <td>RS</td>\n",
       "      <td>N27</td>\n",
       "    </tr>\n",
       "    <tr>\n",
       "      <th>4361</th>\n",
       "      <td>50</td>\n",
       "      <td>Procolophon</td>\n",
       "      <td>-</td>\n",
       "      <td>RS</td>\n",
       "      <td>N31</td>\n",
       "    </tr>\n",
       "    <tr>\n",
       "      <th>4362</th>\n",
       "      <td>49</td>\n",
       "      <td>Procolophon</td>\n",
       "      <td>-</td>\n",
       "      <td>RS</td>\n",
       "      <td>N32</td>\n",
       "    </tr>\n",
       "    <tr>\n",
       "      <th>4363</th>\n",
       "      <td>48</td>\n",
       "      <td>Teyumbaita</td>\n",
       "      <td>-</td>\n",
       "      <td>RS</td>\n",
       "      <td>N33</td>\n",
       "    </tr>\n",
       "    <tr>\n",
       "      <th>4372</th>\n",
       "      <td>39</td>\n",
       "      <td>Candelaria</td>\n",
       "      <td>-</td>\n",
       "      <td>RS</td>\n",
       "      <td>N42</td>\n",
       "    </tr>\n",
       "    <tr>\n",
       "      <th>4379</th>\n",
       "      <td>32</td>\n",
       "      <td>Parvosuchus</td>\n",
       "      <td>-</td>\n",
       "      <td>RS</td>\n",
       "      <td>N49</td>\n",
       "    </tr>\n",
       "    <tr>\n",
       "      <th>4385</th>\n",
       "      <td>26</td>\n",
       "      <td>Prestosuchus</td>\n",
       "      <td>-</td>\n",
       "      <td>RS</td>\n",
       "      <td>N56</td>\n",
       "    </tr>\n",
       "    <tr>\n",
       "      <th>4390</th>\n",
       "      <td>21</td>\n",
       "      <td>Hyperodapedon</td>\n",
       "      <td>-</td>\n",
       "      <td>RS</td>\n",
       "      <td>N62</td>\n",
       "    </tr>\n",
       "    <tr>\n",
       "      <th>4394</th>\n",
       "      <td>17</td>\n",
       "      <td>Prestosuchus</td>\n",
       "      <td>-</td>\n",
       "      <td>RS</td>\n",
       "      <td>N68</td>\n",
       "    </tr>\n",
       "    <tr>\n",
       "      <th>4399</th>\n",
       "      <td>12</td>\n",
       "      <td>Hyperodapedon</td>\n",
       "      <td>-</td>\n",
       "      <td>RS</td>\n",
       "      <td>N73</td>\n",
       "    </tr>\n",
       "    <tr>\n",
       "      <th>4400</th>\n",
       "      <td>11</td>\n",
       "      <td>Prestosuchus</td>\n",
       "      <td>-</td>\n",
       "      <td>RS</td>\n",
       "      <td>N74</td>\n",
       "    </tr>\n",
       "    <tr>\n",
       "      <th>4406</th>\n",
       "      <td>5</td>\n",
       "      <td>Eohyosaurus</td>\n",
       "      <td>-</td>\n",
       "      <td>FSTATE</td>\n",
       "      <td>N80</td>\n",
       "    </tr>\n",
       "    <tr>\n",
       "      <th>4407</th>\n",
       "      <td>4</td>\n",
       "      <td>Mesosuchus</td>\n",
       "      <td>-</td>\n",
       "      <td>ECAPE</td>\n",
       "      <td>N81</td>\n",
       "    </tr>\n",
       "    <tr>\n",
       "      <th>4408</th>\n",
       "      <td>3</td>\n",
       "      <td>Mesosuchus</td>\n",
       "      <td>-</td>\n",
       "      <td>ECAPE</td>\n",
       "      <td>N82</td>\n",
       "    </tr>\n",
       "    <tr>\n",
       "      <th>4409</th>\n",
       "      <td>2</td>\n",
       "      <td>Mesosuchus</td>\n",
       "      <td>-</td>\n",
       "      <td>ECAPE</td>\n",
       "      <td>N83</td>\n",
       "    </tr>\n",
       "    <tr>\n",
       "      <th>4410</th>\n",
       "      <td>1</td>\n",
       "      <td>Stenaulorhynchus</td>\n",
       "      <td>-</td>\n",
       "      <td>Tanganyika</td>\n",
       "      <td>N84</td>\n",
       "    </tr>\n",
       "  </tbody>\n",
       "</table>\n",
       "</div>"
      ],
      "text/plain": [
       "       id             genus county       state occurrence_no\n",
       "4245  166      Pareiasaurus      -       ECAPE          N100\n",
       "4246  165     Erythrosuchus      -       ECAPE          N101\n",
       "4247  164     Erythrosuchus      -       ECAPE          N102\n",
       "4248  163     Erythrosuchus      -       ECAPE          N103\n",
       "4249  162      Pareiasuchus      -       WCAPE          N104\n",
       "4250  161       Eohyosaurus      -      FSTATE          N105\n",
       "4251  160     Erythrosuchus      -       WCAPE          N106\n",
       "4252  159     Erythrosuchus      -       ECAPE          N107\n",
       "4253  158     Erythrosuchus      -       WCAPE          N108\n",
       "4254  157     Erythrosuchus      -       WCAPE          N109\n",
       "4255  156     Erythrosuchus      -       WCAPE          N110\n",
       "4256  155  Stenaulorhynchus      -  Tanganyika          N111\n",
       "4257  154  Stenaulorhynchus      -  Tanganyika          N112\n",
       "4277  134     Hyperodapedon      -          RS          N132\n",
       "4281  130        Teyumbaita      -          RS          N136\n",
       "4283  128     Hyperodapedon      -          RS          N138\n",
       "4291  120     Hyperodapedon      -          RS          N146\n",
       "4302  109     Hyperodapedon      -          RS          N156\n",
       "4303  108     Hyperodapedon      -          RS          N157\n",
       "4304  107     Hyperodapedon      -          RS          N158\n",
       "4305  106       Procolophon      -          RS          N159\n",
       "4308  103       Procolophon      -          RS          N161\n",
       "4309  102       Procolophon      -          RS          N162\n",
       "4321   90     Hyperodapedon      -          RS          N173\n",
       "4326   85     Hyperodapedon      -          RS          N179\n",
       "4355   56     Provelosaurus      -          RS           N25\n",
       "4356   55     Provelosaurus      -          RS           N26\n",
       "4357   54     Provelosaurus      -          RS           N27\n",
       "4361   50       Procolophon      -          RS           N31\n",
       "4362   49       Procolophon      -          RS           N32\n",
       "4363   48        Teyumbaita      -          RS           N33\n",
       "4372   39        Candelaria      -          RS           N42\n",
       "4379   32       Parvosuchus      -          RS           N49\n",
       "4385   26      Prestosuchus      -          RS           N56\n",
       "4390   21     Hyperodapedon      -          RS           N62\n",
       "4394   17      Prestosuchus      -          RS           N68\n",
       "4399   12     Hyperodapedon      -          RS           N73\n",
       "4400   11      Prestosuchus      -          RS           N74\n",
       "4406    5       Eohyosaurus      -      FSTATE           N80\n",
       "4407    4        Mesosuchus      -       ECAPE           N81\n",
       "4408    3        Mesosuchus      -       ECAPE           N82\n",
       "4409    2        Mesosuchus      -       ECAPE           N83\n",
       "4410    1  Stenaulorhynchus      -  Tanganyika           N84"
      ]
     },
     "execution_count": 56,
     "metadata": {},
     "output_type": "execute_result"
    }
   ],
   "source": [
    "rep_deepdive[rep_deepdive['county'] == \"-\"]"
   ]
  },
  {
   "cell_type": "code",
   "execution_count": null,
   "metadata": {},
   "outputs": [],
   "source": []
  }
 ],
 "metadata": {
  "kernelspec": {
   "display_name": "env",
   "language": "python",
   "name": "python3"
  },
  "language_info": {
   "codemirror_mode": {
    "name": "ipython",
    "version": 3
   },
   "file_extension": ".py",
   "mimetype": "text/x-python",
   "name": "python",
   "nbconvert_exporter": "python",
   "pygments_lexer": "ipython3",
   "version": "3.10.14"
  }
 },
 "nbformat": 4,
 "nbformat_minor": 2
}
